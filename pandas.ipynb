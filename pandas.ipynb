{
 "cells": [
  {
   "cell_type": "code",
   "execution_count": null,
   "id": "97f6d859",
   "metadata": {},
   "outputs": [],
   "source": [
    "import pandas as pd\n",
    "import numpy as np"
   ]
  },
  {
   "cell_type": "code",
   "execution_count": null,
   "id": "0e0b8d31",
   "metadata": {},
   "outputs": [],
   "source": [
    "df = pd.DataFrame(np.arange(0,20).reshape(5,4),index = ['Row1','Row2','Row3','Row4','Row5'],columns=['Column1','Column2','Column3','Column4'])"
   ]
  },
  {
   "cell_type": "code",
   "execution_count": null,
   "id": "99826081",
   "metadata": {},
   "outputs": [],
   "source": [
    "df"
   ]
  },
  {
   "cell_type": "code",
   "execution_count": null,
   "id": "6adff0c9",
   "metadata": {},
   "outputs": [],
   "source": [
    "df.to_csv('Test1.csv')"
   ]
  },
  {
   "cell_type": "code",
   "execution_count": null,
   "id": "9c458259",
   "metadata": {},
   "outputs": [],
   "source": [
    "### accessing elements \n",
    "###   1.     .loc     -----    focuses on row only \n",
    "###   2.     .iloc    ------    focuses on row and column both   "
   ]
  },
  {
   "cell_type": "code",
   "execution_count": null,
   "id": "175c27af",
   "metadata": {},
   "outputs": [],
   "source": [
    "df.loc['Row1']"
   ]
  },
  {
   "cell_type": "code",
   "execution_count": null,
   "id": "47b245f5",
   "metadata": {},
   "outputs": [],
   "source": [
    "type(df.loc['Row1'])"
   ]
  },
  {
   "cell_type": "code",
   "execution_count": null,
   "id": "3fd1a160",
   "metadata": {},
   "outputs": [],
   "source": [
    "df.iloc[0:3,0:2]"
   ]
  },
  {
   "cell_type": "code",
   "execution_count": null,
   "id": "88951369",
   "metadata": {},
   "outputs": [],
   "source": [
    "df.iloc[0:2,0:2]"
   ]
  },
  {
   "cell_type": "code",
   "execution_count": null,
   "id": "d9b781d6",
   "metadata": {},
   "outputs": [],
   "source": [
    "type(df.iloc[0:2,0:2])"
   ]
  },
  {
   "cell_type": "code",
   "execution_count": null,
   "id": "fb9a2fe7",
   "metadata": {},
   "outputs": [],
   "source": [
    "type(df.iloc[0:2,0:1])"
   ]
  },
  {
   "cell_type": "code",
   "execution_count": null,
   "id": "85df0813",
   "metadata": {},
   "outputs": [],
   "source": [
    "df.iloc[0:2,0]"
   ]
  },
  {
   "cell_type": "code",
   "execution_count": null,
   "id": "f55c6227",
   "metadata": {},
   "outputs": [],
   "source": [
    "type(df.iloc[0:2,0])"
   ]
  },
  {
   "cell_type": "code",
   "execution_count": null,
   "id": "512d2779",
   "metadata": {},
   "outputs": [],
   "source": [
    "df.iloc[:,1:]"
   ]
  },
  {
   "cell_type": "code",
   "execution_count": null,
   "id": "1dd90b3b",
   "metadata": {},
   "outputs": [],
   "source": [
    "#### convert DataFrame into array\n",
    "df.iloc[:,:].values"
   ]
  },
  {
   "cell_type": "code",
   "execution_count": null,
   "id": "ae2c51a2",
   "metadata": {},
   "outputs": [],
   "source": [
    "df.iloc[:,:].values.shape"
   ]
  },
  {
   "cell_type": "code",
   "execution_count": null,
   "id": "acf09f4c",
   "metadata": {},
   "outputs": [],
   "source": [
    "df.isnull()"
   ]
  },
  {
   "cell_type": "code",
   "execution_count": null,
   "id": "521a9a77",
   "metadata": {},
   "outputs": [],
   "source": [
    "df.isnull().sum()"
   ]
  },
  {
   "cell_type": "code",
   "execution_count": null,
   "id": "b46dfbb9",
   "metadata": {},
   "outputs": [],
   "source": [
    "df"
   ]
  },
  {
   "cell_type": "code",
   "execution_count": null,
   "id": "8388a55c",
   "metadata": {},
   "outputs": [],
   "source": [
    "df['Column1'].value_counts()"
   ]
  },
  {
   "cell_type": "code",
   "execution_count": null,
   "id": "e3faff88",
   "metadata": {},
   "outputs": [],
   "source": [
    "df[\"Column1\"].unique()"
   ]
  },
  {
   "cell_type": "code",
   "execution_count": null,
   "id": "ca383d9e",
   "metadata": {},
   "outputs": [],
   "source": [
    "df[[\"Column3\",\"Column4\"]]"
   ]
  },
  {
   "cell_type": "code",
   "execution_count": null,
   "id": "8714dc78",
   "metadata": {},
   "outputs": [],
   "source": [
    "df = pd.read_csv(\"mercedesbenz.csv\")"
   ]
  },
  {
   "cell_type": "code",
   "execution_count": null,
   "id": "71a0ca90",
   "metadata": {},
   "outputs": [],
   "source": [
    "df"
   ]
  },
  {
   "cell_type": "code",
   "execution_count": null,
   "id": "572c8873",
   "metadata": {},
   "outputs": [],
   "source": [
    "df.head()"
   ]
  },
  {
   "cell_type": "code",
   "execution_count": null,
   "id": "1276e90c",
   "metadata": {},
   "outputs": [],
   "source": [
    "df.info()"
   ]
  },
  {
   "cell_type": "code",
   "execution_count": null,
   "id": "73ace427",
   "metadata": {},
   "outputs": [],
   "source": [
    "df.describe()"
   ]
  },
  {
   "cell_type": "code",
   "execution_count": null,
   "id": "87fbd09d",
   "metadata": {},
   "outputs": [],
   "source": [
    "df['X0'].value_counts()"
   ]
  },
  {
   "cell_type": "code",
   "execution_count": null,
   "id": "7e493088",
   "metadata": {},
   "outputs": [],
   "source": [
    "df[df['y']>100]"
   ]
  },
  {
   "cell_type": "code",
   "execution_count": null,
   "id": "c3e047b5",
   "metadata": {},
   "outputs": [],
   "source": [
    "df['y']>100"
   ]
  },
  {
   "cell_type": "markdown",
   "id": "d590eae8",
   "metadata": {},
   "source": [
    "##  CSV"
   ]
  },
  {
   "cell_type": "code",
   "execution_count": null,
   "id": "0da7762d",
   "metadata": {},
   "outputs": [],
   "source": [
    "from io import StringIO,BytesIO"
   ]
  },
  {
   "cell_type": "code",
   "execution_count": null,
   "id": "b0e4f2b4",
   "metadata": {},
   "outputs": [],
   "source": [
    "data  = ('col1,col2,col3\\n'\n",
    "           'x,y,z\\n'\n",
    "            'a,b,1\\n'\n",
    "             'c,d,3')"
   ]
  },
  {
   "cell_type": "code",
   "execution_count": null,
   "id": "a7e4cc84",
   "metadata": {},
   "outputs": [],
   "source": [
    "type(data)"
   ]
  },
  {
   "cell_type": "code",
   "execution_count": null,
   "id": "7dd7905e",
   "metadata": {},
   "outputs": [],
   "source": [
    "StringIO()"
   ]
  },
  {
   "cell_type": "code",
   "execution_count": null,
   "id": "21562d21",
   "metadata": {},
   "outputs": [],
   "source": [
    "pd.read_csv(StringIO(data))"
   ]
  },
  {
   "cell_type": "code",
   "execution_count": null,
   "id": "123c243e",
   "metadata": {},
   "outputs": [],
   "source": [
    "df = pd.read_csv(StringIO(data),usecols = ['col1','col3'])"
   ]
  },
  {
   "cell_type": "code",
   "execution_count": null,
   "id": "9f139dd3",
   "metadata": {},
   "outputs": [],
   "source": [
    "df"
   ]
  },
  {
   "cell_type": "code",
   "execution_count": null,
   "id": "6a897c9e",
   "metadata": {},
   "outputs": [],
   "source": [
    "df.to_csv(\"Test.csv\")"
   ]
  },
  {
   "cell_type": "code",
   "execution_count": null,
   "id": "62e4ab16",
   "metadata": {},
   "outputs": [],
   "source": [
    "data = ('a,b,c,d\\n'\n",
    "       '1,2,3,4\\n'\n",
    "       '5,6,7,8\\n'\n",
    "       '9,10,11')"
   ]
  },
  {
   "cell_type": "code",
   "execution_count": null,
   "id": "7b715573",
   "metadata": {},
   "outputs": [],
   "source": [
    "print(data)"
   ]
  },
  {
   "cell_type": "code",
   "execution_count": null,
   "id": "1dd3defe",
   "metadata": {},
   "outputs": [],
   "source": [
    "df = pd.read_csv(StringIO(data),dtype = object)       ##### here object means all values in data will become string and if it was int than all values in data will become integer "
   ]
  },
  {
   "cell_type": "code",
   "execution_count": null,
   "id": "846f78db",
   "metadata": {},
   "outputs": [],
   "source": [
    "df"
   ]
  },
  {
   "cell_type": "code",
   "execution_count": null,
   "id": "00bd5be0",
   "metadata": {},
   "outputs": [],
   "source": [
    "df['a']"
   ]
  },
  {
   "cell_type": "code",
   "execution_count": null,
   "id": "3b91b043",
   "metadata": {},
   "outputs": [],
   "source": [
    "data = ('a,b,c,d\\n'\n",
    "       '1,2,3,4\\n'\n",
    "       '5,6,7,8\\n'\n",
    "       '9,10,11,12')"
   ]
  },
  {
   "cell_type": "code",
   "execution_count": null,
   "id": "678b16b9",
   "metadata": {},
   "outputs": [],
   "source": [
    "df = pd.read_csv(StringIO(data),dtype = int)       ##### here object means all values in data will become string and if it was int than all values in data will become integer "
   ]
  },
  {
   "cell_type": "code",
   "execution_count": null,
   "id": "90707096",
   "metadata": {},
   "outputs": [],
   "source": [
    "df['a']"
   ]
  },
  {
   "cell_type": "code",
   "execution_count": null,
   "id": "1bd0777c",
   "metadata": {},
   "outputs": [],
   "source": [
    "df = pd.read_csv(StringIO(data),dtype = float)       ##### here object means all values in data will become string and if it was int than all values in data will become integer "
   ]
  },
  {
   "cell_type": "code",
   "execution_count": null,
   "id": "3f716137",
   "metadata": {},
   "outputs": [],
   "source": [
    "df"
   ]
  },
  {
   "cell_type": "code",
   "execution_count": null,
   "id": "77a3a6ea",
   "metadata": {},
   "outputs": [],
   "source": [
    "df[\"a\"]"
   ]
  },
  {
   "cell_type": "code",
   "execution_count": null,
   "id": "0d6786e9",
   "metadata": {},
   "outputs": [],
   "source": [
    "df = pd.read_csv(StringIO(data),dtype = {'b':int,'c':float,'a':'Int64'})       ##### here object means all values in data will become string and if it was int than all values in data will become integer "
   ]
  },
  {
   "cell_type": "code",
   "execution_count": null,
   "id": "d8ebbfaf",
   "metadata": {},
   "outputs": [],
   "source": [
    "df"
   ]
  },
  {
   "cell_type": "code",
   "execution_count": null,
   "id": "10057411",
   "metadata": {},
   "outputs": [],
   "source": [
    "df['a'][1]  "
   ]
  },
  {
   "cell_type": "code",
   "execution_count": null,
   "id": "820bf72f",
   "metadata": {},
   "outputs": [],
   "source": [
    "type(df['a'][1])"
   ]
  },
  {
   "cell_type": "code",
   "execution_count": null,
   "id": "06ca215f",
   "metadata": {},
   "outputs": [],
   "source": [
    "#### check the datatypes"
   ]
  },
  {
   "cell_type": "code",
   "execution_count": null,
   "id": "8070adfb",
   "metadata": {},
   "outputs": [],
   "source": [
    "df.dtypes"
   ]
  },
  {
   "cell_type": "code",
   "execution_count": null,
   "id": "30bd4e1b",
   "metadata": {},
   "outputs": [],
   "source": [
    "data = ('index,a,b,c\\n'\n",
    "         '4,apple,bat,5.7\\n'\n",
    "          '8,orange,cow,10')"
   ]
  },
  {
   "cell_type": "code",
   "execution_count": null,
   "id": "63234b8a",
   "metadata": {},
   "outputs": [],
   "source": [
    "pd.read_csv(StringIO(data))"
   ]
  },
  {
   "cell_type": "code",
   "execution_count": null,
   "id": "077e6ace",
   "metadata": {},
   "outputs": [],
   "source": [
    "pd.read_csv(StringIO(data),index_col = 0)      ###index_col will use the specified col as index like here 0 is specified  so 0th column will become index"
   ]
  },
  {
   "cell_type": "code",
   "execution_count": null,
   "id": "ae08550f",
   "metadata": {},
   "outputs": [],
   "source": [
    "data = ('a,b,c\\n'\n",
    "       '4,apple,bat,\\n'\n",
    "        '8,orange,cow,' )"
   ]
  },
  {
   "cell_type": "code",
   "execution_count": null,
   "id": "de76cb8e",
   "metadata": {},
   "outputs": [],
   "source": [
    "pd.read_csv(StringIO(data))"
   ]
  },
  {
   "cell_type": "code",
   "execution_count": null,
   "id": "fa6fae46",
   "metadata": {},
   "outputs": [],
   "source": [
    "pd.read_csv(StringIO(data),index_col = False)"
   ]
  },
  {
   "cell_type": "code",
   "execution_count": null,
   "id": "07282320",
   "metadata": {},
   "outputs": [],
   "source": [
    "pd.read_csv(StringIO(data),usecols = ['b','c'],index_col = False)"
   ]
  },
  {
   "cell_type": "code",
   "execution_count": null,
   "id": "747170ef",
   "metadata": {},
   "outputs": [],
   "source": [
    "data  = 'a,b\\n\"hello, \\\\\"Bob\\\\\",nice to see you\",5'"
   ]
  },
  {
   "cell_type": "code",
   "execution_count": null,
   "id": "7556d43a",
   "metadata": {},
   "outputs": [],
   "source": [
    "pd.read_csv(StringIO(data),escapechar = '\\\\')"
   ]
  },
  {
   "cell_type": "code",
   "execution_count": null,
   "id": "491cc587",
   "metadata": {},
   "outputs": [],
   "source": [
    "df = pd.read_csv('https://download.bls.gov/pub/time.series/cu/cu.item',\n",
    "                sep = '\\t')"
   ]
  },
  {
   "cell_type": "code",
   "execution_count": null,
   "id": "da99c39c",
   "metadata": {},
   "outputs": [],
   "source": [
    "df.head()"
   ]
  },
  {
   "cell_type": "markdown",
   "id": "04692a2e",
   "metadata": {},
   "source": [
    "## Read Json to CSV"
   ]
  },
  {
   "cell_type": "code",
   "execution_count": null,
   "id": "0daddb8a",
   "metadata": {},
   "outputs": [],
   "source": [
    "Data  ='{\"employee_name\":\"James\",\"email\":\"james@gmail.com\",\"job_profile\":[{\"title1\":\"Team Lead\",\"title2\":\"Sr. Developer\"}]}'\n",
    "df1 = pd.read_json(Data)"
   ]
  },
  {
   "cell_type": "code",
   "execution_count": null,
   "id": "2bf43879",
   "metadata": {},
   "outputs": [],
   "source": [
    "df = pd.read_csv('https://archive.ics.uci.edu/ml/machine-learning-databases/wine/wine.data',header = None)"
   ]
  },
  {
   "cell_type": "code",
   "execution_count": null,
   "id": "ae25caf6",
   "metadata": {},
   "outputs": [],
   "source": [
    "df.head()"
   ]
  },
  {
   "cell_type": "code",
   "execution_count": null,
   "id": "5510f418",
   "metadata": {},
   "outputs": [],
   "source": [
    "##  convert json and csv\n",
    "df.to_csv(\"wine.csv\")"
   ]
  },
  {
   "cell_type": "code",
   "execution_count": null,
   "id": "5d0439cf",
   "metadata": {},
   "outputs": [],
   "source": [
    "### convert json to different json formats\n",
    "\n",
    "df1.to_json()"
   ]
  },
  {
   "cell_type": "code",
   "execution_count": null,
   "id": "95aa543d",
   "metadata": {},
   "outputs": [],
   "source": [
    "df1"
   ]
  },
  {
   "cell_type": "code",
   "execution_count": null,
   "id": "218bb0c4",
   "metadata": {},
   "outputs": [],
   "source": [
    "df1.to_json(orient = 'records')"
   ]
  },
  {
   "cell_type": "code",
   "execution_count": null,
   "id": "6b56afcc",
   "metadata": {},
   "outputs": [],
   "source": [
    "df.to_json(orient = 'records')"
   ]
  },
  {
   "cell_type": "markdown",
   "id": "8c4b793c",
   "metadata": {},
   "source": [
    "## Reading HTML Content"
   ]
  },
  {
   "cell_type": "code",
   "execution_count": null,
   "id": "e0eeb42e",
   "metadata": {},
   "outputs": [],
   "source": [
    "##### when saying html content then we are basically saying that we are reading HTML table from HTML content"
   ]
  },
  {
   "cell_type": "code",
   "execution_count": null,
   "id": "31157c2b",
   "metadata": {},
   "outputs": [],
   "source": [
    "import requests \n",
    "\n",
    "url= 'https://www.fdic.gov/resources/resolutions/bank-failures/failed-bank-list/'\n",
    "\n",
    "c_url = requests.get(url)\n",
    "\n",
    "\n",
    "\n",
    "dfs = pd.read_html(url)              ##### this funtion will grab how much table are present in that particular html page"
   ]
  },
  {
   "cell_type": "code",
   "execution_count": null,
   "id": "cc339165",
   "metadata": {},
   "outputs": [],
   "source": [
    "dfs"
   ]
  },
  {
   "cell_type": "code",
   "execution_count": null,
   "id": "7ce6ec47",
   "metadata": {},
   "outputs": [],
   "source": [
    "type(dfs)"
   ]
  },
  {
   "cell_type": "code",
   "execution_count": null,
   "id": "c10f17f8",
   "metadata": {},
   "outputs": [],
   "source": [
    "dfs[0]"
   ]
  },
  {
   "cell_type": "code",
   "execution_count": null,
   "id": "5cf7ec4e",
   "metadata": {},
   "outputs": [],
   "source": [
    "url_mcc = 'https://en.wikipedia.org/wiki/Mobile_country_code'\n",
    "dfs = pd.read_html(url_mcc,match  = \"Country\",header = 0)"
   ]
  },
  {
   "cell_type": "code",
   "execution_count": null,
   "id": "e3cda859",
   "metadata": {},
   "outputs": [],
   "source": [
    "dfs[0]"
   ]
  },
  {
   "cell_type": "markdown",
   "id": "d261b3b1",
   "metadata": {},
   "source": [
    "## Reading Excel Files"
   ]
  },
  {
   "cell_type": "code",
   "execution_count": null,
   "id": "4b60298d",
   "metadata": {},
   "outputs": [],
   "source": [
    "df_excel = pd.read_excel(\"Coca Cola Co.xlsx\")"
   ]
  },
  {
   "cell_type": "code",
   "execution_count": null,
   "id": "801ff651",
   "metadata": {},
   "outputs": [],
   "source": [
    "df_excel"
   ]
  },
  {
   "cell_type": "code",
   "execution_count": null,
   "id": "75559234",
   "metadata": {},
   "outputs": [],
   "source": [
    "df_excel.head()"
   ]
  },
  {
   "cell_type": "markdown",
   "id": "bfaa1531",
   "metadata": {},
   "source": [
    "## Pickling"
   ]
  },
  {
   "cell_type": "code",
   "execution_count": null,
   "id": "8834814c",
   "metadata": {},
   "outputs": [],
   "source": [
    "df_excel.to_pickle('df_excel')\n",
    "df=pd.read_pickle('df_excel')"
   ]
  },
  {
   "cell_type": "code",
   "execution_count": null,
   "id": "4e1b365f",
   "metadata": {},
   "outputs": [],
   "source": [
    "df.head()"
   ]
  },
  {
   "cell_type": "code",
   "execution_count": null,
   "id": "5d4ee205",
   "metadata": {},
   "outputs": [],
   "source": []
  },
  {
   "cell_type": "code",
   "execution_count": null,
   "id": "f84dd5cc",
   "metadata": {},
   "outputs": [],
   "source": []
  },
  {
   "cell_type": "code",
   "execution_count": null,
   "id": "6c7632fc",
   "metadata": {},
   "outputs": [],
   "source": []
  },
  {
   "cell_type": "code",
   "execution_count": null,
   "id": "91362185",
   "metadata": {},
   "outputs": [],
   "source": []
  },
  {
   "cell_type": "code",
   "execution_count": null,
   "id": "ff3bf5cc",
   "metadata": {},
   "outputs": [],
   "source": []
  },
  {
   "cell_type": "code",
   "execution_count": null,
   "id": "1aa3f557",
   "metadata": {},
   "outputs": [],
   "source": []
  },
  {
   "cell_type": "code",
   "execution_count": null,
   "id": "34bd74b3",
   "metadata": {},
   "outputs": [],
   "source": []
  },
  {
   "cell_type": "code",
   "execution_count": null,
   "id": "0e73b101",
   "metadata": {},
   "outputs": [],
   "source": []
  },
  {
   "cell_type": "code",
   "execution_count": null,
   "id": "fa77cffa",
   "metadata": {},
   "outputs": [],
   "source": []
  },
  {
   "cell_type": "code",
   "execution_count": null,
   "id": "52662684",
   "metadata": {},
   "outputs": [],
   "source": []
  },
  {
   "cell_type": "code",
   "execution_count": null,
   "id": "bb67642a",
   "metadata": {},
   "outputs": [],
   "source": [
    "import pandas as pd"
   ]
  },
  {
   "cell_type": "code",
   "execution_count": null,
   "id": "0248fa3b",
   "metadata": {},
   "outputs": [],
   "source": [
    "pd = pd.read_csv(\"titanic_train.csv\")"
   ]
  },
  {
   "cell_type": "code",
   "execution_count": null,
   "id": "fb807637",
   "metadata": {},
   "outputs": [],
   "source": [
    "pd"
   ]
  },
  {
   "cell_type": "code",
   "execution_count": null,
   "id": "436292ca",
   "metadata": {},
   "outputs": [],
   "source": [
    "pd.head()"
   ]
  },
  {
   "cell_type": "code",
   "execution_count": null,
   "id": "bddbc7ac",
   "metadata": {},
   "outputs": [],
   "source": [
    "pd.head(2)"
   ]
  },
  {
   "cell_type": "code",
   "execution_count": null,
   "id": "f75e7230",
   "metadata": {},
   "outputs": [],
   "source": [
    "pd.head(20)"
   ]
  },
  {
   "cell_type": "code",
   "execution_count": null,
   "id": "739f2dbe",
   "metadata": {},
   "outputs": [],
   "source": [
    "pd.tail()"
   ]
  },
  {
   "cell_type": "code",
   "execution_count": null,
   "id": "4205a92c",
   "metadata": {},
   "outputs": [],
   "source": [
    "type(pd)"
   ]
  },
  {
   "cell_type": "code",
   "execution_count": null,
   "id": "bc36e9a8",
   "metadata": {},
   "outputs": [],
   "source": [
    "pd.to_csv(\"test11.csv\")"
   ]
  },
  {
   "cell_type": "code",
   "execution_count": null,
   "id": "68d69a34",
   "metadata": {},
   "outputs": [],
   "source": [
    "pd.head()"
   ]
  },
  {
   "cell_type": "code",
   "execution_count": null,
   "id": "9bb4d95a",
   "metadata": {},
   "outputs": [],
   "source": [
    "pd.tail()"
   ]
  },
  {
   "cell_type": "code",
   "execution_count": null,
   "id": "8b50b16e",
   "metadata": {},
   "outputs": [],
   "source": [
    "import pandas as pd"
   ]
  },
  {
   "cell_type": "code",
   "execution_count": null,
   "id": "2f3b4320",
   "metadata": {},
   "outputs": [],
   "source": [
    "df = pd.read_csv(\"titanic_train.csv\",header=None)"
   ]
  },
  {
   "cell_type": "code",
   "execution_count": null,
   "id": "468520af",
   "metadata": {},
   "outputs": [],
   "source": [
    "df"
   ]
  },
  {
   "cell_type": "code",
   "execution_count": null,
   "id": "18b34c46",
   "metadata": {},
   "outputs": [],
   "source": [
    "df = pd.read_csv(\"titanic_train.csv\",header=None,names =['a','b','c','d','e','f','g','h'],skiprows = [0,3,4,5])"
   ]
  },
  {
   "cell_type": "code",
   "execution_count": null,
   "id": "2a72d429",
   "metadata": {},
   "outputs": [],
   "source": [
    "df"
   ]
  },
  {
   "cell_type": "code",
   "execution_count": null,
   "id": "0246cf8e",
   "metadata": {},
   "outputs": [],
   "source": [
    "df = pd.read_csv(\"titanic_train.csv\",header=None,names =['a','b','c','d','e','f','g','h'])"
   ]
  },
  {
   "cell_type": "code",
   "execution_count": null,
   "id": "0a57be18",
   "metadata": {},
   "outputs": [],
   "source": [
    "df = pd.read_csv('titanic_train.csv',na_values = [1])"
   ]
  },
  {
   "cell_type": "code",
   "execution_count": null,
   "id": "43ba05ad",
   "metadata": {},
   "outputs": [],
   "source": [
    "df"
   ]
  },
  {
   "cell_type": "code",
   "execution_count": null,
   "id": "c2f72fda",
   "metadata": {},
   "outputs": [],
   "source": [
    "df = pd.read_csv('titanic_train.csv',na_values = ['male'])"
   ]
  },
  {
   "cell_type": "code",
   "execution_count": null,
   "id": "d2f83ba8",
   "metadata": {},
   "outputs": [],
   "source": [
    "df"
   ]
  },
  {
   "cell_type": "code",
   "execution_count": null,
   "id": "f9b4ac77",
   "metadata": {},
   "outputs": [],
   "source": [
    "df = pd.read_csv('titanic_train.csv',na_values = ['male','B42'])"
   ]
  },
  {
   "cell_type": "code",
   "execution_count": null,
   "id": "b0990883",
   "metadata": {},
   "outputs": [],
   "source": [
    "df"
   ]
  },
  {
   "cell_type": "code",
   "execution_count": null,
   "id": "d78da7d2",
   "metadata": {},
   "outputs": [],
   "source": [
    "df"
   ]
  },
  {
   "cell_type": "code",
   "execution_count": null,
   "id": "6807876f",
   "metadata": {},
   "outputs": [],
   "source": [
    "df.describe()"
   ]
  },
  {
   "cell_type": "code",
   "execution_count": null,
   "id": "6284abec",
   "metadata": {},
   "outputs": [],
   "source": [
    "df.dtypes"
   ]
  },
  {
   "cell_type": "code",
   "execution_count": null,
   "id": "1fba53a9",
   "metadata": {},
   "outputs": [],
   "source": [
    "df.head()"
   ]
  },
  {
   "cell_type": "code",
   "execution_count": null,
   "id": "2f2ffe81",
   "metadata": {},
   "outputs": [],
   "source": [
    "df"
   ]
  },
  {
   "cell_type": "code",
   "execution_count": null,
   "id": "cb4a9ac7",
   "metadata": {},
   "outputs": [],
   "source": [
    "pd"
   ]
  },
  {
   "cell_type": "code",
   "execution_count": null,
   "id": "a0343ae0",
   "metadata": {},
   "outputs": [],
   "source": [
    "df = pd"
   ]
  },
  {
   "cell_type": "code",
   "execution_count": null,
   "id": "47c43d96",
   "metadata": {},
   "outputs": [],
   "source": [
    "df.to_csv(\"abcd.xlsx\")"
   ]
  },
  {
   "cell_type": "code",
   "execution_count": null,
   "id": "1a9667a7",
   "metadata": {},
   "outputs": [],
   "source": [
    "df = pd.read_csv('abcd.csv',sep = '#')"
   ]
  },
  {
   "cell_type": "code",
   "execution_count": null,
   "id": "dca9c13f",
   "metadata": {},
   "outputs": [],
   "source": [
    "df"
   ]
  },
  {
   "cell_type": "code",
   "execution_count": null,
   "id": "99e05ca3",
   "metadata": {},
   "outputs": [],
   "source": [
    "df.to_csv('abcd.csv',index = False)"
   ]
  },
  {
   "cell_type": "code",
   "execution_count": null,
   "id": "40c3f6bc",
   "metadata": {},
   "outputs": [],
   "source": [
    "df.to_csv('abcd1.csv',index = False,header = False)"
   ]
  },
  {
   "cell_type": "code",
   "execution_count": null,
   "id": "344f1cf6",
   "metadata": {},
   "outputs": [],
   "source": [
    "df.to_csv('abcd1.csv',index = False,header = False,sep = '#')"
   ]
  },
  {
   "cell_type": "code",
   "execution_count": null,
   "id": "c6d4c817",
   "metadata": {},
   "outputs": [],
   "source": [
    "df.to_csv('abcd1.csv',index = False,columns = ['PassengerId','Survived'],sep = '#')"
   ]
  },
  {
   "cell_type": "code",
   "execution_count": null,
   "id": "88b6711c",
   "metadata": {},
   "outputs": [],
   "source": [
    "df.tail()"
   ]
  },
  {
   "cell_type": "code",
   "execution_count": null,
   "id": "48de3946",
   "metadata": {},
   "outputs": [],
   "source": [
    "df.columns"
   ]
  },
  {
   "cell_type": "code",
   "execution_count": null,
   "id": "6aef74c3",
   "metadata": {},
   "outputs": [],
   "source": [
    "df['Survived']"
   ]
  },
  {
   "cell_type": "code",
   "execution_count": null,
   "id": "2b1d59ed",
   "metadata": {},
   "outputs": [],
   "source": [
    "type(df['Survived'])"
   ]
  },
  {
   "cell_type": "code",
   "execution_count": null,
   "id": "37e9b57a",
   "metadata": {},
   "outputs": [],
   "source": [
    "type(df[['Survived']])"
   ]
  },
  {
   "cell_type": "code",
   "execution_count": null,
   "id": "76e13b7a",
   "metadata": {},
   "outputs": [],
   "source": [
    "df[['Survived','PassengerId']]"
   ]
  },
  {
   "cell_type": "code",
   "execution_count": null,
   "id": "5b5f3e30",
   "metadata": {},
   "outputs": [],
   "source": [
    "pd.read_excel(\"F:\\data science\\ML\\LUSID Excel - Maintain a product in multiple currencies and share classes.xlsx\")"
   ]
  },
  {
   "cell_type": "code",
   "execution_count": null,
   "id": "5ea9bbfa",
   "metadata": {},
   "outputs": [],
   "source": [
    "df2 =pd.read_excel(\"F:\\data science\\ML\\LUSID Excel - Maintain a product in multiple currencies and share classes.xlsx\",sheet_name='Add FX quotes') "
   ]
  },
  {
   "cell_type": "code",
   "execution_count": null,
   "id": "bf09f882",
   "metadata": {},
   "outputs": [],
   "source": [
    "df3 = pd.read_html(\"https://www.basketball-reference.com/players/i/ibakase01/gamelog/2021\")"
   ]
  },
  {
   "cell_type": "code",
   "execution_count": null,
   "id": "9a47f784",
   "metadata": {
    "scrolled": true
   },
   "outputs": [],
   "source": [
    "df3"
   ]
  },
  {
   "cell_type": "code",
   "execution_count": null,
   "id": "113faf7d",
   "metadata": {},
   "outputs": [],
   "source": [
    "type(df3)"
   ]
  },
  {
   "cell_type": "code",
   "execution_count": null,
   "id": "548181b3",
   "metadata": {},
   "outputs": [],
   "source": [
    "len(df3)"
   ]
  },
  {
   "cell_type": "code",
   "execution_count": null,
   "id": "6c554ddb",
   "metadata": {},
   "outputs": [],
   "source": [
    "df3[0]"
   ]
  },
  {
   "cell_type": "code",
   "execution_count": null,
   "id": "db7fb37b",
   "metadata": {},
   "outputs": [],
   "source": [
    "df3[7].to_csv(\"To_players.csv\")"
   ]
  },
  {
   "cell_type": "code",
   "execution_count": null,
   "id": "03042941",
   "metadata": {},
   "outputs": [],
   "source": [
    "pd.read_csv(\"https://raw.githubusercontent.com/datasciencedojo/datasets/master/titanic.csv\")"
   ]
  },
  {
   "cell_type": "code",
   "execution_count": null,
   "id": "54443bee",
   "metadata": {},
   "outputs": [],
   "source": [
    "s = \"\"\"\n",
    "{\n",
    "\"name\" : \"raj\",\n",
    "\"phone_no\" : 68121287219,\n",
    "\"comp\" : [\"facebook\",\"micro\",\"softbank\",\"ola\"]\n",
    "}\n",
    "\"\"\""
   ]
  },
  {
   "cell_type": "code",
   "execution_count": null,
   "id": "bd62cd40",
   "metadata": {},
   "outputs": [],
   "source": [
    "s1 = json.loads(s)"
   ]
  },
  {
   "cell_type": "code",
   "execution_count": null,
   "id": "079d1b8d",
   "metadata": {},
   "outputs": [],
   "source": [
    "s1"
   ]
  },
  {
   "cell_type": "code",
   "execution_count": null,
   "id": "ef9accb1",
   "metadata": {},
   "outputs": [],
   "source": [
    "pd.DataFrame(s1)"
   ]
  },
  {
   "cell_type": "code",
   "execution_count": null,
   "id": "138f35e1",
   "metadata": {},
   "outputs": [],
   "source": [
    "pd.DataFrame(s1,columns = ['comp'])"
   ]
  },
  {
   "cell_type": "code",
   "execution_count": null,
   "id": "f5076749",
   "metadata": {},
   "outputs": [],
   "source": [
    "import requests"
   ]
  },
  {
   "cell_type": "code",
   "execution_count": null,
   "id": "ea46cde2",
   "metadata": {},
   "outputs": [],
   "source": [
    "res= requests.get(\"https://api.github.com/repos/pandas-dev/pandas/issues\")"
   ]
  },
  {
   "cell_type": "code",
   "execution_count": null,
   "id": "1298784a",
   "metadata": {},
   "outputs": [],
   "source": [
    "res"
   ]
  },
  {
   "cell_type": "code",
   "execution_count": null,
   "id": "a6d08f0a",
   "metadata": {},
   "outputs": [],
   "source": [
    "r1 = res.json()"
   ]
  },
  {
   "cell_type": "code",
   "execution_count": null,
   "id": "c6b1be5c",
   "metadata": {},
   "outputs": [],
   "source": [
    "r1[4]"
   ]
  },
  {
   "cell_type": "code",
   "execution_count": null,
   "id": "2bd18e54",
   "metadata": {
    "scrolled": true
   },
   "outputs": [],
   "source": [
    "pd.DataFrame(r1)"
   ]
  },
  {
   "cell_type": "code",
   "execution_count": null,
   "id": "56554f85",
   "metadata": {},
   "outputs": [],
   "source": [
    "r1[2]"
   ]
  },
  {
   "cell_type": "code",
   "execution_count": null,
   "id": "64ccacfe",
   "metadata": {},
   "outputs": [],
   "source": [
    "for i in range(len(r1)):\n",
    "    print(r1[i]['title'])"
   ]
  },
  {
   "cell_type": "code",
   "execution_count": null,
   "id": "f5ee7511",
   "metadata": {},
   "outputs": [],
   "source": [
    "for i in range(len(r1)):\n",
    "    print(r1[i]['url'])"
   ]
  },
  {
   "cell_type": "code",
   "execution_count": null,
   "id": "bc165613",
   "metadata": {},
   "outputs": [],
   "source": []
  },
  {
   "cell_type": "code",
   "execution_count": null,
   "id": "6e4b5e96",
   "metadata": {},
   "outputs": [],
   "source": [
    "pd.DataFrame(r1,columns = ['url','title'])"
   ]
  },
  {
   "cell_type": "code",
   "execution_count": null,
   "id": "b75366ba",
   "metadata": {},
   "outputs": [],
   "source": [
    "pd.DataFrame(r1).head()"
   ]
  },
  {
   "cell_type": "code",
   "execution_count": null,
   "id": "5564045a",
   "metadata": {},
   "outputs": [],
   "source": [
    "a= r1[0]['user']"
   ]
  },
  {
   "cell_type": "code",
   "execution_count": null,
   "id": "25328bee",
   "metadata": {},
   "outputs": [],
   "source": [
    "a"
   ]
  },
  {
   "cell_type": "code",
   "execution_count": null,
   "id": "a162b10d",
   "metadata": {},
   "outputs": [],
   "source": [
    "pd.DataFrame([r1[i]['user'] for i in range(len(r1))])"
   ]
  },
  {
   "cell_type": "code",
   "execution_count": null,
   "id": "ef4866b2",
   "metadata": {},
   "outputs": [],
   "source": [
    "a"
   ]
  },
  {
   "cell_type": "code",
   "execution_count": null,
   "id": "69f25b94",
   "metadata": {},
   "outputs": [],
   "source": [
    "len(r1)"
   ]
  },
  {
   "cell_type": "code",
   "execution_count": null,
   "id": "135507e1",
   "metadata": {},
   "outputs": [],
   "source": [
    "import pandas as pd"
   ]
  },
  {
   "cell_type": "code",
   "execution_count": null,
   "id": "363b2371",
   "metadata": {},
   "outputs": [],
   "source": [
    "l=[]\n",
    "for i in range(len(r1)):\n",
    "    l.append(r1[i]['user'])"
   ]
  },
  {
   "cell_type": "code",
   "execution_count": null,
   "id": "58579849",
   "metadata": {},
   "outputs": [],
   "source": [
    "pd.DataFrame(l)"
   ]
  },
  {
   "cell_type": "code",
   "execution_count": null,
   "id": "e778a98a",
   "metadata": {},
   "outputs": [],
   "source": [
    "from_file= pd.read_csv(\"titanic_train.csv\")"
   ]
  },
  {
   "cell_type": "code",
   "execution_count": null,
   "id": "f855e713",
   "metadata": {},
   "outputs": [],
   "source": [
    "from_file.to_pickle(\"my_pick\")"
   ]
  },
  {
   "cell_type": "code",
   "execution_count": null,
   "id": "f551824a",
   "metadata": {},
   "outputs": [],
   "source": [
    "pwd"
   ]
  },
  {
   "cell_type": "code",
   "execution_count": null,
   "id": "8fc904ff",
   "metadata": {},
   "outputs": [],
   "source": [
    "from_file"
   ]
  },
  {
   "cell_type": "code",
   "execution_count": null,
   "id": "6111f77a",
   "metadata": {},
   "outputs": [],
   "source": [
    "h5_data=pd.HDFStore('test.h5')"
   ]
  },
  {
   "cell_type": "code",
   "execution_count": null,
   "id": "712c5025",
   "metadata": {},
   "outputs": [],
   "source": [
    "h5_data['obj1'] =from_file"
   ]
  },
  {
   "cell_type": "code",
   "execution_count": null,
   "id": "5ccf686b",
   "metadata": {},
   "outputs": [],
   "source": [
    "h5_data['obj1']"
   ]
  },
  {
   "cell_type": "code",
   "execution_count": null,
   "id": "7204b9e8",
   "metadata": {},
   "outputs": [],
   "source": [
    "h5_data.put('obj2',from_file,format='table')"
   ]
  },
  {
   "cell_type": "code",
   "execution_count": null,
   "id": "aa1f8cb9",
   "metadata": {},
   "outputs": [],
   "source": [
    "h5_data.select('obj2',where=['index>=10 and index<=15'])"
   ]
  },
  {
   "cell_type": "code",
   "execution_count": null,
   "id": "7e31bed5",
   "metadata": {},
   "outputs": [],
   "source": [
    "df = pd.read_csv('titanic_train.csv')"
   ]
  },
  {
   "cell_type": "code",
   "execution_count": null,
   "id": "796fc0cf",
   "metadata": {},
   "outputs": [],
   "source": [
    "df.tail()"
   ]
  },
  {
   "cell_type": "code",
   "execution_count": null,
   "id": "b9edaf61",
   "metadata": {},
   "outputs": [],
   "source": [
    "df.head()"
   ]
  },
  {
   "cell_type": "code",
   "execution_count": null,
   "id": "27a60723",
   "metadata": {},
   "outputs": [],
   "source": [
    "df.dtypes"
   ]
  },
  {
   "cell_type": "code",
   "execution_count": null,
   "id": "83d02609",
   "metadata": {},
   "outputs": [],
   "source": [
    "df.describe()"
   ]
  },
  {
   "cell_type": "code",
   "execution_count": null,
   "id": "fb0f7461",
   "metadata": {},
   "outputs": [],
   "source": [
    "df.dtypes[df.dtypes=='object'].index"
   ]
  },
  {
   "cell_type": "code",
   "execution_count": null,
   "id": "b69fe11b",
   "metadata": {},
   "outputs": [],
   "source": [
    "df.dtypes[df.dtypes == 'object']"
   ]
  },
  {
   "cell_type": "markdown",
   "id": "43e7af14",
   "metadata": {},
   "source": [
    "# df.dtypes == 'object'"
   ]
  },
  {
   "cell_type": "code",
   "execution_count": null,
   "id": "564aff0d",
   "metadata": {
    "scrolled": true
   },
   "outputs": [],
   "source": [
    "df[df.dtypes[df.dtypes == 'object'].index]"
   ]
  },
  {
   "cell_type": "code",
   "execution_count": null,
   "id": "e73a4401",
   "metadata": {},
   "outputs": [],
   "source": [
    "df1 = df[df.dtypes[df.dtypes == 'object'].index]"
   ]
  },
  {
   "cell_type": "code",
   "execution_count": null,
   "id": "d1754762",
   "metadata": {},
   "outputs": [],
   "source": [
    "df1.describe()"
   ]
  },
  {
   "cell_type": "code",
   "execution_count": null,
   "id": "1bd0e813",
   "metadata": {},
   "outputs": [],
   "source": [
    "df.dtypes"
   ]
  },
  {
   "cell_type": "code",
   "execution_count": null,
   "id": "feb5c715",
   "metadata": {},
   "outputs": [],
   "source": [
    "df[df.dtypes[df.dtypes=='float64'].index] "
   ]
  },
  {
   "cell_type": "code",
   "execution_count": null,
   "id": "dcde6c04",
   "metadata": {},
   "outputs": [],
   "source": [
    "l=[4,5,6,78,8,9,923]"
   ]
  },
  {
   "cell_type": "code",
   "execution_count": null,
   "id": "3730a515",
   "metadata": {},
   "outputs": [],
   "source": [
    "df.dtypes[df.dtypes=='float64'].index"
   ]
  },
  {
   "cell_type": "code",
   "execution_count": null,
   "id": "b80eca4e",
   "metadata": {},
   "outputs": [],
   "source": [
    "df[['Name']]"
   ]
  },
  {
   "cell_type": "code",
   "execution_count": null,
   "id": "8dd6023a",
   "metadata": {},
   "outputs": [],
   "source": [
    "df['Name'][4:100:2]"
   ]
  },
  {
   "cell_type": "code",
   "execution_count": null,
   "id": "90471983",
   "metadata": {},
   "outputs": [],
   "source": [
    "df['Ticket'][5:16]"
   ]
  },
  {
   "cell_type": "code",
   "execution_count": null,
   "id": "5a3930a7",
   "metadata": {},
   "outputs": [],
   "source": [
    "df[['Ticket']][5:16]"
   ]
  },
  {
   "cell_type": "code",
   "execution_count": null,
   "id": "6544b792",
   "metadata": {},
   "outputs": [],
   "source": [
    "sorted(df['Ticket'])"
   ]
  },
  {
   "cell_type": "code",
   "execution_count": null,
   "id": "8ac3b9c5",
   "metadata": {},
   "outputs": [],
   "source": [
    "df.columns"
   ]
  },
  {
   "cell_type": "code",
   "execution_count": null,
   "id": "2b94a579",
   "metadata": {},
   "outputs": [],
   "source": [
    "for i in df.columns:\n",
    "    print(i)"
   ]
  },
  {
   "cell_type": "code",
   "execution_count": null,
   "id": "14ddd912",
   "metadata": {},
   "outputs": [],
   "source": [
    "for i in df.columns:\n",
    "    print(df[[i]])"
   ]
  },
  {
   "cell_type": "code",
   "execution_count": null,
   "id": "69580e05",
   "metadata": {},
   "outputs": [],
   "source": [
    "df['raj']='pandey'"
   ]
  },
  {
   "cell_type": "code",
   "execution_count": null,
   "id": "f723e0df",
   "metadata": {},
   "outputs": [],
   "source": [
    "df"
   ]
  },
  {
   "cell_type": "code",
   "execution_count": null,
   "id": "06be1951",
   "metadata": {},
   "outputs": [],
   "source": [
    "df['raj1']=df['PassengerId']"
   ]
  },
  {
   "cell_type": "code",
   "execution_count": null,
   "id": "7edbfb4f",
   "metadata": {},
   "outputs": [],
   "source": [
    "df"
   ]
  },
  {
   "cell_type": "code",
   "execution_count": null,
   "id": "437ba12c",
   "metadata": {},
   "outputs": [],
   "source": [
    "df['Cabin']"
   ]
  },
  {
   "cell_type": "code",
   "execution_count": null,
   "id": "0831fa75",
   "metadata": {},
   "outputs": [],
   "source": [
    "pd.Categorical(df['Cabin'])"
   ]
  },
  {
   "cell_type": "code",
   "execution_count": null,
   "id": "6800e851",
   "metadata": {},
   "outputs": [],
   "source": [
    "pd.Categorical(df['Pclass'])"
   ]
  },
  {
   "cell_type": "code",
   "execution_count": null,
   "id": "30379aee",
   "metadata": {},
   "outputs": [],
   "source": [
    "df['Pclass'].unique()"
   ]
  },
  {
   "cell_type": "code",
   "execution_count": null,
   "id": "7a7d5ab0",
   "metadata": {},
   "outputs": [],
   "source": [
    "df['Pclass'].isnull()"
   ]
  },
  {
   "cell_type": "code",
   "execution_count": null,
   "id": "66c2dd13",
   "metadata": {},
   "outputs": [],
   "source": [
    "df['Cabin'].isnull()"
   ]
  },
  {
   "cell_type": "code",
   "execution_count": null,
   "id": "a8d84253",
   "metadata": {},
   "outputs": [],
   "source": [
    "[df['Cabin'].isnull()==True]"
   ]
  },
  {
   "cell_type": "code",
   "execution_count": null,
   "id": "de6eb13e",
   "metadata": {},
   "outputs": [],
   "source": [
    "df['Cabin'][df['Cabin'].isnull()==True]"
   ]
  },
  {
   "cell_type": "code",
   "execution_count": null,
   "id": "03703360",
   "metadata": {},
   "outputs": [],
   "source": [
    "df['Cabin'][df['Cabin'].isnull()==False]"
   ]
  },
  {
   "cell_type": "code",
   "execution_count": null,
   "id": "e37f5f4c",
   "metadata": {},
   "outputs": [],
   "source": [
    "[df['Cabin'].isnull()==False]"
   ]
  },
  {
   "cell_type": "code",
   "execution_count": null,
   "id": "e9d2cf00",
   "metadata": {},
   "outputs": [],
   "source": [
    "ser = df['Cabin'][df['Cabin'].isnull()==False]"
   ]
  },
  {
   "cell_type": "code",
   "execution_count": null,
   "id": "4b220e98",
   "metadata": {},
   "outputs": [],
   "source": [
    "ser.index"
   ]
  },
  {
   "cell_type": "markdown",
   "id": "cfcf568a",
   "metadata": {},
   "source": [
    "#### to extract row wise"
   ]
  },
  {
   "cell_type": "code",
   "execution_count": null,
   "id": "933441c3",
   "metadata": {},
   "outputs": [],
   "source": [
    "df.iloc[ser.index]"
   ]
  },
  {
   "cell_type": "code",
   "execution_count": null,
   "id": "b7ee9d38",
   "metadata": {},
   "outputs": [],
   "source": [
    "df.iloc[[1,3,5,6]]"
   ]
  },
  {
   "cell_type": "code",
   "execution_count": null,
   "id": "bd7e4894",
   "metadata": {},
   "outputs": [],
   "source": [
    "ser = df['Cabin'][df['Cabin'].isnull()==True]"
   ]
  },
  {
   "cell_type": "code",
   "execution_count": null,
   "id": "3681fc2c",
   "metadata": {},
   "outputs": [],
   "source": [
    "df.iloc[ser.index]"
   ]
  },
  {
   "cell_type": "code",
   "execution_count": null,
   "id": "1b796764",
   "metadata": {},
   "outputs": [],
   "source": [
    "df"
   ]
  },
  {
   "cell_type": "code",
   "execution_count": null,
   "id": "eaca53fa",
   "metadata": {},
   "outputs": [],
   "source": [
    "a =max(df['Fare'])"
   ]
  },
  {
   "cell_type": "code",
   "execution_count": null,
   "id": "93ed5576",
   "metadata": {},
   "outputs": [],
   "source": [
    "a==df['Fare']"
   ]
  },
  {
   "cell_type": "code",
   "execution_count": null,
   "id": "a8e5992a",
   "metadata": {},
   "outputs": [],
   "source": [
    "x=df[a==df[\"Fare\"]]"
   ]
  },
  {
   "cell_type": "code",
   "execution_count": null,
   "id": "91d73bee",
   "metadata": {},
   "outputs": [],
   "source": [
    "x[['Name']]"
   ]
  },
  {
   "cell_type": "markdown",
   "id": "c6922f04",
   "metadata": {},
   "source": [
    "#####  steps to find out the required data\n",
    "1....    Reach out           \n",
    "2......   Filter     \n",
    "3.....    extract          "
   ]
  },
  {
   "cell_type": "code",
   "execution_count": null,
   "id": "1a1c3294",
   "metadata": {},
   "outputs": [],
   "source": [
    "df['new-col']=df['PassengerId']+df['Age']"
   ]
  },
  {
   "cell_type": "code",
   "execution_count": null,
   "id": "3803da66",
   "metadata": {},
   "outputs": [],
   "source": [
    "df"
   ]
  },
  {
   "cell_type": "code",
   "execution_count": null,
   "id": "402a5d4e",
   "metadata": {},
   "outputs": [],
   "source": [
    "###    https://raw.githubusercontent.com/justmarkham/DAT8/master/data/chipotle.tsv"
   ]
  },
  {
   "cell_type": "code",
   "execution_count": null,
   "id": "dbe55eb7",
   "metadata": {},
   "outputs": [],
   "source": [
    "df5 = pd.read_csv(\"https://raw.githubusercontent.com/justmarkham/DAT8/master/data/chipotle.tsv\",sep=\"\\t\")"
   ]
  },
  {
   "cell_type": "code",
   "execution_count": null,
   "id": "6e236380",
   "metadata": {},
   "outputs": [],
   "source": [
    "df5"
   ]
  },
  {
   "cell_type": "code",
   "execution_count": null,
   "id": "963040da",
   "metadata": {},
   "outputs": [],
   "source": [
    "df5.dtypes"
   ]
  },
  {
   "cell_type": "code",
   "execution_count": null,
   "id": "2b4cf417",
   "metadata": {},
   "outputs": [],
   "source": [
    "###  https://raw.githubusercontent.com/vincentarelbundock/Rdatasets/master/datasets.csv"
   ]
  },
  {
   "cell_type": "code",
   "execution_count": null,
   "id": "f873edf3",
   "metadata": {},
   "outputs": [],
   "source": [
    "###  https://raw.githubusercontent.com/justmarkham/DAT8/master/data/beer.txt"
   ]
  },
  {
   "cell_type": "markdown",
   "id": "ad8615f0",
   "metadata": {},
   "source": [
    "## Data manipulation Pandas"
   ]
  },
  {
   "cell_type": "code",
   "execution_count": null,
   "id": "024a3517",
   "metadata": {},
   "outputs": [],
   "source": [
    "import pandas as pd"
   ]
  },
  {
   "cell_type": "code",
   "execution_count": null,
   "id": "33e90773",
   "metadata": {},
   "outputs": [],
   "source": [
    "df = pd.read_csv('titanic_train.csv')"
   ]
  },
  {
   "cell_type": "code",
   "execution_count": null,
   "id": "38a73767",
   "metadata": {},
   "outputs": [],
   "source": [
    "df"
   ]
  },
  {
   "cell_type": "code",
   "execution_count": null,
   "id": "02faa2b1",
   "metadata": {},
   "outputs": [],
   "source": [
    "df.tail(10)"
   ]
  },
  {
   "cell_type": "code",
   "execution_count": null,
   "id": "b6b31b37",
   "metadata": {},
   "outputs": [],
   "source": [
    "df.dtypes"
   ]
  },
  {
   "cell_type": "code",
   "execution_count": null,
   "id": "fb50f8fd",
   "metadata": {},
   "outputs": [],
   "source": [
    "df.dtypes == 'object'"
   ]
  },
  {
   "cell_type": "code",
   "execution_count": null,
   "id": "a764bd1a",
   "metadata": {},
   "outputs": [],
   "source": [
    "df.dtypes == 'object'\n",
    "a = df.dtypes[df.dtypes=='object'].index\n",
    "a\n",
    "df[a].describe()"
   ]
  },
  {
   "cell_type": "code",
   "execution_count": null,
   "id": "55f2023a",
   "metadata": {},
   "outputs": [],
   "source": [
    "df.describe()   #######    it will not include object type of columns"
   ]
  },
  {
   "cell_type": "code",
   "execution_count": null,
   "id": "b291880e",
   "metadata": {},
   "outputs": [],
   "source": [
    "list(df.index)"
   ]
  },
  {
   "cell_type": "code",
   "execution_count": null,
   "id": "4fe0e3ac",
   "metadata": {},
   "outputs": [],
   "source": [
    "df.dtypes[list(df.dtypes=='object')]"
   ]
  },
  {
   "cell_type": "code",
   "execution_count": null,
   "id": "f7f6972d",
   "metadata": {},
   "outputs": [],
   "source": [
    "df.dtypes[list(df.dtypes=='object')].values"
   ]
  },
  {
   "cell_type": "code",
   "execution_count": null,
   "id": "f8a3d2c6",
   "metadata": {},
   "outputs": [],
   "source": [
    "df.columns"
   ]
  },
  {
   "cell_type": "code",
   "execution_count": null,
   "id": "0493170d",
   "metadata": {},
   "outputs": [],
   "source": [
    "df[['PassengerId','Survived']]"
   ]
  },
  {
   "cell_type": "code",
   "execution_count": null,
   "id": "3d35d996",
   "metadata": {},
   "outputs": [],
   "source": [
    "sorted(df['Name'])[5:10:2]"
   ]
  },
  {
   "cell_type": "code",
   "execution_count": null,
   "id": "8a94ca19",
   "metadata": {},
   "outputs": [],
   "source": [
    "sorted(df['Name'])[:56]"
   ]
  },
  {
   "cell_type": "code",
   "execution_count": null,
   "id": "3922b2a6",
   "metadata": {},
   "outputs": [],
   "source": [
    "df['Ticket'][:18]"
   ]
  },
  {
   "cell_type": "code",
   "execution_count": null,
   "id": "29660ed3",
   "metadata": {},
   "outputs": [],
   "source": [
    "df.describe(include='all')"
   ]
  },
  {
   "cell_type": "code",
   "execution_count": null,
   "id": "5f8ce31f",
   "metadata": {},
   "outputs": [],
   "source": [
    "df['Ticket'].describe()\n",
    "df.columns"
   ]
  },
  {
   "cell_type": "code",
   "execution_count": null,
   "id": "5b179f68",
   "metadata": {},
   "outputs": [],
   "source": [
    "df['raj']='asncja'\n",
    "df.head()"
   ]
  },
  {
   "cell_type": "code",
   "execution_count": null,
   "id": "9f961fb9",
   "metadata": {},
   "outputs": [],
   "source": [
    "N_p=pd.Categorical(df['Pclass'])\n",
    "N_p"
   ]
  },
  {
   "cell_type": "code",
   "execution_count": null,
   "id": "67f2200e",
   "metadata": {},
   "outputs": [],
   "source": [
    "type(N_p)"
   ]
  },
  {
   "cell_type": "code",
   "execution_count": null,
   "id": "cf295e57",
   "metadata": {},
   "outputs": [],
   "source": [
    "df['Pclass'].unique()"
   ]
  },
  {
   "cell_type": "code",
   "execution_count": null,
   "id": "414fc721",
   "metadata": {},
   "outputs": [],
   "source": [
    "df['Ne_p']=N_p"
   ]
  },
  {
   "cell_type": "code",
   "execution_count": null,
   "id": "9ce3bb03",
   "metadata": {},
   "outputs": [],
   "source": [
    "df.dtypes"
   ]
  },
  {
   "cell_type": "code",
   "execution_count": null,
   "id": "ba84c4b0",
   "metadata": {},
   "outputs": [],
   "source": [
    "pd.Categorical(['one','two','three','one','two','three'],categories=['one','two','three'],ordered = True)"
   ]
  },
  {
   "cell_type": "code",
   "execution_count": null,
   "id": "ede7b903",
   "metadata": {},
   "outputs": [],
   "source": [
    "df.Pclass.value_counts()"
   ]
  },
  {
   "cell_type": "code",
   "execution_count": null,
   "id": "fd59de4f",
   "metadata": {},
   "outputs": [],
   "source": [
    "df['Cabin'].astype(str)"
   ]
  },
  {
   "cell_type": "code",
   "execution_count": null,
   "id": "5869ecb8",
   "metadata": {
    "scrolled": true
   },
   "outputs": [],
   "source": [
    "char_cabin = df['Cabin'].astype(str)\n",
    "                                    \n",
    "new_cabin = [cabin[0] for cabin in char_cabin]\n",
    "\n",
    "new_cabin=pd.Categorical(new_cabin)\n",
    "\n",
    "new_cabin"
   ]
  },
  {
   "cell_type": "code",
   "execution_count": null,
   "id": "581d8f70",
   "metadata": {},
   "outputs": [],
   "source": [
    "char_cabin = df['Cabin'].astype(str)\n",
    "                                    \n",
    "new_cabin = [cabin[0:2] for cabin in char_cabin]\n",
    "\n",
    "new_cabin=pd.Categorical(new_cabin)\n",
    "\n",
    "new_cabin"
   ]
  },
  {
   "cell_type": "code",
   "execution_count": null,
   "id": "780c795b",
   "metadata": {},
   "outputs": [],
   "source": [
    "df[\"Cabin\"]=new_cabin\n",
    "df.head()"
   ]
  },
  {
   "cell_type": "code",
   "execution_count": null,
   "id": "29c4d826",
   "metadata": {},
   "outputs": [],
   "source": [
    "df.head()"
   ]
  },
  {
   "cell_type": "code",
   "execution_count": null,
   "id": "e3496a4b",
   "metadata": {},
   "outputs": [],
   "source": [
    "df.notnull()"
   ]
  },
  {
   "cell_type": "code",
   "execution_count": null,
   "id": "e06f55fe",
   "metadata": {},
   "outputs": [],
   "source": [
    "df[df.notnull()]"
   ]
  },
  {
   "cell_type": "code",
   "execution_count": null,
   "id": "c3c42b83",
   "metadata": {},
   "outputs": [],
   "source": [
    "df.isnull().sum()"
   ]
  },
  {
   "cell_type": "code",
   "execution_count": null,
   "id": "e6db77e1",
   "metadata": {},
   "outputs": [],
   "source": [
    "df.notnull().sum()"
   ]
  },
  {
   "cell_type": "code",
   "execution_count": null,
   "id": "ef402165",
   "metadata": {},
   "outputs": [],
   "source": [
    "df.drop([0])"
   ]
  },
  {
   "cell_type": "code",
   "execution_count": null,
   "id": "64aa4800",
   "metadata": {},
   "outputs": [],
   "source": [
    "df.drop([1,2,3])"
   ]
  },
  {
   "cell_type": "markdown",
   "id": "f1ac1f04",
   "metadata": {},
   "source": [
    "####   to remove column"
   ]
  },
  {
   "cell_type": "code",
   "execution_count": null,
   "id": "31bddc68",
   "metadata": {},
   "outputs": [],
   "source": [
    "df.drop(['PassengerId'],axis = 1)"
   ]
  },
  {
   "cell_type": "code",
   "execution_count": null,
   "id": "e573e9e2",
   "metadata": {},
   "outputs": [],
   "source": [
    "###   for permanent removal from original dataframe\n",
    "##\n",
    "###  df.drop([\"PassengerId\"],axis =1,inplace=True)"
   ]
  },
  {
   "cell_type": "code",
   "execution_count": null,
   "id": "e68d8dd4",
   "metadata": {},
   "outputs": [],
   "source": [
    "df.Age"
   ]
  },
  {
   "cell_type": "code",
   "execution_count": null,
   "id": "0be5f98b",
   "metadata": {},
   "outputs": [],
   "source": [
    "df.Age.isnull()"
   ]
  },
  {
   "cell_type": "code",
   "execution_count": null,
   "id": "f57715e3",
   "metadata": {},
   "outputs": [],
   "source": [
    "df['Age'][df.Age.isnull()]"
   ]
  },
  {
   "cell_type": "code",
   "execution_count": null,
   "id": "b55d8e6b",
   "metadata": {},
   "outputs": [],
   "source": [
    "x = df['Age'][df.Age.isnull()].index"
   ]
  },
  {
   "cell_type": "code",
   "execution_count": null,
   "id": "4778f05a",
   "metadata": {},
   "outputs": [],
   "source": [
    "df.iloc[x,:]"
   ]
  },
  {
   "cell_type": "code",
   "execution_count": null,
   "id": "2ab5d925",
   "metadata": {},
   "outputs": [],
   "source": [
    "df.iloc[x,:2]"
   ]
  },
  {
   "cell_type": "code",
   "execution_count": null,
   "id": "8919efa8",
   "metadata": {},
   "outputs": [],
   "source": [
    "df.iloc[x,:1]"
   ]
  },
  {
   "cell_type": "code",
   "execution_count": null,
   "id": "d4975e91",
   "metadata": {},
   "outputs": [],
   "source": [
    "df['Fare']"
   ]
  },
  {
   "cell_type": "code",
   "execution_count": null,
   "id": "3a1901fe",
   "metadata": {},
   "outputs": [],
   "source": [
    "import numpy as np"
   ]
  },
  {
   "cell_type": "code",
   "execution_count": null,
   "id": "4bd844ed",
   "metadata": {},
   "outputs": [],
   "source": [
    "mis = np.where(df['Age'].isnull() == True)\n",
    "mis"
   ]
  },
  {
   "cell_type": "code",
   "execution_count": null,
   "id": "d5536347",
   "metadata": {},
   "outputs": [],
   "source": [
    "df"
   ]
  },
  {
   "cell_type": "code",
   "execution_count": null,
   "id": "14e819e9",
   "metadata": {},
   "outputs": [],
   "source": [
    "max(df.Fare)"
   ]
  },
  {
   "cell_type": "code",
   "execution_count": null,
   "id": "a9e249e9",
   "metadata": {},
   "outputs": [],
   "source": [
    "i = np.where(df['Fare']==max(df.Fare))"
   ]
  },
  {
   "cell_type": "code",
   "execution_count": null,
   "id": "7ad93836",
   "metadata": {},
   "outputs": [],
   "source": [
    "df.iloc[i]"
   ]
  },
  {
   "cell_type": "code",
   "execution_count": null,
   "id": "b6b5e2d0",
   "metadata": {},
   "outputs": [],
   "source": [
    "df['Family']  = df['SibSp']+df['Parch']\n",
    "df['Family']\n",
    "most_fam = np.where(df['Family'] == max(df['Family']))\n",
    "most_fam"
   ]
  },
  {
   "cell_type": "code",
   "execution_count": null,
   "id": "9a810889",
   "metadata": {},
   "outputs": [],
   "source": [
    "df[['Age']].fillna(5)"
   ]
  },
  {
   "cell_type": "code",
   "execution_count": null,
   "id": "441c1f3f",
   "metadata": {},
   "outputs": [],
   "source": [
    "import pandas as pd"
   ]
  },
  {
   "cell_type": "code",
   "execution_count": null,
   "id": "81e855e8",
   "metadata": {},
   "outputs": [],
   "source": [
    "df[['Age']].fillna(min(df['Age']))"
   ]
  },
  {
   "cell_type": "code",
   "execution_count": null,
   "id": "60aa6ee7",
   "metadata": {},
   "outputs": [],
   "source": [
    "df['Age'] =df[['Age']].fillna(min(df['Age']))"
   ]
  },
  {
   "cell_type": "code",
   "execution_count": null,
   "id": "89e24180",
   "metadata": {},
   "outputs": [],
   "source": [
    "df"
   ]
  },
  {
   "cell_type": "code",
   "execution_count": null,
   "id": "84eb83e1",
   "metadata": {},
   "outputs": [],
   "source": [
    "df.loc[[0,1,2]]"
   ]
  },
  {
   "cell_type": "code",
   "execution_count": null,
   "id": "243d7d5b",
   "metadata": {},
   "outputs": [],
   "source": [
    "\"swetanshu\".find('t')"
   ]
  },
  {
   "cell_type": "code",
   "execution_count": null,
   "id": "2efc9da2",
   "metadata": {},
   "outputs": [],
   "source": [
    "df.Name.apply(lambda x:x[0:x.find(',')])"
   ]
  },
  {
   "cell_type": "code",
   "execution_count": null,
   "id": "20140a29",
   "metadata": {},
   "outputs": [],
   "source": [
    "df.Name.apply(lambda x:x[:x.find(',')]).values"
   ]
  },
  {
   "cell_type": "code",
   "execution_count": null,
   "id": "5a4a4a52",
   "metadata": {},
   "outputs": [],
   "source": [
    "a = lambda x:x**2"
   ]
  },
  {
   "cell_type": "code",
   "execution_count": null,
   "id": "584dfb80",
   "metadata": {},
   "outputs": [],
   "source": [
    "a(4)"
   ]
  },
  {
   "cell_type": "code",
   "execution_count": null,
   "id": "808ae9ca",
   "metadata": {},
   "outputs": [],
   "source": [
    "mul = lambda x,y:x*y"
   ]
  },
  {
   "cell_type": "code",
   "execution_count": null,
   "id": "7dc2c249",
   "metadata": {},
   "outputs": [],
   "source": [
    "mul(4,5)"
   ]
  },
  {
   "cell_type": "code",
   "execution_count": null,
   "id": "7902d9a4",
   "metadata": {},
   "outputs": [],
   "source": []
  }
 ],
 "metadata": {
  "kernelspec": {
   "display_name": "Python 3",
   "language": "python",
   "name": "python3"
  },
  "language_info": {
   "codemirror_mode": {
    "name": "ipython",
    "version": 3
   },
   "file_extension": ".py",
   "mimetype": "text/x-python",
   "name": "python",
   "nbconvert_exporter": "python",
   "pygments_lexer": "ipython3",
   "version": "3.8.8"
  }
 },
 "nbformat": 4,
 "nbformat_minor": 5
}
