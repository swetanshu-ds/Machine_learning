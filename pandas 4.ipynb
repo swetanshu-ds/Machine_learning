{
 "cells": [
  {
   "cell_type": "code",
   "execution_count": 1,
   "id": "39917a8f",
   "metadata": {},
   "outputs": [],
   "source": [
    "import pandas as pd"
   ]
  },
  {
   "cell_type": "code",
   "execution_count": null,
   "id": "e4cae42d",
   "metadata": {},
   "outputs": [],
   "source": [
    "df = pd.read_csv('titanic_train.csv')"
   ]
  },
  {
   "cell_type": "code",
   "execution_count": null,
   "id": "204eb4ce",
   "metadata": {},
   "outputs": [],
   "source": [
    "df"
   ]
  },
  {
   "cell_type": "code",
   "execution_count": null,
   "id": "b1e5bb91",
   "metadata": {},
   "outputs": [],
   "source": [
    "df.head()"
   ]
  },
  {
   "cell_type": "code",
   "execution_count": null,
   "id": "44674331",
   "metadata": {},
   "outputs": [],
   "source": [
    "type(df)"
   ]
  },
  {
   "cell_type": "code",
   "execution_count": null,
   "id": "e21beec3",
   "metadata": {},
   "outputs": [],
   "source": [
    "df.columns"
   ]
  },
  {
   "cell_type": "code",
   "execution_count": null,
   "id": "8b0dd007",
   "metadata": {},
   "outputs": [],
   "source": [
    "dy =  df.dtypes"
   ]
  },
  {
   "cell_type": "code",
   "execution_count": null,
   "id": "89be0340",
   "metadata": {},
   "outputs": [],
   "source": [
    "dy['Pclass']"
   ]
  },
  {
   "cell_type": "code",
   "execution_count": null,
   "id": "832d6a7e",
   "metadata": {},
   "outputs": [],
   "source": [
    "l=[0,1,2,3,4,5,'swe','pan','Ineron']"
   ]
  },
  {
   "cell_type": "code",
   "execution_count": null,
   "id": "c725c294",
   "metadata": {},
   "outputs": [],
   "source": [
    "l[6]"
   ]
  },
  {
   "cell_type": "code",
   "execution_count": null,
   "id": "34aea851",
   "metadata": {},
   "outputs": [],
   "source": [
    "dy[4:6]"
   ]
  },
  {
   "cell_type": "code",
   "execution_count": null,
   "id": "77929cb7",
   "metadata": {},
   "outputs": [],
   "source": [
    "dy"
   ]
  },
  {
   "cell_type": "code",
   "execution_count": null,
   "id": "25f41496",
   "metadata": {},
   "outputs": [],
   "source": [
    "dy[:]"
   ]
  },
  {
   "cell_type": "code",
   "execution_count": null,
   "id": "9f0bfe00",
   "metadata": {},
   "outputs": [],
   "source": [
    "df['Age']"
   ]
  },
  {
   "cell_type": "code",
   "execution_count": null,
   "id": "62ff7175",
   "metadata": {},
   "outputs": [],
   "source": [
    "type(df['Age'])"
   ]
  },
  {
   "cell_type": "code",
   "execution_count": null,
   "id": "a8ee5789",
   "metadata": {},
   "outputs": [],
   "source": [
    "df['Age'][10:101]"
   ]
  },
  {
   "cell_type": "code",
   "execution_count": null,
   "id": "06fbd7d0",
   "metadata": {},
   "outputs": [],
   "source": [
    "df['Age'][::2]"
   ]
  },
  {
   "cell_type": "code",
   "execution_count": null,
   "id": "8784dd66",
   "metadata": {},
   "outputs": [],
   "source": [
    "list(df['Age'][::2])"
   ]
  },
  {
   "cell_type": "code",
   "execution_count": null,
   "id": "4b1de49d",
   "metadata": {},
   "outputs": [],
   "source": [
    "df.describe()"
   ]
  },
  {
   "cell_type": "code",
   "execution_count": null,
   "id": "a569a346",
   "metadata": {},
   "outputs": [],
   "source": [
    "dy"
   ]
  },
  {
   "cell_type": "code",
   "execution_count": null,
   "id": "99d99001",
   "metadata": {},
   "outputs": [],
   "source": [
    "l = [0,1,2,3,4,5,'swe','pan','iNeuron']"
   ]
  },
  {
   "cell_type": "code",
   "execution_count": null,
   "id": "64413d17",
   "metadata": {},
   "outputs": [],
   "source": [
    "l[4]"
   ]
  },
  {
   "cell_type": "code",
   "execution_count": null,
   "id": "5df2ff05",
   "metadata": {},
   "outputs": [],
   "source": [
    "l[7]"
   ]
  },
  {
   "cell_type": "code",
   "execution_count": null,
   "id": "15c498d5",
   "metadata": {},
   "outputs": [],
   "source": [
    "dy[0:4]"
   ]
  },
  {
   "cell_type": "code",
   "execution_count": null,
   "id": "5fbe9756",
   "metadata": {},
   "outputs": [],
   "source": [
    "dy['Pclass']"
   ]
  },
  {
   "cell_type": "code",
   "execution_count": null,
   "id": "09f7b3a2",
   "metadata": {},
   "outputs": [],
   "source": [
    "dy[0:10:2]"
   ]
  },
  {
   "cell_type": "code",
   "execution_count": null,
   "id": "d017eab0",
   "metadata": {},
   "outputs": [],
   "source": [
    "df.head()"
   ]
  },
  {
   "cell_type": "code",
   "execution_count": null,
   "id": "80b02e79",
   "metadata": {},
   "outputs": [],
   "source": [
    "df.Age"
   ]
  },
  {
   "cell_type": "code",
   "execution_count": null,
   "id": "ef7c911c",
   "metadata": {},
   "outputs": [],
   "source": [
    "df['Age']"
   ]
  },
  {
   "cell_type": "code",
   "execution_count": null,
   "id": "75c7fe2e",
   "metadata": {},
   "outputs": [],
   "source": [
    "type(df['Age'])"
   ]
  },
  {
   "cell_type": "code",
   "execution_count": null,
   "id": "515b185c",
   "metadata": {},
   "outputs": [],
   "source": [
    "df['Age'][10:100]"
   ]
  },
  {
   "cell_type": "code",
   "execution_count": null,
   "id": "8dddf75a",
   "metadata": {},
   "outputs": [],
   "source": [
    "df['Age'][::-1]"
   ]
  },
  {
   "cell_type": "code",
   "execution_count": null,
   "id": "e4d2b44f",
   "metadata": {},
   "outputs": [],
   "source": [
    "df['Age'][::2]"
   ]
  },
  {
   "cell_type": "code",
   "execution_count": null,
   "id": "57c79b5d",
   "metadata": {},
   "outputs": [],
   "source": [
    "list(df['Age'][::2])"
   ]
  },
  {
   "cell_type": "code",
   "execution_count": null,
   "id": "57856e0a",
   "metadata": {},
   "outputs": [],
   "source": [
    "df.dtypes"
   ]
  },
  {
   "cell_type": "code",
   "execution_count": null,
   "id": "0d710583",
   "metadata": {},
   "outputs": [],
   "source": [
    "df.describe()"
   ]
  },
  {
   "cell_type": "code",
   "execution_count": null,
   "id": "6c765d41",
   "metadata": {},
   "outputs": [],
   "source": [
    "df.dtypes[df.dtypes=='object']"
   ]
  },
  {
   "cell_type": "code",
   "execution_count": null,
   "id": "5171dead",
   "metadata": {},
   "outputs": [],
   "source": [
    "df_c = df[df.dtypes[df.dtypes=='object'].index]"
   ]
  },
  {
   "cell_type": "code",
   "execution_count": null,
   "id": "57afe18b",
   "metadata": {},
   "outputs": [],
   "source": [
    "type(df.dtypes[df.dtypes=='object'])"
   ]
  },
  {
   "cell_type": "code",
   "execution_count": null,
   "id": "97a7f7d0",
   "metadata": {},
   "outputs": [],
   "source": [
    "df.dtypes[df.dtypes=='object']"
   ]
  },
  {
   "cell_type": "code",
   "execution_count": null,
   "id": "e42d7d32",
   "metadata": {},
   "outputs": [],
   "source": [
    "df_c.describe()"
   ]
  },
  {
   "cell_type": "code",
   "execution_count": null,
   "id": "811b37d8",
   "metadata": {},
   "outputs": [],
   "source": [
    "df.columns"
   ]
  },
  {
   "cell_type": "code",
   "execution_count": null,
   "id": "e25fc504",
   "metadata": {},
   "outputs": [],
   "source": [
    "df[['Name','Fare']]"
   ]
  },
  {
   "cell_type": "code",
   "execution_count": null,
   "id": "995bc88f",
   "metadata": {},
   "outputs": [],
   "source": [
    "df[['Name']]"
   ]
  },
  {
   "cell_type": "code",
   "execution_count": null,
   "id": "86651fcf",
   "metadata": {},
   "outputs": [],
   "source": [
    "df['Age'].isnull()"
   ]
  },
  {
   "cell_type": "code",
   "execution_count": 2,
   "id": "0551c8e4",
   "metadata": {},
   "outputs": [],
   "source": [
    "import numpy as np"
   ]
  },
  {
   "cell_type": "code",
   "execution_count": null,
   "id": "02cdcc11",
   "metadata": {},
   "outputs": [],
   "source": [
    "df_null = np.where(df['Age'].isnull() ==True)"
   ]
  },
  {
   "cell_type": "code",
   "execution_count": null,
   "id": "59442d05",
   "metadata": {},
   "outputs": [],
   "source": [
    "df[df['Age'].isnull() ==True]"
   ]
  },
  {
   "cell_type": "code",
   "execution_count": null,
   "id": "2918b0f3",
   "metadata": {},
   "outputs": [],
   "source": [
    "df_null"
   ]
  },
  {
   "cell_type": "code",
   "execution_count": null,
   "id": "95ae4095",
   "metadata": {},
   "outputs": [],
   "source": [
    "df.iloc[df_null]"
   ]
  },
  {
   "cell_type": "code",
   "execution_count": null,
   "id": "d82f80e8",
   "metadata": {},
   "outputs": [],
   "source": [
    "df.iloc[5]"
   ]
  },
  {
   "cell_type": "code",
   "execution_count": null,
   "id": "be18d36f",
   "metadata": {},
   "outputs": [],
   "source": [
    "type(df.iloc[5])"
   ]
  },
  {
   "cell_type": "code",
   "execution_count": null,
   "id": "2d21ba3d",
   "metadata": {},
   "outputs": [],
   "source": [
    "df.iloc[[1]]"
   ]
  },
  {
   "cell_type": "code",
   "execution_count": null,
   "id": "22e7692e",
   "metadata": {},
   "outputs": [],
   "source": [
    "df.iloc[[1,2,3,4,5,6,7,8]]"
   ]
  },
  {
   "cell_type": "code",
   "execution_count": null,
   "id": "f74585ee",
   "metadata": {},
   "outputs": [],
   "source": [
    "np.where(df['Fare'] == max(df['Fare']))"
   ]
  },
  {
   "cell_type": "code",
   "execution_count": null,
   "id": "de31f08e",
   "metadata": {},
   "outputs": [],
   "source": [
    "df.iloc[np.where(df['Fare'] == max(df['Fare']))]['Name']"
   ]
  },
  {
   "cell_type": "code",
   "execution_count": null,
   "id": "9665c58e",
   "metadata": {},
   "outputs": [],
   "source": [
    "df[df['Age'] ==24.0][\"Name\"]"
   ]
  },
  {
   "cell_type": "code",
   "execution_count": null,
   "id": "f3894473",
   "metadata": {},
   "outputs": [],
   "source": [
    "df[['Age']][df.Cabin.isnull() == True]"
   ]
  },
  {
   "cell_type": "code",
   "execution_count": null,
   "id": "62ca9203",
   "metadata": {},
   "outputs": [],
   "source": [
    "df.head()"
   ]
  },
  {
   "cell_type": "code",
   "execution_count": null,
   "id": "60d90d56",
   "metadata": {},
   "outputs": [],
   "source": [
    "x = (df['Sex'][df['Survived']==1]=='male').index"
   ]
  },
  {
   "cell_type": "code",
   "execution_count": null,
   "id": "31753046",
   "metadata": {},
   "outputs": [],
   "source": [
    "df.iloc[x][['Survived']]"
   ]
  },
  {
   "cell_type": "code",
   "execution_count": null,
   "id": "9f0bc025",
   "metadata": {},
   "outputs": [],
   "source": [
    "df.iloc[(df['Sex'][df['Survived']==1]=='male').index][['Name']]"
   ]
  },
  {
   "cell_type": "code",
   "execution_count": null,
   "id": "aa03d1a3",
   "metadata": {},
   "outputs": [],
   "source": [
    "df.iloc[(df['Sex'][df['Survived']==1]=='male').index][['Survived']]"
   ]
  },
  {
   "cell_type": "code",
   "execution_count": null,
   "id": "749fd20c",
   "metadata": {},
   "outputs": [],
   "source": [
    "df.Name[(df.Survived ==1) & (df.Sex == 'male')]    "
   ]
  },
  {
   "cell_type": "code",
   "execution_count": null,
   "id": "d420079b",
   "metadata": {},
   "outputs": [],
   "source": [
    "df['new_col']  = 'Swetanshu'"
   ]
  },
  {
   "cell_type": "code",
   "execution_count": null,
   "id": "2bcffdd2",
   "metadata": {},
   "outputs": [],
   "source": [
    "df.head()"
   ]
  },
  {
   "cell_type": "code",
   "execution_count": null,
   "id": "d704ab58",
   "metadata": {},
   "outputs": [],
   "source": [
    "l = [1,2,3,4,5]"
   ]
  },
  {
   "cell_type": "code",
   "execution_count": null,
   "id": "d72da880",
   "metadata": {},
   "outputs": [],
   "source": [
    "pd.Series(l)"
   ]
  },
  {
   "cell_type": "code",
   "execution_count": null,
   "id": "1faa7d96",
   "metadata": {},
   "outputs": [],
   "source": [
    "d = {'key':'swe','title':'pan','mail_id':'swe1722@gmail.com'}"
   ]
  },
  {
   "cell_type": "code",
   "execution_count": null,
   "id": "4e54f988",
   "metadata": {},
   "outputs": [],
   "source": [
    "pd.DataFrame(d,index = ['key','title','mail_id'])"
   ]
  },
  {
   "cell_type": "code",
   "execution_count": null,
   "id": "3084fcaf",
   "metadata": {},
   "outputs": [],
   "source": [
    "pd.Series(d)"
   ]
  },
  {
   "cell_type": "code",
   "execution_count": null,
   "id": "1a7173fd",
   "metadata": {},
   "outputs": [],
   "source": [
    "arr = np.random.randn(3,4)"
   ]
  },
  {
   "cell_type": "code",
   "execution_count": null,
   "id": "840b9ead",
   "metadata": {},
   "outputs": [],
   "source": [
    "arr"
   ]
  },
  {
   "cell_type": "code",
   "execution_count": null,
   "id": "228a8b25",
   "metadata": {},
   "outputs": [],
   "source": [
    "pd.DataFrame(arr)"
   ]
  },
  {
   "cell_type": "code",
   "execution_count": null,
   "id": "853d1e27",
   "metadata": {},
   "outputs": [],
   "source": [
    "pd.Series(arr)"
   ]
  },
  {
   "cell_type": "code",
   "execution_count": null,
   "id": "634d4b2c",
   "metadata": {},
   "outputs": [],
   "source": [
    "pd.Series(np.array([4,5,6,7,8]))"
   ]
  },
  {
   "cell_type": "code",
   "execution_count": null,
   "id": "7fca770f",
   "metadata": {},
   "outputs": [],
   "source": [
    "pd.Series(np.array([4,5,6,7,8]),index = ['a','b','swe','pan','c'])"
   ]
  },
  {
   "cell_type": "code",
   "execution_count": null,
   "id": "268b93e7",
   "metadata": {},
   "outputs": [],
   "source": [
    "ser = pd.Series(np.array([4,5,6,7,8]),index = ['a','b','swe','pan','c'])"
   ]
  },
  {
   "cell_type": "code",
   "execution_count": null,
   "id": "648974c0",
   "metadata": {},
   "outputs": [],
   "source": [
    "ser"
   ]
  },
  {
   "cell_type": "code",
   "execution_count": null,
   "id": "7fa9ad45",
   "metadata": {},
   "outputs": [],
   "source": [
    "ser['swe']"
   ]
  },
  {
   "cell_type": "code",
   "execution_count": null,
   "id": "a0702867",
   "metadata": {},
   "outputs": [],
   "source": [
    "ser.iloc[2]"
   ]
  },
  {
   "cell_type": "code",
   "execution_count": null,
   "id": "2e59aa18",
   "metadata": {},
   "outputs": [],
   "source": [
    "ser.iloc['swe']"
   ]
  },
  {
   "cell_type": "code",
   "execution_count": null,
   "id": "15ab70f3",
   "metadata": {},
   "outputs": [],
   "source": [
    "ser.loc['swe']"
   ]
  },
  {
   "cell_type": "code",
   "execution_count": null,
   "id": "00759b04",
   "metadata": {},
   "outputs": [],
   "source": [
    "ser1 = pd.Series(np.array([4,5,6,7,8]),index = [12,32,45,56,34])"
   ]
  },
  {
   "cell_type": "code",
   "execution_count": null,
   "id": "7e88b766",
   "metadata": {},
   "outputs": [],
   "source": [
    "ser1"
   ]
  },
  {
   "cell_type": "code",
   "execution_count": null,
   "id": "3c2e5d01",
   "metadata": {},
   "outputs": [],
   "source": [
    "ser1.iloc[32]"
   ]
  },
  {
   "cell_type": "code",
   "execution_count": null,
   "id": "add48e6e",
   "metadata": {},
   "outputs": [],
   "source": [
    "ser1.loc[32]"
   ]
  },
  {
   "cell_type": "code",
   "execution_count": null,
   "id": "102a15d3",
   "metadata": {},
   "outputs": [],
   "source": [
    "df.head()"
   ]
  },
  {
   "cell_type": "code",
   "execution_count": null,
   "id": "865af34a",
   "metadata": {
    "scrolled": true
   },
   "outputs": [],
   "source": [
    "df1 = pd.DataFrame(np.random.randint(3,6,(4,5)),index = ['a','b','c','d'],columns=['x','y','z','u','v'])"
   ]
  },
  {
   "cell_type": "code",
   "execution_count": null,
   "id": "f9cabd18",
   "metadata": {},
   "outputs": [],
   "source": [
    "df1"
   ]
  },
  {
   "cell_type": "code",
   "execution_count": null,
   "id": "6ce7596b",
   "metadata": {},
   "outputs": [],
   "source": [
    "df1.loc['c':'d','z':'u']"
   ]
  },
  {
   "cell_type": "code",
   "execution_count": null,
   "id": "dbfb9128",
   "metadata": {},
   "outputs": [],
   "source": [
    "df.iloc[2:,2:4]"
   ]
  },
  {
   "cell_type": "code",
   "execution_count": null,
   "id": "ef56a139",
   "metadata": {},
   "outputs": [],
   "source": [
    "df1['na']=\"Swe\""
   ]
  },
  {
   "cell_type": "code",
   "execution_count": null,
   "id": "9edf0826",
   "metadata": {},
   "outputs": [],
   "source": [
    "df1"
   ]
  },
  {
   "cell_type": "code",
   "execution_count": null,
   "id": "cbc475d3",
   "metadata": {},
   "outputs": [],
   "source": [
    "df1['new']=df1['u']+df1['z']"
   ]
  },
  {
   "cell_type": "code",
   "execution_count": null,
   "id": "4adb7fe4",
   "metadata": {},
   "outputs": [],
   "source": [
    "df1"
   ]
  },
  {
   "cell_type": "code",
   "execution_count": null,
   "id": "b5a40612",
   "metadata": {
    "scrolled": true
   },
   "outputs": [],
   "source": [
    "df.drop('x')              ### since axis=0  that means row so giving error "
   ]
  },
  {
   "cell_type": "code",
   "execution_count": null,
   "id": "a8e9980c",
   "metadata": {},
   "outputs": [],
   "source": [
    "df1.drop('x',axis = 1)"
   ]
  },
  {
   "cell_type": "code",
   "execution_count": null,
   "id": "aad5fd54",
   "metadata": {},
   "outputs": [],
   "source": [
    "df1.drop('x',axis =1,inplace = True)"
   ]
  },
  {
   "cell_type": "code",
   "execution_count": null,
   "id": "0f1ce548",
   "metadata": {},
   "outputs": [],
   "source": [
    "df1"
   ]
  },
  {
   "cell_type": "code",
   "execution_count": null,
   "id": "cb346757",
   "metadata": {},
   "outputs": [],
   "source": [
    "np.random.seed(34)\n",
    "\n",
    "df2 = pd.DataFrame(np.random.rand(4,5),index = ['a','b','c','d'],columns=['x','y','z','u','v'])"
   ]
  },
  {
   "cell_type": "code",
   "execution_count": null,
   "id": "75f21064",
   "metadata": {},
   "outputs": [],
   "source": [
    "df2"
   ]
  },
  {
   "cell_type": "code",
   "execution_count": null,
   "id": "7549feac",
   "metadata": {},
   "outputs": [],
   "source": [
    "df2.values[df2.values<0]"
   ]
  },
  {
   "cell_type": "code",
   "execution_count": null,
   "id": "8e62e15e",
   "metadata": {},
   "outputs": [],
   "source": [
    "df2.values[df2.iloc[0:5]<0]"
   ]
  },
  {
   "cell_type": "code",
   "execution_count": null,
   "id": "10fc0103",
   "metadata": {},
   "outputs": [],
   "source": [
    "pd.DataFrame(df2.values[df.iloc[0:5]<0])"
   ]
  },
  {
   "cell_type": "code",
   "execution_count": null,
   "id": "77c0ba71",
   "metadata": {},
   "outputs": [],
   "source": [
    "c = df2.values[df.values<0]\n",
    "for i in df2.columns:\n",
    "    for j in df2.index:\n",
    "        if df2.loc[j,i] in c:\n",
    "            print(i,j)"
   ]
  },
  {
   "cell_type": "code",
   "execution_count": null,
   "id": "aa1c3f79",
   "metadata": {},
   "outputs": [],
   "source": [
    "for i in df2.columns:\n",
    "    for j in df2.index:\n",
    "        if df2.loc[j,i]>0.2345667:\n",
    "            print(i,j,df2.loc[j,i])"
   ]
  },
  {
   "cell_type": "code",
   "execution_count": null,
   "id": "6b95f567",
   "metadata": {},
   "outputs": [],
   "source": [
    "d = {'key1':[1,2,3,4,np.nan],'key2':['sudh','pan',np.nan,5,6],'key3':[np.nan,np.nan,np.nan,3,8]}\n",
    "df = pd.DataFrame(d)"
   ]
  },
  {
   "cell_type": "code",
   "execution_count": null,
   "id": "81d36c3f",
   "metadata": {},
   "outputs": [],
   "source": [
    "df"
   ]
  },
  {
   "cell_type": "code",
   "execution_count": null,
   "id": "2eb811ed",
   "metadata": {},
   "outputs": [],
   "source": [
    "df.dropna()"
   ]
  },
  {
   "cell_type": "code",
   "execution_count": null,
   "id": "b5045099",
   "metadata": {},
   "outputs": [],
   "source": [
    "df.dropna(axis=1)"
   ]
  },
  {
   "cell_type": "code",
   "execution_count": null,
   "id": "329babd5",
   "metadata": {},
   "outputs": [],
   "source": [
    "df"
   ]
  },
  {
   "cell_type": "code",
   "execution_count": null,
   "id": "c596f016",
   "metadata": {},
   "outputs": [],
   "source": [
    "df.dropna(thresh= 0)"
   ]
  },
  {
   "cell_type": "code",
   "execution_count": null,
   "id": "66958274",
   "metadata": {},
   "outputs": [],
   "source": [
    "df.dropna(thresh= 1)"
   ]
  },
  {
   "cell_type": "code",
   "execution_count": null,
   "id": "af6ce47f",
   "metadata": {},
   "outputs": [],
   "source": [
    "df.dropna(thresh= 2)"
   ]
  },
  {
   "cell_type": "code",
   "execution_count": null,
   "id": "068de7fc",
   "metadata": {},
   "outputs": [],
   "source": [
    "df.dropna(thresh = 4)"
   ]
  },
  {
   "cell_type": "code",
   "execution_count": null,
   "id": "cc7d539e",
   "metadata": {},
   "outputs": [],
   "source": [
    "df.dropna(axis = 1,thresh = 3)"
   ]
  },
  {
   "cell_type": "code",
   "execution_count": null,
   "id": "8dd68614",
   "metadata": {},
   "outputs": [],
   "source": [
    "df.fillna('sudh')"
   ]
  },
  {
   "cell_type": "code",
   "execution_count": null,
   "id": "4bc5a124",
   "metadata": {},
   "outputs": [],
   "source": [
    "df.fillna('Raj')"
   ]
  },
  {
   "cell_type": "code",
   "execution_count": null,
   "id": "c6ddf216",
   "metadata": {},
   "outputs": [],
   "source": [
    "df.fillna(value = df['key1'].mean())"
   ]
  },
  {
   "cell_type": "code",
   "execution_count": null,
   "id": "eab6614e",
   "metadata": {},
   "outputs": [],
   "source": [
    "d1 = {'name':['swe','visal','umang','vishal','umang'],'mail_id':['swe@gmail.com','vishal@gmail.com','umang@gmail.com','vishal@gmail.com','umang@gmail.com'],\n",
    "     'salary':[100,200,500,200,500]}"
   ]
  },
  {
   "cell_type": "code",
   "execution_count": null,
   "id": "b2d5fe94",
   "metadata": {},
   "outputs": [],
   "source": [
    "df = pd.DataFrame(d1)"
   ]
  },
  {
   "cell_type": "code",
   "execution_count": null,
   "id": "3f341351",
   "metadata": {},
   "outputs": [],
   "source": [
    "df.groupby('name')"
   ]
  },
  {
   "cell_type": "code",
   "execution_count": null,
   "id": "7fbc1317",
   "metadata": {},
   "outputs": [],
   "source": [
    "df.groupby('name').mean()"
   ]
  },
  {
   "cell_type": "code",
   "execution_count": null,
   "id": "ac2f3731",
   "metadata": {},
   "outputs": [],
   "source": [
    "df.groupby('mail_id').mean()"
   ]
  },
  {
   "cell_type": "code",
   "execution_count": null,
   "id": "f7bffb45",
   "metadata": {},
   "outputs": [],
   "source": [
    "df.groupby('mail_id').sum()"
   ]
  },
  {
   "cell_type": "code",
   "execution_count": null,
   "id": "942f5c98",
   "metadata": {},
   "outputs": [],
   "source": [
    "x = df.groupby('mail_id').describe()"
   ]
  },
  {
   "cell_type": "code",
   "execution_count": null,
   "id": "013bbeaf",
   "metadata": {},
   "outputs": [],
   "source": [
    "type(df.groupby('mail_id').describe())"
   ]
  },
  {
   "cell_type": "code",
   "execution_count": null,
   "id": "f85eb0aa",
   "metadata": {},
   "outputs": [],
   "source": [
    "x.loc['umang@gmail.com']"
   ]
  },
  {
   "cell_type": "code",
   "execution_count": null,
   "id": "c9bc5f96",
   "metadata": {},
   "outputs": [],
   "source": [
    "x.loc['umang@gmail.com'][1]"
   ]
  },
  {
   "cell_type": "code",
   "execution_count": null,
   "id": "ccbe8e01",
   "metadata": {},
   "outputs": [],
   "source": [
    "x.loc['umang@gmail.com']['salary']['mean']"
   ]
  },
  {
   "cell_type": "code",
   "execution_count": null,
   "id": "09b646d4",
   "metadata": {},
   "outputs": [],
   "source": [
    "df.groupby('mail_id').describe().T"
   ]
  },
  {
   "cell_type": "code",
   "execution_count": null,
   "id": "4560b9cc",
   "metadata": {},
   "outputs": [],
   "source": [
    "np.random.randn(3,4)"
   ]
  },
  {
   "cell_type": "code",
   "execution_count": null,
   "id": "d3630e2f",
   "metadata": {},
   "outputs": [],
   "source": [
    "arr1 = np.random.randn(3,4)"
   ]
  },
  {
   "cell_type": "code",
   "execution_count": null,
   "id": "c478ed52",
   "metadata": {},
   "outputs": [],
   "source": [
    "arr2 = np.random.randn(3,4)"
   ]
  },
  {
   "cell_type": "code",
   "execution_count": null,
   "id": "b8798fcb",
   "metadata": {},
   "outputs": [],
   "source": [
    "arr3 = np.random.randn(3,4)"
   ]
  },
  {
   "cell_type": "code",
   "execution_count": null,
   "id": "f9048efd",
   "metadata": {},
   "outputs": [],
   "source": [
    "df1 = pd.DataFrame(arr1,columns = ['A','B','C','D'],index = [0,1,2])"
   ]
  },
  {
   "cell_type": "code",
   "execution_count": null,
   "id": "c8c525da",
   "metadata": {},
   "outputs": [],
   "source": [
    "df1"
   ]
  },
  {
   "cell_type": "code",
   "execution_count": null,
   "id": "c28f29d8",
   "metadata": {},
   "outputs": [],
   "source": [
    "df2 = pd.DataFrame(arr2,columns = ['A','B','C','D'],index = [3,4,5])"
   ]
  },
  {
   "cell_type": "code",
   "execution_count": null,
   "id": "232f5662",
   "metadata": {},
   "outputs": [],
   "source": [
    "df2"
   ]
  },
  {
   "cell_type": "code",
   "execution_count": null,
   "id": "94c41cff",
   "metadata": {},
   "outputs": [],
   "source": [
    "df3 = pd.DataFrame(arr3,columns = ['A','B','C','D'],index = [6,7,8])"
   ]
  },
  {
   "cell_type": "code",
   "execution_count": null,
   "id": "2d8eab72",
   "metadata": {},
   "outputs": [],
   "source": [
    "df3"
   ]
  },
  {
   "cell_type": "code",
   "execution_count": null,
   "id": "ed0dd50c",
   "metadata": {},
   "outputs": [],
   "source": [
    "### merging  of data sets"
   ]
  },
  {
   "cell_type": "code",
   "execution_count": null,
   "id": "5e10bb34",
   "metadata": {},
   "outputs": [],
   "source": [
    "df4 = pd.concat([df1,df2,df3])     ### row wise concatenation "
   ]
  },
  {
   "cell_type": "code",
   "execution_count": null,
   "id": "167e5384",
   "metadata": {},
   "outputs": [],
   "source": [
    "df5 = pd.concat([df1,df2,df3],axis =  1)                ####  column wise"
   ]
  },
  {
   "cell_type": "code",
   "execution_count": null,
   "id": "296c13b6",
   "metadata": {},
   "outputs": [],
   "source": [
    "df4"
   ]
  },
  {
   "cell_type": "code",
   "execution_count": null,
   "id": "0b8c5333",
   "metadata": {},
   "outputs": [],
   "source": [
    "df4"
   ]
  },
  {
   "cell_type": "code",
   "execution_count": null,
   "id": "19bb972b",
   "metadata": {},
   "outputs": [],
   "source": [
    "df4.iloc[0]"
   ]
  },
  {
   "cell_type": "code",
   "execution_count": null,
   "id": "6ce3e7ef",
   "metadata": {},
   "outputs": [],
   "source": [
    "df4.loc[0]"
   ]
  },
  {
   "cell_type": "code",
   "execution_count": null,
   "id": "a80045f6",
   "metadata": {},
   "outputs": [],
   "source": [
    "df5"
   ]
  },
  {
   "cell_type": "code",
   "execution_count": null,
   "id": "18e841d2",
   "metadata": {},
   "outputs": [],
   "source": [
    "df5['A']"
   ]
  },
  {
   "cell_type": "code",
   "execution_count": null,
   "id": "b52149f0",
   "metadata": {},
   "outputs": [],
   "source": [
    "df5 "
   ]
  },
  {
   "cell_type": "code",
   "execution_count": null,
   "id": "67ef0299",
   "metadata": {},
   "outputs": [],
   "source": [
    "df5.iloc[3]"
   ]
  },
  {
   "cell_type": "code",
   "execution_count": null,
   "id": "901fa857",
   "metadata": {},
   "outputs": [],
   "source": [
    "df5.iloc[:,4]"
   ]
  },
  {
   "cell_type": "code",
   "execution_count": null,
   "id": "874ac160",
   "metadata": {},
   "outputs": [],
   "source": [
    "pd.concat([df1,df2,df3],axis = 1).fillna(0)"
   ]
  },
  {
   "cell_type": "code",
   "execution_count": null,
   "id": "866aeb07",
   "metadata": {},
   "outputs": [],
   "source": [
    "df1"
   ]
  },
  {
   "cell_type": "code",
   "execution_count": null,
   "id": "15cd56b9",
   "metadata": {},
   "outputs": [],
   "source": [
    "df2"
   ]
  },
  {
   "cell_type": "code",
   "execution_count": null,
   "id": "07b1219e",
   "metadata": {},
   "outputs": [],
   "source": [
    "np.random.seed(23)\n",
    "arr1 = np.random.randn(3,4)\n",
    "np.random.seed(23)\n",
    "arr2 = np.random.randn(3,4)\n",
    "df11 = pd.DataFrame(arr1,columns = ['A','B','C','D'],index =[0,1,2])\n",
    "df22 = pd.DataFrame(arr2,columns = ['A','B','C','D'],index = [3,4,5])"
   ]
  },
  {
   "cell_type": "code",
   "execution_count": null,
   "id": "f90bce88",
   "metadata": {},
   "outputs": [],
   "source": [
    "df11"
   ]
  },
  {
   "cell_type": "code",
   "execution_count": null,
   "id": "977ffeb5",
   "metadata": {},
   "outputs": [],
   "source": [
    "df22"
   ]
  },
  {
   "cell_type": "code",
   "execution_count": null,
   "id": "53a74388",
   "metadata": {},
   "outputs": [],
   "source": [
    "###  MERGE"
   ]
  },
  {
   "cell_type": "code",
   "execution_count": null,
   "id": "a4003a5e",
   "metadata": {},
   "outputs": [],
   "source": []
  },
  {
   "cell_type": "code",
   "execution_count": null,
   "id": "93094c7e",
   "metadata": {},
   "outputs": [],
   "source": [
    "pd.merge(df11,df22)"
   ]
  },
  {
   "cell_type": "code",
   "execution_count": null,
   "id": "67395e72",
   "metadata": {},
   "outputs": [],
   "source": [
    "pd.merge(df11,df22,on =\"A\")"
   ]
  },
  {
   "cell_type": "code",
   "execution_count": null,
   "id": "bf1def71",
   "metadata": {},
   "outputs": [],
   "source": [
    "left = pd.DataFrame({'key':['K0','K8','K2','K3'],\n",
    "                    'A':['A0','A1','A2','A3'],\n",
    "                    'B':['B0','B1','B2','B3']})\n",
    "\n",
    "right = pd.DataFrame({'key':['K0','K1','K2','K3'],\n",
    "                    'C':['C0','C1','C2','C3'],\n",
    "                    'D':['D0','D1','D2','D3']})"
   ]
  },
  {
   "cell_type": "code",
   "execution_count": null,
   "id": "e61c2703",
   "metadata": {},
   "outputs": [],
   "source": [
    "left "
   ]
  },
  {
   "cell_type": "code",
   "execution_count": null,
   "id": "5796c54a",
   "metadata": {},
   "outputs": [],
   "source": [
    "right"
   ]
  },
  {
   "cell_type": "code",
   "execution_count": null,
   "id": "a39bfb03",
   "metadata": {},
   "outputs": [],
   "source": [
    "pd.merge(left,right)"
   ]
  },
  {
   "cell_type": "code",
   "execution_count": null,
   "id": "54f305c3",
   "metadata": {},
   "outputs": [],
   "source": [
    "pd.merge(left,right,on = 'key',how = 'left')"
   ]
  },
  {
   "cell_type": "code",
   "execution_count": null,
   "id": "7d3f4ea1",
   "metadata": {},
   "outputs": [],
   "source": [
    "pd.merge(left,right,on = 'key',how = 'right')"
   ]
  },
  {
   "cell_type": "code",
   "execution_count": null,
   "id": "55a6202a",
   "metadata": {},
   "outputs": [],
   "source": [
    "pd.merge(left,right,on = 'key',how = 'outer')"
   ]
  },
  {
   "cell_type": "code",
   "execution_count": 3,
   "id": "33cc8602",
   "metadata": {},
   "outputs": [],
   "source": [
    "df1 = pd.DataFrame({'key1':['K0','K8','K2','K3'],\n",
    "                     'key2':['K0','K1','K0','K1'],\n",
    "                        'A':['A0','A1','A2','A3'],\n",
    "                         'B':['B0','B1','B2','B3']})\n",
    "\n",
    "df2 = pd.DataFrame({'key1':['K0','K1','K1','K2'],\n",
    "                            'key2':['K0','K0','K0','K0'],\n",
    "                                 'C':['C0','C1','C2','C3'],\n",
    "                                  'D':['D0','D1','D2','D3']})"
   ]
  },
  {
   "cell_type": "code",
   "execution_count": 4,
   "id": "46f17e06",
   "metadata": {},
   "outputs": [
    {
     "data": {
      "text/html": [
       "<div>\n",
       "<style scoped>\n",
       "    .dataframe tbody tr th:only-of-type {\n",
       "        vertical-align: middle;\n",
       "    }\n",
       "\n",
       "    .dataframe tbody tr th {\n",
       "        vertical-align: top;\n",
       "    }\n",
       "\n",
       "    .dataframe thead th {\n",
       "        text-align: right;\n",
       "    }\n",
       "</style>\n",
       "<table border=\"1\" class=\"dataframe\">\n",
       "  <thead>\n",
       "    <tr style=\"text-align: right;\">\n",
       "      <th></th>\n",
       "      <th>key1</th>\n",
       "      <th>key2</th>\n",
       "      <th>A</th>\n",
       "      <th>B</th>\n",
       "    </tr>\n",
       "  </thead>\n",
       "  <tbody>\n",
       "    <tr>\n",
       "      <th>0</th>\n",
       "      <td>K0</td>\n",
       "      <td>K0</td>\n",
       "      <td>A0</td>\n",
       "      <td>B0</td>\n",
       "    </tr>\n",
       "    <tr>\n",
       "      <th>1</th>\n",
       "      <td>K8</td>\n",
       "      <td>K1</td>\n",
       "      <td>A1</td>\n",
       "      <td>B1</td>\n",
       "    </tr>\n",
       "    <tr>\n",
       "      <th>2</th>\n",
       "      <td>K2</td>\n",
       "      <td>K0</td>\n",
       "      <td>A2</td>\n",
       "      <td>B2</td>\n",
       "    </tr>\n",
       "    <tr>\n",
       "      <th>3</th>\n",
       "      <td>K3</td>\n",
       "      <td>K1</td>\n",
       "      <td>A3</td>\n",
       "      <td>B3</td>\n",
       "    </tr>\n",
       "  </tbody>\n",
       "</table>\n",
       "</div>"
      ],
      "text/plain": [
       "  key1 key2   A   B\n",
       "0   K0   K0  A0  B0\n",
       "1   K8   K1  A1  B1\n",
       "2   K2   K0  A2  B2\n",
       "3   K3   K1  A3  B3"
      ]
     },
     "execution_count": 4,
     "metadata": {},
     "output_type": "execute_result"
    }
   ],
   "source": [
    "df1"
   ]
  },
  {
   "cell_type": "code",
   "execution_count": 5,
   "id": "3fc00a99",
   "metadata": {},
   "outputs": [
    {
     "data": {
      "text/html": [
       "<div>\n",
       "<style scoped>\n",
       "    .dataframe tbody tr th:only-of-type {\n",
       "        vertical-align: middle;\n",
       "    }\n",
       "\n",
       "    .dataframe tbody tr th {\n",
       "        vertical-align: top;\n",
       "    }\n",
       "\n",
       "    .dataframe thead th {\n",
       "        text-align: right;\n",
       "    }\n",
       "</style>\n",
       "<table border=\"1\" class=\"dataframe\">\n",
       "  <thead>\n",
       "    <tr style=\"text-align: right;\">\n",
       "      <th></th>\n",
       "      <th>key1</th>\n",
       "      <th>key2</th>\n",
       "      <th>C</th>\n",
       "      <th>D</th>\n",
       "    </tr>\n",
       "  </thead>\n",
       "  <tbody>\n",
       "    <tr>\n",
       "      <th>0</th>\n",
       "      <td>K0</td>\n",
       "      <td>K0</td>\n",
       "      <td>C0</td>\n",
       "      <td>D0</td>\n",
       "    </tr>\n",
       "    <tr>\n",
       "      <th>1</th>\n",
       "      <td>K1</td>\n",
       "      <td>K0</td>\n",
       "      <td>C1</td>\n",
       "      <td>D1</td>\n",
       "    </tr>\n",
       "    <tr>\n",
       "      <th>2</th>\n",
       "      <td>K1</td>\n",
       "      <td>K0</td>\n",
       "      <td>C2</td>\n",
       "      <td>D2</td>\n",
       "    </tr>\n",
       "    <tr>\n",
       "      <th>3</th>\n",
       "      <td>K2</td>\n",
       "      <td>K0</td>\n",
       "      <td>C3</td>\n",
       "      <td>D3</td>\n",
       "    </tr>\n",
       "  </tbody>\n",
       "</table>\n",
       "</div>"
      ],
      "text/plain": [
       "  key1 key2   C   D\n",
       "0   K0   K0  C0  D0\n",
       "1   K1   K0  C1  D1\n",
       "2   K1   K0  C2  D2\n",
       "3   K2   K0  C3  D3"
      ]
     },
     "execution_count": 5,
     "metadata": {},
     "output_type": "execute_result"
    }
   ],
   "source": [
    "df2"
   ]
  },
  {
   "cell_type": "code",
   "execution_count": 16,
   "id": "32d23781",
   "metadata": {},
   "outputs": [
    {
     "ename": "KeyError",
     "evalue": "'key1'",
     "output_type": "error",
     "traceback": [
      "\u001b[1;31m---------------------------------------------------------------------------\u001b[0m",
      "\u001b[1;31mKeyError\u001b[0m                                  Traceback (most recent call last)",
      "\u001b[1;32m<ipython-input-16-df471a99c9a5>\u001b[0m in \u001b[0;36m<module>\u001b[1;34m\u001b[0m\n\u001b[1;32m----> 1\u001b[1;33m \u001b[0mpd\u001b[0m\u001b[1;33m.\u001b[0m\u001b[0mmerge\u001b[0m\u001b[1;33m(\u001b[0m\u001b[0mdf1\u001b[0m\u001b[1;33m,\u001b[0m\u001b[0mdf2\u001b[0m\u001b[1;33m,\u001b[0m\u001b[0mon\u001b[0m \u001b[1;33m=\u001b[0m \u001b[1;33m[\u001b[0m\u001b[1;34m'key1'\u001b[0m\u001b[1;33m,\u001b[0m\u001b[1;34m'key2'\u001b[0m\u001b[1;33m]\u001b[0m\u001b[1;33m)\u001b[0m         \u001b[1;31m### join based on cloumns\u001b[0m\u001b[1;33m\u001b[0m\u001b[1;33m\u001b[0m\u001b[0m\n\u001b[0m",
      "\u001b[1;32m~\\anaconda3\\lib\\site-packages\\pandas\\core\\reshape\\merge.py\u001b[0m in \u001b[0;36mmerge\u001b[1;34m(left, right, how, on, left_on, right_on, left_index, right_index, sort, suffixes, copy, indicator, validate)\u001b[0m\n\u001b[0;32m     72\u001b[0m     \u001b[0mvalidate\u001b[0m\u001b[1;33m=\u001b[0m\u001b[1;32mNone\u001b[0m\u001b[1;33m,\u001b[0m\u001b[1;33m\u001b[0m\u001b[1;33m\u001b[0m\u001b[0m\n\u001b[0;32m     73\u001b[0m ) -> \"DataFrame\":\n\u001b[1;32m---> 74\u001b[1;33m     op = _MergeOperation(\n\u001b[0m\u001b[0;32m     75\u001b[0m         \u001b[0mleft\u001b[0m\u001b[1;33m,\u001b[0m\u001b[1;33m\u001b[0m\u001b[1;33m\u001b[0m\u001b[0m\n\u001b[0;32m     76\u001b[0m         \u001b[0mright\u001b[0m\u001b[1;33m,\u001b[0m\u001b[1;33m\u001b[0m\u001b[1;33m\u001b[0m\u001b[0m\n",
      "\u001b[1;32m~\\anaconda3\\lib\\site-packages\\pandas\\core\\reshape\\merge.py\u001b[0m in \u001b[0;36m__init__\u001b[1;34m(self, left, right, how, on, left_on, right_on, axis, left_index, right_index, sort, suffixes, copy, indicator, validate)\u001b[0m\n\u001b[0;32m    666\u001b[0m             \u001b[0mself\u001b[0m\u001b[1;33m.\u001b[0m\u001b[0mright_join_keys\u001b[0m\u001b[1;33m,\u001b[0m\u001b[1;33m\u001b[0m\u001b[1;33m\u001b[0m\u001b[0m\n\u001b[0;32m    667\u001b[0m             \u001b[0mself\u001b[0m\u001b[1;33m.\u001b[0m\u001b[0mjoin_names\u001b[0m\u001b[1;33m,\u001b[0m\u001b[1;33m\u001b[0m\u001b[1;33m\u001b[0m\u001b[0m\n\u001b[1;32m--> 668\u001b[1;33m         ) = self._get_merge_keys()\n\u001b[0m\u001b[0;32m    669\u001b[0m \u001b[1;33m\u001b[0m\u001b[0m\n\u001b[0;32m    670\u001b[0m         \u001b[1;31m# validate the merge keys dtypes. We may need to coerce\u001b[0m\u001b[1;33m\u001b[0m\u001b[1;33m\u001b[0m\u001b[1;33m\u001b[0m\u001b[0m\n",
      "\u001b[1;32m~\\anaconda3\\lib\\site-packages\\pandas\\core\\reshape\\merge.py\u001b[0m in \u001b[0;36m_get_merge_keys\u001b[1;34m(self)\u001b[0m\n\u001b[0;32m   1031\u001b[0m                     \u001b[1;32mif\u001b[0m \u001b[1;32mnot\u001b[0m \u001b[0mis_rkey\u001b[0m\u001b[1;33m(\u001b[0m\u001b[0mrk\u001b[0m\u001b[1;33m)\u001b[0m\u001b[1;33m:\u001b[0m\u001b[1;33m\u001b[0m\u001b[1;33m\u001b[0m\u001b[0m\n\u001b[0;32m   1032\u001b[0m                         \u001b[1;32mif\u001b[0m \u001b[0mrk\u001b[0m \u001b[1;32mis\u001b[0m \u001b[1;32mnot\u001b[0m \u001b[1;32mNone\u001b[0m\u001b[1;33m:\u001b[0m\u001b[1;33m\u001b[0m\u001b[1;33m\u001b[0m\u001b[0m\n\u001b[1;32m-> 1033\u001b[1;33m                             \u001b[0mright_keys\u001b[0m\u001b[1;33m.\u001b[0m\u001b[0mappend\u001b[0m\u001b[1;33m(\u001b[0m\u001b[0mright\u001b[0m\u001b[1;33m.\u001b[0m\u001b[0m_get_label_or_level_values\u001b[0m\u001b[1;33m(\u001b[0m\u001b[0mrk\u001b[0m\u001b[1;33m)\u001b[0m\u001b[1;33m)\u001b[0m\u001b[1;33m\u001b[0m\u001b[1;33m\u001b[0m\u001b[0m\n\u001b[0m\u001b[0;32m   1034\u001b[0m                         \u001b[1;32melse\u001b[0m\u001b[1;33m:\u001b[0m\u001b[1;33m\u001b[0m\u001b[1;33m\u001b[0m\u001b[0m\n\u001b[0;32m   1035\u001b[0m                             \u001b[1;31m# work-around for merge_asof(right_index=True)\u001b[0m\u001b[1;33m\u001b[0m\u001b[1;33m\u001b[0m\u001b[1;33m\u001b[0m\u001b[0m\n",
      "\u001b[1;32m~\\anaconda3\\lib\\site-packages\\pandas\\core\\generic.py\u001b[0m in \u001b[0;36m_get_label_or_level_values\u001b[1;34m(self, key, axis)\u001b[0m\n\u001b[0;32m   1682\u001b[0m             \u001b[0mvalues\u001b[0m \u001b[1;33m=\u001b[0m \u001b[0mself\u001b[0m\u001b[1;33m.\u001b[0m\u001b[0maxes\u001b[0m\u001b[1;33m[\u001b[0m\u001b[0maxis\u001b[0m\u001b[1;33m]\u001b[0m\u001b[1;33m.\u001b[0m\u001b[0mget_level_values\u001b[0m\u001b[1;33m(\u001b[0m\u001b[0mkey\u001b[0m\u001b[1;33m)\u001b[0m\u001b[1;33m.\u001b[0m\u001b[0m_values\u001b[0m\u001b[1;33m\u001b[0m\u001b[1;33m\u001b[0m\u001b[0m\n\u001b[0;32m   1683\u001b[0m         \u001b[1;32melse\u001b[0m\u001b[1;33m:\u001b[0m\u001b[1;33m\u001b[0m\u001b[1;33m\u001b[0m\u001b[0m\n\u001b[1;32m-> 1684\u001b[1;33m             \u001b[1;32mraise\u001b[0m \u001b[0mKeyError\u001b[0m\u001b[1;33m(\u001b[0m\u001b[0mkey\u001b[0m\u001b[1;33m)\u001b[0m\u001b[1;33m\u001b[0m\u001b[1;33m\u001b[0m\u001b[0m\n\u001b[0m\u001b[0;32m   1685\u001b[0m \u001b[1;33m\u001b[0m\u001b[0m\n\u001b[0;32m   1686\u001b[0m         \u001b[1;31m# Check for duplicates\u001b[0m\u001b[1;33m\u001b[0m\u001b[1;33m\u001b[0m\u001b[1;33m\u001b[0m\u001b[0m\n",
      "\u001b[1;31mKeyError\u001b[0m: 'key1'"
     ]
    }
   ],
   "source": [
    "pd.merge(df1,df2,on = ['key1','key2'])         ### join based on coloumns"
   ]
  },
  {
   "cell_type": "code",
   "execution_count": 11,
   "id": "d48a799f",
   "metadata": {},
   "outputs": [],
   "source": [
    "df1  = pd.DataFrame({'A':['A0','A1','A2'],\n",
    "                    'B':['B0','B1','B2']},\n",
    "                     index = ['K0','K1','K2'])\n",
    "\n",
    "df2 = pd.DataFrame({'C':['C0','C2','C3'],\n",
    "                     'D':['D0','D2','D3']},\n",
    "                  index = ['K0','K2','K3'])"
   ]
  },
  {
   "cell_type": "code",
   "execution_count": 12,
   "id": "cc01a703",
   "metadata": {},
   "outputs": [
    {
     "data": {
      "text/html": [
       "<div>\n",
       "<style scoped>\n",
       "    .dataframe tbody tr th:only-of-type {\n",
       "        vertical-align: middle;\n",
       "    }\n",
       "\n",
       "    .dataframe tbody tr th {\n",
       "        vertical-align: top;\n",
       "    }\n",
       "\n",
       "    .dataframe thead th {\n",
       "        text-align: right;\n",
       "    }\n",
       "</style>\n",
       "<table border=\"1\" class=\"dataframe\">\n",
       "  <thead>\n",
       "    <tr style=\"text-align: right;\">\n",
       "      <th></th>\n",
       "      <th>A</th>\n",
       "      <th>B</th>\n",
       "    </tr>\n",
       "  </thead>\n",
       "  <tbody>\n",
       "    <tr>\n",
       "      <th>K0</th>\n",
       "      <td>A0</td>\n",
       "      <td>B0</td>\n",
       "    </tr>\n",
       "    <tr>\n",
       "      <th>K1</th>\n",
       "      <td>A1</td>\n",
       "      <td>B1</td>\n",
       "    </tr>\n",
       "    <tr>\n",
       "      <th>K2</th>\n",
       "      <td>A2</td>\n",
       "      <td>B2</td>\n",
       "    </tr>\n",
       "  </tbody>\n",
       "</table>\n",
       "</div>"
      ],
      "text/plain": [
       "     A   B\n",
       "K0  A0  B0\n",
       "K1  A1  B1\n",
       "K2  A2  B2"
      ]
     },
     "execution_count": 12,
     "metadata": {},
     "output_type": "execute_result"
    }
   ],
   "source": [
    "df1"
   ]
  },
  {
   "cell_type": "code",
   "execution_count": 13,
   "id": "d578634e",
   "metadata": {},
   "outputs": [
    {
     "data": {
      "text/html": [
       "<div>\n",
       "<style scoped>\n",
       "    .dataframe tbody tr th:only-of-type {\n",
       "        vertical-align: middle;\n",
       "    }\n",
       "\n",
       "    .dataframe tbody tr th {\n",
       "        vertical-align: top;\n",
       "    }\n",
       "\n",
       "    .dataframe thead th {\n",
       "        text-align: right;\n",
       "    }\n",
       "</style>\n",
       "<table border=\"1\" class=\"dataframe\">\n",
       "  <thead>\n",
       "    <tr style=\"text-align: right;\">\n",
       "      <th></th>\n",
       "      <th>C</th>\n",
       "      <th>D</th>\n",
       "    </tr>\n",
       "  </thead>\n",
       "  <tbody>\n",
       "    <tr>\n",
       "      <th>K0</th>\n",
       "      <td>C0</td>\n",
       "      <td>D0</td>\n",
       "    </tr>\n",
       "    <tr>\n",
       "      <th>K2</th>\n",
       "      <td>C2</td>\n",
       "      <td>D2</td>\n",
       "    </tr>\n",
       "    <tr>\n",
       "      <th>K3</th>\n",
       "      <td>C3</td>\n",
       "      <td>D3</td>\n",
       "    </tr>\n",
       "  </tbody>\n",
       "</table>\n",
       "</div>"
      ],
      "text/plain": [
       "     C   D\n",
       "K0  C0  D0\n",
       "K2  C2  D2\n",
       "K3  C3  D3"
      ]
     },
     "execution_count": 13,
     "metadata": {},
     "output_type": "execute_result"
    }
   ],
   "source": [
    "df2"
   ]
  },
  {
   "cell_type": "code",
   "execution_count": 15,
   "id": "41d141d3",
   "metadata": {},
   "outputs": [
    {
     "data": {
      "text/html": [
       "<div>\n",
       "<style scoped>\n",
       "    .dataframe tbody tr th:only-of-type {\n",
       "        vertical-align: middle;\n",
       "    }\n",
       "\n",
       "    .dataframe tbody tr th {\n",
       "        vertical-align: top;\n",
       "    }\n",
       "\n",
       "    .dataframe thead th {\n",
       "        text-align: right;\n",
       "    }\n",
       "</style>\n",
       "<table border=\"1\" class=\"dataframe\">\n",
       "  <thead>\n",
       "    <tr style=\"text-align: right;\">\n",
       "      <th></th>\n",
       "      <th>A</th>\n",
       "      <th>B</th>\n",
       "      <th>C</th>\n",
       "      <th>D</th>\n",
       "    </tr>\n",
       "  </thead>\n",
       "  <tbody>\n",
       "    <tr>\n",
       "      <th>K0</th>\n",
       "      <td>A0</td>\n",
       "      <td>B0</td>\n",
       "      <td>C0</td>\n",
       "      <td>D0</td>\n",
       "    </tr>\n",
       "    <tr>\n",
       "      <th>K1</th>\n",
       "      <td>A1</td>\n",
       "      <td>B1</td>\n",
       "      <td>NaN</td>\n",
       "      <td>NaN</td>\n",
       "    </tr>\n",
       "    <tr>\n",
       "      <th>K2</th>\n",
       "      <td>A2</td>\n",
       "      <td>B2</td>\n",
       "      <td>C2</td>\n",
       "      <td>D2</td>\n",
       "    </tr>\n",
       "  </tbody>\n",
       "</table>\n",
       "</div>"
      ],
      "text/plain": [
       "     A   B    C    D\n",
       "K0  A0  B0   C0   D0\n",
       "K1  A1  B1  NaN  NaN\n",
       "K2  A2  B2   C2   D2"
      ]
     },
     "execution_count": 15,
     "metadata": {},
     "output_type": "execute_result"
    }
   ],
   "source": [
    "df1.join(df2)          #### exactly same as merge operation            joining based on indexes"
   ]
  },
  {
   "cell_type": "code",
   "execution_count": 17,
   "id": "ef0ffa3e",
   "metadata": {},
   "outputs": [
    {
     "data": {
      "text/html": [
       "<div>\n",
       "<style scoped>\n",
       "    .dataframe tbody tr th:only-of-type {\n",
       "        vertical-align: middle;\n",
       "    }\n",
       "\n",
       "    .dataframe tbody tr th {\n",
       "        vertical-align: top;\n",
       "    }\n",
       "\n",
       "    .dataframe thead th {\n",
       "        text-align: right;\n",
       "    }\n",
       "</style>\n",
       "<table border=\"1\" class=\"dataframe\">\n",
       "  <thead>\n",
       "    <tr style=\"text-align: right;\">\n",
       "      <th></th>\n",
       "      <th>A</th>\n",
       "      <th>B</th>\n",
       "      <th>C</th>\n",
       "      <th>D</th>\n",
       "    </tr>\n",
       "  </thead>\n",
       "  <tbody>\n",
       "    <tr>\n",
       "      <th>K0</th>\n",
       "      <td>A0</td>\n",
       "      <td>B0</td>\n",
       "      <td>C0</td>\n",
       "      <td>D0</td>\n",
       "    </tr>\n",
       "    <tr>\n",
       "      <th>K1</th>\n",
       "      <td>A1</td>\n",
       "      <td>B1</td>\n",
       "      <td>NaN</td>\n",
       "      <td>NaN</td>\n",
       "    </tr>\n",
       "    <tr>\n",
       "      <th>K2</th>\n",
       "      <td>A2</td>\n",
       "      <td>B2</td>\n",
       "      <td>C2</td>\n",
       "      <td>D2</td>\n",
       "    </tr>\n",
       "    <tr>\n",
       "      <th>K3</th>\n",
       "      <td>NaN</td>\n",
       "      <td>NaN</td>\n",
       "      <td>C3</td>\n",
       "      <td>D3</td>\n",
       "    </tr>\n",
       "  </tbody>\n",
       "</table>\n",
       "</div>"
      ],
      "text/plain": [
       "      A    B    C    D\n",
       "K0   A0   B0   C0   D0\n",
       "K1   A1   B1  NaN  NaN\n",
       "K2   A2   B2   C2   D2\n",
       "K3  NaN  NaN   C3   D3"
      ]
     },
     "execution_count": 17,
     "metadata": {},
     "output_type": "execute_result"
    }
   ],
   "source": [
    "df1.join(df2,how = 'outer')"
   ]
  },
  {
   "cell_type": "code",
   "execution_count": 18,
   "id": "1e33c2c6",
   "metadata": {},
   "outputs": [
    {
     "data": {
      "text/html": [
       "<div>\n",
       "<style scoped>\n",
       "    .dataframe tbody tr th:only-of-type {\n",
       "        vertical-align: middle;\n",
       "    }\n",
       "\n",
       "    .dataframe tbody tr th {\n",
       "        vertical-align: top;\n",
       "    }\n",
       "\n",
       "    .dataframe thead th {\n",
       "        text-align: right;\n",
       "    }\n",
       "</style>\n",
       "<table border=\"1\" class=\"dataframe\">\n",
       "  <thead>\n",
       "    <tr style=\"text-align: right;\">\n",
       "      <th></th>\n",
       "      <th>A</th>\n",
       "      <th>B</th>\n",
       "      <th>C</th>\n",
       "      <th>D</th>\n",
       "    </tr>\n",
       "  </thead>\n",
       "  <tbody>\n",
       "    <tr>\n",
       "      <th>K0</th>\n",
       "      <td>A0</td>\n",
       "      <td>B0</td>\n",
       "      <td>C0</td>\n",
       "      <td>D0</td>\n",
       "    </tr>\n",
       "    <tr>\n",
       "      <th>K2</th>\n",
       "      <td>A2</td>\n",
       "      <td>B2</td>\n",
       "      <td>C2</td>\n",
       "      <td>D2</td>\n",
       "    </tr>\n",
       "    <tr>\n",
       "      <th>K3</th>\n",
       "      <td>NaN</td>\n",
       "      <td>NaN</td>\n",
       "      <td>C3</td>\n",
       "      <td>D3</td>\n",
       "    </tr>\n",
       "  </tbody>\n",
       "</table>\n",
       "</div>"
      ],
      "text/plain": [
       "      A    B   C   D\n",
       "K0   A0   B0  C0  D0\n",
       "K2   A2   B2  C2  D2\n",
       "K3  NaN  NaN  C3  D3"
      ]
     },
     "execution_count": 18,
     "metadata": {},
     "output_type": "execute_result"
    }
   ],
   "source": [
    "df1.join(df2,how = 'right')"
   ]
  },
  {
   "cell_type": "code",
   "execution_count": null,
   "id": "5422704e",
   "metadata": {},
   "outputs": [],
   "source": []
  }
 ],
 "metadata": {
  "kernelspec": {
   "display_name": "Python 3",
   "language": "python",
   "name": "python3"
  },
  "language_info": {
   "codemirror_mode": {
    "name": "ipython",
    "version": 3
   },
   "file_extension": ".py",
   "mimetype": "text/x-python",
   "name": "python",
   "nbconvert_exporter": "python",
   "pygments_lexer": "ipython3",
   "version": "3.8.8"
  }
 },
 "nbformat": 4,
 "nbformat_minor": 5
}
