{
 "cells": [
  {
   "cell_type": "code",
   "execution_count": null,
   "id": "c54ce43a",
   "metadata": {},
   "outputs": [],
   "source": [
    "import pandas as pd"
   ]
  },
  {
   "cell_type": "code",
   "execution_count": null,
   "id": "72f92c61",
   "metadata": {},
   "outputs": [],
   "source": [
    "df=pd.read_csv('titanic_train.csv')"
   ]
  },
  {
   "cell_type": "code",
   "execution_count": null,
   "id": "3fbf4ab1",
   "metadata": {},
   "outputs": [],
   "source": [
    "df.head()"
   ]
  },
  {
   "cell_type": "code",
   "execution_count": null,
   "id": "f5511e00",
   "metadata": {},
   "outputs": [],
   "source": [
    "type(df)"
   ]
  },
  {
   "cell_type": "code",
   "execution_count": null,
   "id": "450fc617",
   "metadata": {},
   "outputs": [],
   "source": [
    "df.columns"
   ]
  },
  {
   "cell_type": "code",
   "execution_count": null,
   "id": "57b13305",
   "metadata": {},
   "outputs": [],
   "source": [
    "df.dtypes"
   ]
  },
  {
   "cell_type": "code",
   "execution_count": null,
   "id": "acbc734a",
   "metadata": {},
   "outputs": [],
   "source": [
    "type(df.dtypes)"
   ]
  },
  {
   "cell_type": "code",
   "execution_count": null,
   "id": "de33ca2c",
   "metadata": {},
   "outputs": [],
   "source": [
    "type(df.columns)"
   ]
  },
  {
   "cell_type": "code",
   "execution_count": null,
   "id": "0a7d1ea3",
   "metadata": {},
   "outputs": [],
   "source": [
    "dy=df.dtypes"
   ]
  },
  {
   "cell_type": "code",
   "execution_count": null,
   "id": "3bfa8a63",
   "metadata": {},
   "outputs": [],
   "source": [
    "dy['Pclass']"
   ]
  },
  {
   "cell_type": "code",
   "execution_count": null,
   "id": "a2f1c296",
   "metadata": {},
   "outputs": [],
   "source": [
    "###          series is almost equvalent to a list "
   ]
  },
  {
   "cell_type": "code",
   "execution_count": null,
   "id": "a6a915f2",
   "metadata": {},
   "outputs": [],
   "source": [
    "##   series have indexes through which we can access its data"
   ]
  },
  {
   "cell_type": "code",
   "execution_count": null,
   "id": "c6b99f5a",
   "metadata": {},
   "outputs": [],
   "source": [
    "l=[0,1,2,3,4,5,\"swe\",\"pand\",\"raj\"]"
   ]
  },
  {
   "cell_type": "code",
   "execution_count": null,
   "id": "65d7c01f",
   "metadata": {
    "scrolled": true
   },
   "outputs": [],
   "source": [
    "l[6]"
   ]
  },
  {
   "cell_type": "code",
   "execution_count": null,
   "id": "9bb7dd80",
   "metadata": {},
   "outputs": [],
   "source": [
    "dy[0]"
   ]
  },
  {
   "cell_type": "code",
   "execution_count": null,
   "id": "0c235beb",
   "metadata": {},
   "outputs": [],
   "source": [
    "dy[0:4]"
   ]
  },
  {
   "cell_type": "code",
   "execution_count": null,
   "id": "34bd71d7",
   "metadata": {},
   "outputs": [],
   "source": [
    "df[\"Age\"]"
   ]
  },
  {
   "cell_type": "code",
   "execution_count": null,
   "id": "16623329",
   "metadata": {},
   "outputs": [],
   "source": [
    "type(df[\"Age\"])"
   ]
  },
  {
   "cell_type": "code",
   "execution_count": null,
   "id": "eef3b387",
   "metadata": {},
   "outputs": [],
   "source": [
    "df[\"Age\"][::-1]"
   ]
  },
  {
   "cell_type": "code",
   "execution_count": null,
   "id": "a94658d3",
   "metadata": {},
   "outputs": [],
   "source": [
    "df[\"Age\"][10:100:2]"
   ]
  },
  {
   "cell_type": "code",
   "execution_count": null,
   "id": "b51257ed",
   "metadata": {},
   "outputs": [],
   "source": [
    "list(df['Age'][::2]) "
   ]
  },
  {
   "cell_type": "code",
   "execution_count": null,
   "id": "59d28072",
   "metadata": {},
   "outputs": [],
   "source": [
    "df.dtypes"
   ]
  },
  {
   "cell_type": "code",
   "execution_count": null,
   "id": "f947c317",
   "metadata": {},
   "outputs": [],
   "source": [
    "df.describe()"
   ]
  },
  {
   "cell_type": "code",
   "execution_count": null,
   "id": "181b171e",
   "metadata": {},
   "outputs": [],
   "source": [
    "df.dtypes"
   ]
  },
  {
   "cell_type": "code",
   "execution_count": null,
   "id": "c3acdba1",
   "metadata": {},
   "outputs": [],
   "source": [
    "df[df.dtypes[df.dtypes=='object'].index]"
   ]
  },
  {
   "cell_type": "code",
   "execution_count": null,
   "id": "60d6ce51",
   "metadata": {},
   "outputs": [],
   "source": [
    "df_cat=df[df.dtypes[df.dtypes=='object'].index]"
   ]
  },
  {
   "cell_type": "code",
   "execution_count": null,
   "id": "6dcdc5fb",
   "metadata": {},
   "outputs": [],
   "source": [
    "df_cat.describe()"
   ]
  },
  {
   "cell_type": "code",
   "execution_count": null,
   "id": "70e80406",
   "metadata": {},
   "outputs": [],
   "source": [
    "df.columns"
   ]
  },
  {
   "cell_type": "code",
   "execution_count": null,
   "id": "6afcfe11",
   "metadata": {},
   "outputs": [],
   "source": [
    "df[['Name','Fare']]"
   ]
  },
  {
   "cell_type": "code",
   "execution_count": null,
   "id": "44a248f0",
   "metadata": {},
   "outputs": [],
   "source": [
    "type(df[['Name','Fare']])"
   ]
  },
  {
   "cell_type": "code",
   "execution_count": null,
   "id": "df827b0b",
   "metadata": {},
   "outputs": [],
   "source": [
    "df[[\"Name\"]]"
   ]
  },
  {
   "cell_type": "code",
   "execution_count": null,
   "id": "aa2851c2",
   "metadata": {},
   "outputs": [],
   "source": [
    "df['Age'].isnull() ==True"
   ]
  },
  {
   "cell_type": "code",
   "execution_count": null,
   "id": "c54bf442",
   "metadata": {},
   "outputs": [],
   "source": [
    "df[df['Age'].isnull()].index"
   ]
  },
  {
   "cell_type": "code",
   "execution_count": null,
   "id": "01c7696b",
   "metadata": {},
   "outputs": [],
   "source": [
    "import numpy as np"
   ]
  },
  {
   "cell_type": "code",
   "execution_count": null,
   "id": "93b46362",
   "metadata": {},
   "outputs": [],
   "source": [
    "np.where(df[\"Age\"].isnull()==True)"
   ]
  },
  {
   "cell_type": "code",
   "execution_count": null,
   "id": "ee308aac",
   "metadata": {},
   "outputs": [],
   "source": [
    "df_age_null = np.where(df[\"Age\"].isnull()==True)"
   ]
  },
  {
   "cell_type": "code",
   "execution_count": null,
   "id": "f949d4fb",
   "metadata": {},
   "outputs": [],
   "source": [
    "df_age_null"
   ]
  },
  {
   "cell_type": "code",
   "execution_count": null,
   "id": "9d5142cf",
   "metadata": {},
   "outputs": [],
   "source": [
    "df.iloc[df_age_null]"
   ]
  },
  {
   "cell_type": "code",
   "execution_count": null,
   "id": "b07143c4",
   "metadata": {},
   "outputs": [],
   "source": [
    "df.iloc[5]"
   ]
  },
  {
   "cell_type": "code",
   "execution_count": null,
   "id": "f5d6c656",
   "metadata": {},
   "outputs": [],
   "source": [
    "type(df.iloc[5])"
   ]
  },
  {
   "cell_type": "code",
   "execution_count": null,
   "id": "59a37c2e",
   "metadata": {},
   "outputs": [],
   "source": [
    "df.iloc[[1,2,3,5,6,7]]"
   ]
  },
  {
   "cell_type": "code",
   "execution_count": null,
   "id": "230c34ab",
   "metadata": {},
   "outputs": [],
   "source": [
    "df['Fare']==max(df['Fare'])"
   ]
  },
  {
   "cell_type": "code",
   "execution_count": null,
   "id": "dfdb44d0",
   "metadata": {},
   "outputs": [],
   "source": [
    "np.where(df['Fare']==max(df['Fare']))"
   ]
  },
  {
   "cell_type": "code",
   "execution_count": null,
   "id": "a481f1b2",
   "metadata": {},
   "outputs": [],
   "source": [
    "df.iloc[np.where(df['Fare']==max(df['Fare']))]['Name']"
   ]
  },
  {
   "cell_type": "code",
   "execution_count": null,
   "id": "0a9cdda1",
   "metadata": {},
   "outputs": [],
   "source": [
    "df.iloc[np.where(df['Age']==24.0)]['Name']"
   ]
  },
  {
   "cell_type": "code",
   "execution_count": null,
   "id": "640eb288",
   "metadata": {},
   "outputs": [],
   "source": [
    "df[df['Age']==24.0]['Name']"
   ]
  },
  {
   "cell_type": "code",
   "execution_count": null,
   "id": "db4a11a6",
   "metadata": {},
   "outputs": [],
   "source": [
    "df[df['Cabin'].isnull()][['Age','Cabin']]"
   ]
  },
  {
   "cell_type": "code",
   "execution_count": null,
   "id": "29c32c54",
   "metadata": {},
   "outputs": [],
   "source": [
    "df.Name[(df.Survived==1) & (df.Sex=='male')]"
   ]
  },
  {
   "cell_type": "code",
   "execution_count": null,
   "id": "d35ca3e9",
   "metadata": {},
   "outputs": [],
   "source": [
    "df['new_col']='Swe'"
   ]
  },
  {
   "cell_type": "code",
   "execution_count": null,
   "id": "dd2f7330",
   "metadata": {},
   "outputs": [],
   "source": [
    "df"
   ]
  },
  {
   "cell_type": "code",
   "execution_count": null,
   "id": "aed803e3",
   "metadata": {},
   "outputs": [],
   "source": [
    "l=[1,2,3,4,5]"
   ]
  },
  {
   "cell_type": "code",
   "execution_count": null,
   "id": "92e75939",
   "metadata": {},
   "outputs": [],
   "source": [
    "pd.Series(l)"
   ]
  },
  {
   "cell_type": "code",
   "execution_count": null,
   "id": "cb079168",
   "metadata": {},
   "outputs": [],
   "source": [
    "d={'key':'Swe','title':'pan','mail':\"swe#gmail.com\"}"
   ]
  },
  {
   "cell_type": "code",
   "execution_count": null,
   "id": "ca20dcd7",
   "metadata": {},
   "outputs": [],
   "source": [
    "pd.DataFrame(d)"
   ]
  },
  {
   "cell_type": "code",
   "execution_count": null,
   "id": "c33b87a4",
   "metadata": {},
   "outputs": [],
   "source": [
    "pd.DataFrame(d,index=['key','title','mail'])"
   ]
  },
  {
   "cell_type": "code",
   "execution_count": null,
   "id": "0233c2d9",
   "metadata": {},
   "outputs": [],
   "source": [
    "pd.Series(d)"
   ]
  },
  {
   "cell_type": "code",
   "execution_count": null,
   "id": "555cd18f",
   "metadata": {},
   "outputs": [],
   "source": [
    "arr = np.random.randn(3,4)"
   ]
  },
  {
   "cell_type": "code",
   "execution_count": null,
   "id": "df861ac7",
   "metadata": {},
   "outputs": [],
   "source": [
    "pd.DataFrame(arr)"
   ]
  },
  {
   "cell_type": "code",
   "execution_count": null,
   "id": "7dfc1fb1",
   "metadata": {},
   "outputs": [],
   "source": [
    "pd.Series(np.array([4,5,6,7,8]))"
   ]
  },
  {
   "cell_type": "code",
   "execution_count": null,
   "id": "7be1bbe4",
   "metadata": {},
   "outputs": [],
   "source": [
    "s=pd.Series(np.array([4,5,6,7,8]),index=['a','b','swe','pan','python'])"
   ]
  },
  {
   "cell_type": "code",
   "execution_count": null,
   "id": "c58a1d88",
   "metadata": {},
   "outputs": [],
   "source": [
    "s"
   ]
  },
  {
   "cell_type": "code",
   "execution_count": null,
   "id": "3985fa00",
   "metadata": {},
   "outputs": [],
   "source": [
    "s['swe']"
   ]
  },
  {
   "cell_type": "code",
   "execution_count": null,
   "id": "c598a2d8",
   "metadata": {},
   "outputs": [],
   "source": [
    "s.iloc[3]"
   ]
  },
  {
   "cell_type": "code",
   "execution_count": null,
   "id": "c3023e49",
   "metadata": {},
   "outputs": [],
   "source": [
    "s.iloc[2]"
   ]
  },
  {
   "cell_type": "code",
   "execution_count": null,
   "id": "f1d9388c",
   "metadata": {},
   "outputs": [],
   "source": [
    "s.loc['swe']"
   ]
  },
  {
   "cell_type": "code",
   "execution_count": null,
   "id": "2fac6744",
   "metadata": {},
   "outputs": [],
   "source": [
    "np.random.randint(3,6,(4,5))"
   ]
  },
  {
   "cell_type": "code",
   "execution_count": null,
   "id": "e2403ba5",
   "metadata": {},
   "outputs": [],
   "source": [
    "df = pd.DataFrame(np.random.randint(3,6,(4,5)),index=['a','b','c','d'],columns=['x','y','z','u','v'])"
   ]
  },
  {
   "cell_type": "code",
   "execution_count": null,
   "id": "f7d53d3c",
   "metadata": {},
   "outputs": [],
   "source": [
    "df"
   ]
  },
  {
   "cell_type": "code",
   "execution_count": null,
   "id": "47e59916",
   "metadata": {},
   "outputs": [],
   "source": [
    "df.iloc[2:,2:4]"
   ]
  },
  {
   "cell_type": "code",
   "execution_count": null,
   "id": "cb3b4f93",
   "metadata": {},
   "outputs": [],
   "source": [
    "df"
   ]
  },
  {
   "cell_type": "code",
   "execution_count": null,
   "id": "38cdf034",
   "metadata": {},
   "outputs": [],
   "source": [
    "df['new']=df['x']+df.y"
   ]
  },
  {
   "cell_type": "code",
   "execution_count": null,
   "id": "0a2d3356",
   "metadata": {},
   "outputs": [],
   "source": [
    "df"
   ]
  },
  {
   "cell_type": "code",
   "execution_count": null,
   "id": "64ebfd4a",
   "metadata": {},
   "outputs": [],
   "source": [
    "df.drop('x')         ###  axis  = 0 means row"
   ]
  },
  {
   "cell_type": "code",
   "execution_count": null,
   "id": "d8cc966a",
   "metadata": {},
   "outputs": [],
   "source": [
    "df.drop('x',axis = 1)    "
   ]
  },
  {
   "cell_type": "code",
   "execution_count": null,
   "id": "36f4857b",
   "metadata": {},
   "outputs": [],
   "source": [
    "df"
   ]
  },
  {
   "cell_type": "code",
   "execution_count": null,
   "id": "d718c3ee",
   "metadata": {},
   "outputs": [],
   "source": [
    "df.drop('x',axis = 1,inplace = True)    "
   ]
  },
  {
   "cell_type": "code",
   "execution_count": null,
   "id": "a0c1c690",
   "metadata": {},
   "outputs": [],
   "source": [
    "df"
   ]
  },
  {
   "cell_type": "code",
   "execution_count": null,
   "id": "9b04239c",
   "metadata": {},
   "outputs": [],
   "source": [
    "pd.DataFrame(np.random.rand(4,5))"
   ]
  },
  {
   "cell_type": "code",
   "execution_count": null,
   "id": "f4a0da24",
   "metadata": {},
   "outputs": [],
   "source": [
    "np.random.seed(23)\n",
    "df = pd.DataFrame(np.random.rand(4,5),index=['a','b','c','d'],columns=['x','y','z','u','v'])"
   ]
  },
  {
   "cell_type": "code",
   "execution_count": null,
   "id": "73e53b22",
   "metadata": {},
   "outputs": [],
   "source": [
    "df"
   ]
  },
  {
   "cell_type": "code",
   "execution_count": null,
   "id": "f0c0ba01",
   "metadata": {},
   "outputs": [],
   "source": [
    "np.random.seed(23)\n",
    "df = pd.DataFrame(np.random.randn(4,5),index=['a','b','c','d'],columns=['x','y','z','u','v'])"
   ]
  },
  {
   "cell_type": "code",
   "execution_count": null,
   "id": "7d6061e4",
   "metadata": {},
   "outputs": [],
   "source": [
    "df"
   ]
  },
  {
   "cell_type": "code",
   "execution_count": null,
   "id": "943fb83f",
   "metadata": {},
   "outputs": [],
   "source": [
    "df.values[df.values<0]"
   ]
  },
  {
   "cell_type": "code",
   "execution_count": null,
   "id": "abfec687",
   "metadata": {},
   "outputs": [],
   "source": [
    "df.values[df.iloc[0:5]<0]"
   ]
  },
  {
   "cell_type": "code",
   "execution_count": null,
   "id": "6b1c5cf8",
   "metadata": {},
   "outputs": [],
   "source": [
    "a = df.values[df.values<0]"
   ]
  },
  {
   "cell_type": "code",
   "execution_count": null,
   "id": "364444ef",
   "metadata": {},
   "outputs": [],
   "source": [
    "a = df.values[df.values<0]\n",
    "for i in df.columns:\n",
    "    for j in df.index:\n",
    "            if df.loc[j,i] in a:\n",
    "                print(i,j)"
   ]
  },
  {
   "cell_type": "code",
   "execution_count": null,
   "id": "c12f50e1",
   "metadata": {},
   "outputs": [],
   "source": [
    "df.index"
   ]
  },
  {
   "cell_type": "code",
   "execution_count": null,
   "id": "0bd9e8ee",
   "metadata": {},
   "outputs": [],
   "source": [
    "df.columns"
   ]
  },
  {
   "cell_type": "code",
   "execution_count": null,
   "id": "3ca8a9a0",
   "metadata": {},
   "outputs": [],
   "source": [
    "a = df.values[df.values<0]\n",
    "for i in df.columns:\n",
    "    for j in df.index:\n",
    "            if df.loc[j,i] in a:\n",
    "                print(i,j,df.loc[j,i])"
   ]
  },
  {
   "cell_type": "code",
   "execution_count": null,
   "id": "0b4ec8a0",
   "metadata": {},
   "outputs": [],
   "source": [
    "for i in df.columns:\n",
    "    for j in df.index:\n",
    "            if df.loc[j,i]<0:\n",
    "                print(i,j,df.loc[j,i])"
   ]
  },
  {
   "cell_type": "code",
   "execution_count": null,
   "id": "c65dd28c",
   "metadata": {},
   "outputs": [],
   "source": [
    "d = {'key1':[1,2,3,4,np.nan],\"key2\":['swe','pan',4,5,6],'key3':[np.nan,np.nan,np.nan,3,8]}\n",
    "df = pd.DataFrame(d)"
   ]
  },
  {
   "cell_type": "code",
   "execution_count": null,
   "id": "6e21d0f5",
   "metadata": {},
   "outputs": [],
   "source": [
    "df"
   ]
  },
  {
   "cell_type": "code",
   "execution_count": null,
   "id": "d71eb8a3",
   "metadata": {},
   "outputs": [],
   "source": [
    "df.dropna()        #### deletes all the rows having at least one nan value"
   ]
  },
  {
   "cell_type": "code",
   "execution_count": null,
   "id": "6f0cc1e6",
   "metadata": {},
   "outputs": [],
   "source": [
    "df.dropna(axis=1)"
   ]
  },
  {
   "cell_type": "code",
   "execution_count": null,
   "id": "dda0b915",
   "metadata": {},
   "outputs": [],
   "source": [
    "df.dropna(thresh=0)"
   ]
  },
  {
   "cell_type": "code",
   "execution_count": null,
   "id": "c56a29a9",
   "metadata": {},
   "outputs": [],
   "source": [
    "df.dropna(thresh=1)"
   ]
  },
  {
   "cell_type": "code",
   "execution_count": null,
   "id": "790ede3b",
   "metadata": {},
   "outputs": [],
   "source": [
    "df.dropna(thresh=2)"
   ]
  },
  {
   "cell_type": "code",
   "execution_count": null,
   "id": "6f185e37",
   "metadata": {},
   "outputs": [],
   "source": [
    "df.dropna(thresh=3)"
   ]
  },
  {
   "cell_type": "code",
   "execution_count": null,
   "id": "915c8c53",
   "metadata": {},
   "outputs": [],
   "source": [
    "df.dropna(thresh=4)"
   ]
  },
  {
   "cell_type": "code",
   "execution_count": null,
   "id": "d158c29e",
   "metadata": {},
   "outputs": [],
   "source": [
    "df.dropna(axis=1,thresh=3)"
   ]
  },
  {
   "cell_type": "code",
   "execution_count": null,
   "id": "db04a04b",
   "metadata": {},
   "outputs": [],
   "source": [
    "df.fillna(\"swtes\")"
   ]
  },
  {
   "cell_type": "code",
   "execution_count": null,
   "id": "65832705",
   "metadata": {},
   "outputs": [],
   "source": [
    "df"
   ]
  },
  {
   "cell_type": "code",
   "execution_count": null,
   "id": "b6bad8b7",
   "metadata": {},
   "outputs": [],
   "source": [
    "df.fillna(345)"
   ]
  },
  {
   "cell_type": "code",
   "execution_count": null,
   "id": "336a7a12",
   "metadata": {},
   "outputs": [],
   "source": [
    "df.fillna(value=df['key1'].mean())"
   ]
  },
  {
   "cell_type": "code",
   "execution_count": null,
   "id": "9d34f75f",
   "metadata": {},
   "outputs": [],
   "source": [
    "d1 = {'name':['swe',\"raj\",\"pand\",\"vishal\",\"umang\"],\"mail_id\":[\"swe@gmail.com\",\"raj@gmail.com\",\"pand@gmail.com\",\"vishal@gmail.com\",\"umang@gmail.com\"],\"salary\":[100,200,200,102,492]} "
   ]
  },
  {
   "cell_type": "code",
   "execution_count": null,
   "id": "e28e6a86",
   "metadata": {},
   "outputs": [],
   "source": [
    "df = pd.DataFrame(d1)"
   ]
  },
  {
   "cell_type": "code",
   "execution_count": null,
   "id": "99fda25a",
   "metadata": {},
   "outputs": [],
   "source": [
    "df"
   ]
  },
  {
   "cell_type": "code",
   "execution_count": null,
   "id": "563d32dc",
   "metadata": {},
   "outputs": [],
   "source": [
    "df.groupby('name').mean()"
   ]
  },
  {
   "cell_type": "code",
   "execution_count": null,
   "id": "46e8d2f0",
   "metadata": {
    "scrolled": true
   },
   "outputs": [],
   "source": [
    "df.groupby('mail_id').sum()"
   ]
  },
  {
   "cell_type": "code",
   "execution_count": null,
   "id": "90761710",
   "metadata": {},
   "outputs": [],
   "source": [
    "df.groupby('mail_id').mean()"
   ]
  },
  {
   "cell_type": "code",
   "execution_count": null,
   "id": "fe42879e",
   "metadata": {},
   "outputs": [],
   "source": [
    "df.groupby('mail_id').describe()"
   ]
  },
  {
   "cell_type": "code",
   "execution_count": null,
   "id": "1dfd92c9",
   "metadata": {},
   "outputs": [],
   "source": [
    "type(df.groupby('mail_id').describe())"
   ]
  },
  {
   "cell_type": "code",
   "execution_count": null,
   "id": "e089be8a",
   "metadata": {},
   "outputs": [],
   "source": [
    "df.groupby('mail_id').describe().loc['umang@gmail.com']"
   ]
  },
  {
   "cell_type": "code",
   "execution_count": null,
   "id": "3583911d",
   "metadata": {},
   "outputs": [],
   "source": [
    "df.groupby('mail_id').describe().iloc[1]"
   ]
  },
  {
   "cell_type": "code",
   "execution_count": null,
   "id": "9b24d2cf",
   "metadata": {},
   "outputs": [],
   "source": [
    "df.groupby('mail_id').describe().iloc[1][1]"
   ]
  },
  {
   "cell_type": "code",
   "execution_count": null,
   "id": "ebc79542",
   "metadata": {},
   "outputs": [],
   "source": [
    "df.groupby('mail_id').describe().loc['umang@gmail.com']['salary']"
   ]
  },
  {
   "cell_type": "code",
   "execution_count": null,
   "id": "40072116",
   "metadata": {},
   "outputs": [],
   "source": [
    "df.groupby('mail_id').describe().loc['umang@gmail.com']['salary']['mean']"
   ]
  },
  {
   "cell_type": "code",
   "execution_count": null,
   "id": "68416aa2",
   "metadata": {},
   "outputs": [],
   "source": [
    "df.groupby('mail_id').describe().T"
   ]
  },
  {
   "cell_type": "code",
   "execution_count": null,
   "id": "a0ec1982",
   "metadata": {},
   "outputs": [],
   "source": [
    "arr1 = np.random.randn(3,4)"
   ]
  },
  {
   "cell_type": "code",
   "execution_count": null,
   "id": "e01dad20",
   "metadata": {},
   "outputs": [],
   "source": [
    "arr2 = np.random.randn(3,4)"
   ]
  },
  {
   "cell_type": "code",
   "execution_count": null,
   "id": "ee6ab88e",
   "metadata": {},
   "outputs": [],
   "source": [
    "arr3 = np.random.randn(3,4)"
   ]
  },
  {
   "cell_type": "code",
   "execution_count": null,
   "id": "86f1e9d4",
   "metadata": {},
   "outputs": [],
   "source": [
    "df1 = pd.DataFrame(arr1,columns=[\"A\",\"B\",\"C\",\"D\"],index=[0,1,2])"
   ]
  },
  {
   "cell_type": "code",
   "execution_count": null,
   "id": "758a84db",
   "metadata": {},
   "outputs": [],
   "source": [
    "df2 = pd.DataFrame(arr2,columns=[\"A\",\"B\",\"C\",\"D\"],index=[0,1,2])"
   ]
  },
  {
   "cell_type": "code",
   "execution_count": null,
   "id": "d76842f5",
   "metadata": {},
   "outputs": [],
   "source": [
    "df3 = pd.DataFrame(arr3,columns=[\"A\",\"B\",\"C\",\"D\"],index=[0,1,2])"
   ]
  },
  {
   "cell_type": "code",
   "execution_count": null,
   "id": "95258c20",
   "metadata": {},
   "outputs": [],
   "source": [
    "df1"
   ]
  },
  {
   "cell_type": "code",
   "execution_count": null,
   "id": "1fc59a76",
   "metadata": {},
   "outputs": [],
   "source": [
    "df2"
   ]
  },
  {
   "cell_type": "code",
   "execution_count": null,
   "id": "87f1ab85",
   "metadata": {},
   "outputs": [],
   "source": [
    "df3"
   ]
  },
  {
   "cell_type": "code",
   "execution_count": null,
   "id": "bcc7edfd",
   "metadata": {},
   "outputs": [],
   "source": [
    "#### concatenation"
   ]
  },
  {
   "cell_type": "code",
   "execution_count": null,
   "id": "89f9df0e",
   "metadata": {},
   "outputs": [],
   "source": [
    "df4 = pd.concat([df1,df2,df3])"
   ]
  },
  {
   "cell_type": "code",
   "execution_count": null,
   "id": "de61bb3a",
   "metadata": {},
   "outputs": [],
   "source": [
    "df5 = pd.concat([df1,df2,df3],axis=1)"
   ]
  },
  {
   "cell_type": "code",
   "execution_count": null,
   "id": "7e798728",
   "metadata": {},
   "outputs": [],
   "source": [
    "df4                       "
   ]
  },
  {
   "cell_type": "code",
   "execution_count": null,
   "id": "ab4287e7",
   "metadata": {},
   "outputs": [],
   "source": [
    "df4.iloc[0]"
   ]
  },
  {
   "cell_type": "code",
   "execution_count": null,
   "id": "f92882bb",
   "metadata": {},
   "outputs": [],
   "source": [
    "df4.loc[0]"
   ]
  },
  {
   "cell_type": "code",
   "execution_count": null,
   "id": "087d1c37",
   "metadata": {},
   "outputs": [],
   "source": [
    "df5.iloc[:,4]"
   ]
  },
  {
   "cell_type": "code",
   "execution_count": null,
   "id": "dc281062",
   "metadata": {},
   "outputs": [],
   "source": [
    "pd.concat([df1,df2,df3],axis=1)"
   ]
  },
  {
   "cell_type": "code",
   "execution_count": null,
   "id": "0f6d9499",
   "metadata": {},
   "outputs": [],
   "source": [
    "df2 = pd.DataFrame(arr2,columns=[\"A\",\"B\",\"C\",\"D\"],index=[3,4,5])"
   ]
  },
  {
   "cell_type": "code",
   "execution_count": null,
   "id": "046ea2ae",
   "metadata": {},
   "outputs": [],
   "source": [
    "df3 = pd.DataFrame(arr3,columns=[\"A\",\"B\",\"C\",\"D\"],index=[6,7,8])"
   ]
  },
  {
   "cell_type": "code",
   "execution_count": null,
   "id": "1d8fca77",
   "metadata": {},
   "outputs": [],
   "source": [
    "df6 =pd.concat([df1,df2,df3],axis=1)"
   ]
  },
  {
   "cell_type": "code",
   "execution_count": null,
   "id": "4af2f733",
   "metadata": {},
   "outputs": [],
   "source": [
    "df6.fillna(34)"
   ]
  },
  {
   "cell_type": "code",
   "execution_count": null,
   "id": "a37b4354",
   "metadata": {},
   "outputs": [],
   "source": [
    "####   merge"
   ]
  },
  {
   "cell_type": "code",
   "execution_count": null,
   "id": "efac6d61",
   "metadata": {},
   "outputs": [],
   "source": [
    "####  wherever values will be equal it will merge it"
   ]
  },
  {
   "cell_type": "code",
   "execution_count": null,
   "id": "cbcd8006",
   "metadata": {},
   "outputs": [],
   "source": [
    "df1"
   ]
  },
  {
   "cell_type": "code",
   "execution_count": null,
   "id": "4dfb3347",
   "metadata": {},
   "outputs": [],
   "source": [
    "df2"
   ]
  },
  {
   "cell_type": "code",
   "execution_count": null,
   "id": "cfe6e66e",
   "metadata": {},
   "outputs": [],
   "source": [
    "df3"
   ]
  },
  {
   "cell_type": "code",
   "execution_count": null,
   "id": "5ac89d59",
   "metadata": {},
   "outputs": [],
   "source": [
    "np.random.seed(23)\n",
    "arr1 = np.random.randn(3,4)\n",
    "np.random.seed(23)\n",
    "arr2 = np.random.randn(3,4)\n",
    "df22 = pd.DataFrame(arr2,columns=[\"A\",\"B\",\"C\",\"D\"],index=[3,4,5])\n",
    "df11 = pd.DataFrame(arr1,columns=[\"A\",\"B\",\"C\",\"D\"],index=[0,1,2])"
   ]
  },
  {
   "cell_type": "code",
   "execution_count": null,
   "id": "266351b0",
   "metadata": {},
   "outputs": [],
   "source": [
    "df11"
   ]
  },
  {
   "cell_type": "code",
   "execution_count": null,
   "id": "aa71c063",
   "metadata": {},
   "outputs": [],
   "source": [
    "df22"
   ]
  },
  {
   "cell_type": "code",
   "execution_count": null,
   "id": "b4b0cbf0",
   "metadata": {},
   "outputs": [],
   "source": [
    "pd.merge(df11,df22,on=\"A\")"
   ]
  },
  {
   "cell_type": "code",
   "execution_count": null,
   "id": "f93005d0",
   "metadata": {},
   "outputs": [],
   "source": [
    "df1 = pd.DataFrame({'key':[\"K0\",\"K8\",\"K2\",\"K3\"],\n",
    "                    \"A\":[\"A0\",\"A1\",\"A2\",\"A3\"],\n",
    "                    \"B\":[\"B0\",\"B1\",\"B2\",\"B3\"]})\n",
    "\n",
    "df2 = pd.DataFrame({'key':[\"K0\",\"K1\",\"K2\",\"K3\"],\n",
    "                    \"C\":[\"C0\",\"C1\",\"C2\",\"C3\"],\n",
    "                    \"D\":[\"D0\",\"D1\",\"D2\",\"D3\"]})"
   ]
  },
  {
   "cell_type": "code",
   "execution_count": null,
   "id": "f1440439",
   "metadata": {},
   "outputs": [],
   "source": [
    "df1"
   ]
  },
  {
   "cell_type": "code",
   "execution_count": null,
   "id": "457d7a95",
   "metadata": {},
   "outputs": [],
   "source": [
    "df2"
   ]
  },
  {
   "cell_type": "code",
   "execution_count": null,
   "id": "db925ed1",
   "metadata": {},
   "outputs": [],
   "source": [
    "pd.merge(df1,df2)"
   ]
  },
  {
   "cell_type": "code",
   "execution_count": null,
   "id": "dbd99ef5",
   "metadata": {},
   "outputs": [],
   "source": [
    "pd.merge(df1,df2,on='key')"
   ]
  },
  {
   "cell_type": "code",
   "execution_count": null,
   "id": "815b4305",
   "metadata": {},
   "outputs": [],
   "source": [
    "pd.merge(df1,df2,on='key',how='left')"
   ]
  },
  {
   "cell_type": "code",
   "execution_count": null,
   "id": "57aee229",
   "metadata": {},
   "outputs": [],
   "source": [
    "pd.merge(df1,df2,on='key',how='right')"
   ]
  },
  {
   "cell_type": "code",
   "execution_count": null,
   "id": "76ead483",
   "metadata": {},
   "outputs": [],
   "source": [
    "pd.merge(df1,df2,on='key',how='outer')      ####  left + right"
   ]
  },
  {
   "cell_type": "code",
   "execution_count": null,
   "id": "2b163507",
   "metadata": {},
   "outputs": [],
   "source": [
    "df1 = pd.DataFrame({'key1':[\"K0\",\"K0\",\"K1\",\"K2\"],\n",
    "                    'key2':[\"K0\",\"K1\",\"K0\",\"K1\"],\n",
    "                    \"A\":[\"A0\",\"A1\",\"A2\",\"A3\"],\n",
    "                    \"B\":[\"B0\",\"B1\",\"B2\",\"B3\"]})\n",
    "\n",
    "df2 = pd.DataFrame({'key1':[\"K0\",\"K1\",\"K1\",\"K2\"],\n",
    "                    'key2':[\"K0\",\"K0\",\"K0\",\"K0\"],\n",
    "                    \"C\":[\"C0\",\"C1\",\"C2\",\"C3\"],\n",
    "                    \"D\":[\"D0\",\"D1\",\"D2\",\"D3\"]})"
   ]
  },
  {
   "cell_type": "code",
   "execution_count": null,
   "id": "48875547",
   "metadata": {},
   "outputs": [],
   "source": [
    "df1"
   ]
  },
  {
   "cell_type": "code",
   "execution_count": null,
   "id": "31ce18bb",
   "metadata": {},
   "outputs": [],
   "source": [
    "df2"
   ]
  },
  {
   "cell_type": "code",
   "execution_count": null,
   "id": "0b0145e1",
   "metadata": {},
   "outputs": [],
   "source": [
    "pd.merge(df1,df2,on=['key1','key2'])"
   ]
  },
  {
   "cell_type": "code",
   "execution_count": null,
   "id": "801bf997",
   "metadata": {},
   "outputs": [],
   "source": []
  },
  {
   "cell_type": "code",
   "execution_count": null,
   "id": "661b8adb",
   "metadata": {},
   "outputs": [],
   "source": [
    "####  join"
   ]
  },
  {
   "cell_type": "code",
   "execution_count": null,
   "id": "879bad56",
   "metadata": {},
   "outputs": [],
   "source": [
    "df1 = pd.DataFrame({\"A\":[\"A0\",\"A1\",\"A2\"],\n",
    "                    \"B\":[\"B0\",\"B1\",\"B2\"]},\n",
    "                     index=[\"K0\",\"K1\",\"K2\"])\n",
    "\n",
    "df2 = pd.DataFrame({\"C\":[\"C0\",\"C1\",\"C2\"],\n",
    "                    \"D\":[\"D0\",\"D1\",\"D2\"]},\n",
    "                    index=['K0','K2','K3'])"
   ]
  },
  {
   "cell_type": "code",
   "execution_count": null,
   "id": "e45e642a",
   "metadata": {},
   "outputs": [],
   "source": [
    "df1"
   ]
  },
  {
   "cell_type": "code",
   "execution_count": null,
   "id": "67cd30fb",
   "metadata": {},
   "outputs": [],
   "source": [
    "df2"
   ]
  },
  {
   "cell_type": "code",
   "execution_count": null,
   "id": "a3130735",
   "metadata": {},
   "outputs": [],
   "source": [
    "df1.join(df2)"
   ]
  },
  {
   "cell_type": "code",
   "execution_count": null,
   "id": "e4e8c0ee",
   "metadata": {},
   "outputs": [],
   "source": [
    "df1.join(df2,how = 'right')"
   ]
  },
  {
   "cell_type": "code",
   "execution_count": null,
   "id": "28408dbd",
   "metadata": {},
   "outputs": [],
   "source": [
    "df1.join(df2,how = 'outer')"
   ]
  },
  {
   "cell_type": "code",
   "execution_count": null,
   "id": "606b4f6d",
   "metadata": {},
   "outputs": [],
   "source": []
  }
 ],
 "metadata": {
  "kernelspec": {
   "display_name": "Python 3 (ipykernel)",
   "language": "python",
   "name": "python3"
  },
  "language_info": {
   "codemirror_mode": {
    "name": "ipython",
    "version": 3
   },
   "file_extension": ".py",
   "mimetype": "text/x-python",
   "name": "python",
   "nbconvert_exporter": "python",
   "pygments_lexer": "ipython3",
   "version": "3.9.7"
  }
 },
 "nbformat": 4,
 "nbformat_minor": 5
}
