{
 "cells": [
  {
   "cell_type": "code",
   "execution_count": null,
   "id": "469f2fe4",
   "metadata": {},
   "outputs": [],
   "source": [
    "import seaborn as sns"
   ]
  },
  {
   "cell_type": "code",
   "execution_count": null,
   "id": "952436b7",
   "metadata": {},
   "outputs": [],
   "source": [
    "import pandas as pd\n",
    "import numpy as np\n",
    "import matplotlib.pyplot as plt\n",
    "%matplotlib inline"
   ]
  },
  {
   "cell_type": "code",
   "execution_count": null,
   "id": "d7aa85a5",
   "metadata": {},
   "outputs": [],
   "source": [
    "tips = sns.load_dataset('tips')\n",
    "tips"
   ]
  },
  {
   "cell_type": "code",
   "execution_count": null,
   "id": "b89c67bc",
   "metadata": {},
   "outputs": [],
   "source": [
    "plt.plot('total_bill','tip',data=tips)"
   ]
  },
  {
   "cell_type": "code",
   "execution_count": null,
   "id": "924f1b16",
   "metadata": {},
   "outputs": [],
   "source": [
    "sns.relplot(x='tip',y='total_bill',data=tips)"
   ]
  },
  {
   "cell_type": "code",
   "execution_count": null,
   "id": "8f98f838",
   "metadata": {},
   "outputs": [],
   "source": [
    "##    hue is used for color grouping\n",
    "\n",
    "\n",
    "sns.relplot(x='tip',y='total_bill',data=tips,hue='smoker')"
   ]
  },
  {
   "cell_type": "code",
   "execution_count": null,
   "id": "c062c867",
   "metadata": {},
   "outputs": [],
   "source": [
    "sns.relplot(x='tip',y='total_bill',data=tips,hue='day')"
   ]
  },
  {
   "cell_type": "code",
   "execution_count": null,
   "id": "2cf81ef6",
   "metadata": {},
   "outputs": [],
   "source": [
    "### find on thursday who was smoker or non-smoker ,,,,,,,for this use style ,,,,,,,\n",
    "######   will create  different differnt polygons shapes\n",
    "sns.relplot(x='tip',y='total_bill',data=tips,hue='day',style='smoker')"
   ]
  },
  {
   "cell_type": "code",
   "execution_count": null,
   "id": "8a40afc5",
   "metadata": {},
   "outputs": [],
   "source": [
    "sns.relplot(x='tip',y='total_bill',data=tips,hue='day',style='smoker',size='size')"
   ]
  },
  {
   "cell_type": "code",
   "execution_count": null,
   "id": "029f2abc",
   "metadata": {},
   "outputs": [],
   "source": [
    "sns.relplot(x='tip',y='total_bill',data=tips,size='size')"
   ]
  },
  {
   "cell_type": "code",
   "execution_count": null,
   "id": "d9e87bb2",
   "metadata": {},
   "outputs": [],
   "source": [
    "sns.relplot(x='tip',y='total_bill',data=tips,size='tip')"
   ]
  },
  {
   "cell_type": "code",
   "execution_count": null,
   "id": "61a5598f",
   "metadata": {},
   "outputs": [],
   "source": [
    "df = pd.DataFrame(np.random.randn(300,2),columns=['a','b'])"
   ]
  },
  {
   "cell_type": "code",
   "execution_count": null,
   "id": "3beeab0f",
   "metadata": {},
   "outputs": [],
   "source": [
    "df"
   ]
  },
  {
   "cell_type": "code",
   "execution_count": null,
   "id": "51de5b63",
   "metadata": {},
   "outputs": [],
   "source": [
    "####   relplot  ====relational plot  \n",
    "\n",
    "\n",
    "\n",
    "sns.relplot(x='a',y='b',kind='line',data=df)"
   ]
  },
  {
   "cell_type": "code",
   "execution_count": null,
   "id": "4a99d08d",
   "metadata": {},
   "outputs": [],
   "source": [
    "\n",
    "\n",
    "sns.relplot(x='a',y='b',kind='line',data=df,sort=True)"
   ]
  },
  {
   "cell_type": "code",
   "execution_count": null,
   "id": "ca45275d",
   "metadata": {},
   "outputs": [],
   "source": [
    "iris=sns.load_dataset('iris')"
   ]
  },
  {
   "cell_type": "code",
   "execution_count": null,
   "id": "3c250897",
   "metadata": {},
   "outputs": [],
   "source": [
    "sns.scatterplot(x='sepal_length',y='sepal_width',data=iris)"
   ]
  },
  {
   "cell_type": "code",
   "execution_count": null,
   "id": "082c415a",
   "metadata": {},
   "outputs": [],
   "source": [
    "sns.catplot(x='smoker',y='tip',data=tips)"
   ]
  },
  {
   "cell_type": "code",
   "execution_count": null,
   "id": "7903668a",
   "metadata": {},
   "outputs": [],
   "source": [
    "sns.catplot(x='day',y='tip',data=tips)"
   ]
  },
  {
   "cell_type": "code",
   "execution_count": null,
   "id": "61efebf0",
   "metadata": {},
   "outputs": [],
   "source": [
    "sns.catplot(x='day',y='tip',kind='box',data=tips)"
   ]
  },
  {
   "cell_type": "code",
   "execution_count": null,
   "id": "dd50a964",
   "metadata": {},
   "outputs": [],
   "source": [
    "sns.catplot(x='day',y='tip',kind='box',data=tips,hue='sex')"
   ]
  },
  {
   "cell_type": "code",
   "execution_count": null,
   "id": "33591941",
   "metadata": {},
   "outputs": [],
   "source": [
    "x = np.random.randn(1000)"
   ]
  },
  {
   "cell_type": "code",
   "execution_count": null,
   "id": "24ed50c6",
   "metadata": {},
   "outputs": [],
   "source": [
    "x"
   ]
  },
  {
   "cell_type": "code",
   "execution_count": null,
   "id": "ed1cb40f",
   "metadata": {},
   "outputs": [],
   "source": [
    "sns.distplot(x)"
   ]
  },
  {
   "cell_type": "code",
   "execution_count": null,
   "id": "dd120d4b",
   "metadata": {},
   "outputs": [],
   "source": [
    "x = np.random.randn(1000000)"
   ]
  },
  {
   "cell_type": "code",
   "execution_count": null,
   "id": "be99ccc9",
   "metadata": {},
   "outputs": [],
   "source": [
    "sns.distplot(x)"
   ]
  },
  {
   "cell_type": "code",
   "execution_count": null,
   "id": "c594f659",
   "metadata": {},
   "outputs": [],
   "source": [
    "sns.jointplot(x=tips['total_bill'],y=tips['tip'])"
   ]
  },
  {
   "cell_type": "code",
   "execution_count": null,
   "id": "6de7bd92",
   "metadata": {},
   "outputs": [],
   "source": [
    "y = np.random.rand(10000)"
   ]
  },
  {
   "cell_type": "code",
   "execution_count": null,
   "id": "a762a700",
   "metadata": {},
   "outputs": [],
   "source": [
    "sns.distplot(y)"
   ]
  },
  {
   "cell_type": "code",
   "execution_count": null,
   "id": "db982d59",
   "metadata": {},
   "outputs": [],
   "source": [
    "###  To summarize, generally if the distribution of data is skewed to the left, \n",
    "#     the mean is less than the median, which \n",
    "#  is often less than the mode. If the distribution of data is skewed to the right, the \n",
    "#     mode is often less than the median, which is less than the mean."
   ]
  },
  {
   "cell_type": "code",
   "execution_count": null,
   "id": "32b23cbb",
   "metadata": {},
   "outputs": [],
   "source": [
    "sns.jointplot(x=tips['total_bill'],y=tips['tip'],kind='hex')"
   ]
  },
  {
   "cell_type": "code",
   "execution_count": null,
   "id": "d34b62a7",
   "metadata": {},
   "outputs": [],
   "source": [
    "sns.pairplot(tips)"
   ]
  },
  {
   "cell_type": "code",
   "execution_count": null,
   "id": "713777e6",
   "metadata": {},
   "outputs": [],
   "source": [
    "sns.lmplot(x='total_bill',y='tip',data=tips)"
   ]
  },
  {
   "cell_type": "code",
   "execution_count": null,
   "id": "86d4ec35",
   "metadata": {},
   "outputs": [],
   "source": [
    "sns.regplot(x='total_bill',y='tip',data=tips)"
   ]
  },
  {
   "cell_type": "code",
   "execution_count": null,
   "id": "459fe510",
   "metadata": {},
   "outputs": [],
   "source": [
    "sns.lmplot(x='total_bill',y='tip',data=tips,col='day')"
   ]
  },
  {
   "cell_type": "code",
   "execution_count": null,
   "id": "07622e43",
   "metadata": {},
   "outputs": [],
   "source": []
  }
 ],
 "metadata": {
  "kernelspec": {
   "display_name": "Python 3 (ipykernel)",
   "language": "python",
   "name": "python3"
  },
  "language_info": {
   "codemirror_mode": {
    "name": "ipython",
    "version": 3
   },
   "file_extension": ".py",
   "mimetype": "text/x-python",
   "name": "python",
   "nbconvert_exporter": "python",
   "pygments_lexer": "ipython3",
   "version": "3.9.7"
  }
 },
 "nbformat": 4,
 "nbformat_minor": 5
}
