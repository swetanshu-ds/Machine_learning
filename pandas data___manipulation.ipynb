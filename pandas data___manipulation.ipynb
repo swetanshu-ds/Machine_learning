{
 "cells": [
  {
   "cell_type": "code",
   "execution_count": null,
   "id": "b735d445",
   "metadata": {},
   "outputs": [],
   "source": [
    "import numpy as np"
   ]
  },
  {
   "cell_type": "code",
   "execution_count": null,
   "id": "4be80e3d",
   "metadata": {},
   "outputs": [],
   "source": [
    "import pandas as pd"
   ]
  },
  {
   "cell_type": "code",
   "execution_count": null,
   "id": "db3022dc",
   "metadata": {},
   "outputs": [],
   "source": [
    "pd.DataFrame(np.random.randn(10,4))"
   ]
  },
  {
   "cell_type": "code",
   "execution_count": null,
   "id": "c486f5c4",
   "metadata": {},
   "outputs": [],
   "source": [
    "np.random.seed(20)\n",
    "df=pd.DataFrame(np.random.randn(10,4),index=pd.date_range('2021-07-18',periods=10),columns=[\"a\",\"b\",\"c\",\"d\"])"
   ]
  },
  {
   "cell_type": "code",
   "execution_count": null,
   "id": "98c9ab6e",
   "metadata": {},
   "outputs": [],
   "source": [
    "df"
   ]
  },
  {
   "cell_type": "code",
   "execution_count": null,
   "id": "f3e8eafe",
   "metadata": {},
   "outputs": [],
   "source": [
    "df['new']=df['c']+df['d']"
   ]
  },
  {
   "cell_type": "code",
   "execution_count": null,
   "id": "a5ed6aca",
   "metadata": {},
   "outputs": [],
   "source": [
    "df"
   ]
  },
  {
   "cell_type": "code",
   "execution_count": null,
   "id": "a08a1437",
   "metadata": {},
   "outputs": [],
   "source": [
    "df['new_col_square_d']  = df['d'].apply(lambda x:x**2) "
   ]
  },
  {
   "cell_type": "code",
   "execution_count": null,
   "id": "504128cb",
   "metadata": {},
   "outputs": [],
   "source": [
    "df"
   ]
  },
  {
   "cell_type": "code",
   "execution_count": null,
   "id": "56b32748",
   "metadata": {},
   "outputs": [],
   "source": [
    "df['new_col_log_d']  = df['d'].apply(lambda x:np.log(x)) "
   ]
  },
  {
   "cell_type": "code",
   "execution_count": null,
   "id": "507c4cd6",
   "metadata": {},
   "outputs": [],
   "source": [
    "df"
   ]
  },
  {
   "cell_type": "code",
   "execution_count": null,
   "id": "72cf2275",
   "metadata": {},
   "outputs": [],
   "source": [
    "def test(x):\n",
    "    if(x<0):\n",
    "        return x\n",
    "    else:\n",
    "        return np.log(x)"
   ]
  },
  {
   "cell_type": "code",
   "execution_count": null,
   "id": "4625d64c",
   "metadata": {},
   "outputs": [],
   "source": [
    "df['new_col_log_d_1']  = df['d'].apply(test) "
   ]
  },
  {
   "cell_type": "code",
   "execution_count": null,
   "id": "32cb910e",
   "metadata": {},
   "outputs": [],
   "source": [
    "def test(x):\n",
    "    if(x<0):\n",
    "        return \"You\"\n",
    "    else:\n",
    "        return \"No\""
   ]
  },
  {
   "cell_type": "code",
   "execution_count": null,
   "id": "72b97293",
   "metadata": {},
   "outputs": [],
   "source": [
    "print(test(5))"
   ]
  },
  {
   "cell_type": "code",
   "execution_count": null,
   "id": "7150ca04",
   "metadata": {},
   "outputs": [],
   "source": [
    "def test(x):\n",
    "    if(x<0):\n",
    "        print(\"You\")\n",
    "    else:\n",
    "        print(\"No\")"
   ]
  },
  {
   "cell_type": "code",
   "execution_count": null,
   "id": "f1ff43cf",
   "metadata": {},
   "outputs": [],
   "source": [
    "print(test(5))"
   ]
  },
  {
   "cell_type": "code",
   "execution_count": null,
   "id": "504dea19",
   "metadata": {},
   "outputs": [],
   "source": [
    "df.sort_values(by='b')"
   ]
  },
  {
   "cell_type": "code",
   "execution_count": null,
   "id": "5ae1c23b",
   "metadata": {},
   "outputs": [],
   "source": [
    "df.index"
   ]
  },
  {
   "cell_type": "code",
   "execution_count": null,
   "id": "7d3b7f9c",
   "metadata": {},
   "outputs": [],
   "source": [
    "df"
   ]
  },
  {
   "cell_type": "code",
   "execution_count": null,
   "id": "297ce3f1",
   "metadata": {},
   "outputs": [],
   "source": [
    "df['new_date']=df.index"
   ]
  },
  {
   "cell_type": "code",
   "execution_count": null,
   "id": "59d39833",
   "metadata": {},
   "outputs": [],
   "source": [
    "df"
   ]
  },
  {
   "cell_type": "code",
   "execution_count": null,
   "id": "618a6830",
   "metadata": {},
   "outputs": [],
   "source": [
    "df.dtypes"
   ]
  },
  {
   "cell_type": "code",
   "execution_count": null,
   "id": "63152791",
   "metadata": {},
   "outputs": [],
   "source": [
    "df['day']= df.index.day\n",
    "df['month']= df.index.month\n",
    "df['year'] =  df.index.year"
   ]
  },
  {
   "cell_type": "code",
   "execution_count": null,
   "id": "0699042b",
   "metadata": {},
   "outputs": [],
   "source": [
    "df"
   ]
  },
  {
   "cell_type": "code",
   "execution_count": null,
   "id": "917308f3",
   "metadata": {},
   "outputs": [],
   "source": [
    "df[\"day_name\"] = df.index.day_name()"
   ]
  },
  {
   "cell_type": "code",
   "execution_count": null,
   "id": "1aca882f",
   "metadata": {},
   "outputs": [],
   "source": [
    "df"
   ]
  },
  {
   "cell_type": "code",
   "execution_count": null,
   "id": "399ba2ff",
   "metadata": {},
   "outputs": [],
   "source": [
    "df.groupby(by = 'day_name').count()"
   ]
  },
  {
   "cell_type": "code",
   "execution_count": null,
   "id": "abb9db7d",
   "metadata": {},
   "outputs": [],
   "source": [
    "df.groupby(by = 'day_name').sum()"
   ]
  },
  {
   "cell_type": "code",
   "execution_count": null,
   "id": "ee0b39ad",
   "metadata": {},
   "outputs": [],
   "source": []
  }
 ],
 "metadata": {
  "kernelspec": {
   "display_name": "Python 3 (ipykernel)",
   "language": "python",
   "name": "python3"
  },
  "language_info": {
   "codemirror_mode": {
    "name": "ipython",
    "version": 3
   },
   "file_extension": ".py",
   "mimetype": "text/x-python",
   "name": "python",
   "nbconvert_exporter": "python",
   "pygments_lexer": "ipython3",
   "version": "3.9.7"
  }
 },
 "nbformat": 4,
 "nbformat_minor": 5
}
