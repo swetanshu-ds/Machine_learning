{
 "cells": [
  {
   "cell_type": "code",
   "execution_count": null,
   "id": "aeb609df",
   "metadata": {},
   "outputs": [],
   "source": [
    "!pip install pandas-profiling"
   ]
  },
  {
   "cell_type": "code",
   "execution_count": null,
   "id": "bddf5417",
   "metadata": {},
   "outputs": [],
   "source": [
    "import pandas as pd\n",
    "import numpy as np\n",
    "import seaborn as sns\n",
    "import os\n",
    "import pandas_profiling"
   ]
  },
  {
   "cell_type": "code",
   "execution_count": null,
   "id": "cf7a1410",
   "metadata": {},
   "outputs": [],
   "source": [
    "df=pd.read_csv(\"FitBit data.csv\")"
   ]
  },
  {
   "cell_type": "code",
   "execution_count": null,
   "id": "fd296bd6",
   "metadata": {},
   "outputs": [],
   "source": [
    "df"
   ]
  },
  {
   "cell_type": "code",
   "execution_count": null,
   "id": "943dee3d",
   "metadata": {},
   "outputs": [],
   "source": [
    "df.head()"
   ]
  },
  {
   "cell_type": "code",
   "execution_count": null,
   "id": "0ed42640",
   "metadata": {},
   "outputs": [],
   "source": [
    "df.profile_report()"
   ]
  },
  {
   "cell_type": "code",
   "execution_count": null,
   "id": "04bd0876",
   "metadata": {},
   "outputs": [],
   "source": [
    "df.shape"
   ]
  },
  {
   "cell_type": "code",
   "execution_count": null,
   "id": "5fb5d1cd",
   "metadata": {},
   "outputs": [],
   "source": [
    "df.describe()"
   ]
  },
  {
   "cell_type": "code",
   "execution_count": null,
   "id": "48dd8e20",
   "metadata": {},
   "outputs": [],
   "source": [
    "df.isnull().sum()"
   ]
  },
  {
   "cell_type": "code",
   "execution_count": null,
   "id": "81cc201f",
   "metadata": {},
   "outputs": [],
   "source": [
    "df.columns"
   ]
  },
  {
   "cell_type": "code",
   "execution_count": null,
   "id": "6ea84a5e",
   "metadata": {},
   "outputs": [],
   "source": [
    "df.dtypes"
   ]
  },
  {
   "cell_type": "code",
   "execution_count": null,
   "id": "bced2e5b",
   "metadata": {},
   "outputs": [],
   "source": [
    "df['ActivityDate']"
   ]
  },
  {
   "cell_type": "code",
   "execution_count": null,
   "id": "b2ff127d",
   "metadata": {},
   "outputs": [],
   "source": [
    "#### get unique dates\n",
    "df['ActivityDate'].unique()"
   ]
  },
  {
   "cell_type": "code",
   "execution_count": null,
   "id": "7211af7d",
   "metadata": {},
   "outputs": [],
   "source": [
    "df['date'] = pd.DatetimeIndex(df[\"ActivityDate\"])"
   ]
  },
  {
   "cell_type": "code",
   "execution_count": null,
   "id": "2adaa072",
   "metadata": {},
   "outputs": [],
   "source": [
    "df['date']"
   ]
  },
  {
   "cell_type": "code",
   "execution_count": null,
   "id": "a884d51e",
   "metadata": {},
   "outputs": [],
   "source": [
    "df.dtypes"
   ]
  },
  {
   "cell_type": "code",
   "execution_count": null,
   "id": "6bd73612",
   "metadata": {},
   "outputs": [],
   "source": [
    "df['day'] = pd.DatetimeIndex(df[\"ActivityDate\"]).day"
   ]
  },
  {
   "cell_type": "code",
   "execution_count": null,
   "id": "d26aba1f",
   "metadata": {},
   "outputs": [],
   "source": [
    "df['day']"
   ]
  },
  {
   "cell_type": "code",
   "execution_count": null,
   "id": "6f59179d",
   "metadata": {},
   "outputs": [],
   "source": [
    "df['year'] = pd.DatetimeIndex(df[\"ActivityDate\"]).year"
   ]
  },
  {
   "cell_type": "code",
   "execution_count": null,
   "id": "89c90c7b",
   "metadata": {},
   "outputs": [],
   "source": [
    "df['month'] = pd.DatetimeIndex(df[\"ActivityDate\"]).month"
   ]
  },
  {
   "cell_type": "code",
   "execution_count": null,
   "id": "dab0c7fa",
   "metadata": {},
   "outputs": [],
   "source": [
    "df.head()"
   ]
  },
  {
   "cell_type": "code",
   "execution_count": null,
   "id": "cfb83eb3",
   "metadata": {},
   "outputs": [],
   "source": [
    "df[['ActivityDate','day','month','year']]"
   ]
  },
  {
   "cell_type": "code",
   "execution_count": null,
   "id": "509262fa",
   "metadata": {},
   "outputs": [],
   "source": [
    "df.drop(['ActivityDate'])"
   ]
  },
  {
   "cell_type": "code",
   "execution_count": null,
   "id": "29aec6c9",
   "metadata": {},
   "outputs": [],
   "source": [
    "df.drop(['ActivityDate'],axis=1)"
   ]
  },
  {
   "cell_type": "code",
   "execution_count": null,
   "id": "9785f3b4",
   "metadata": {},
   "outputs": [],
   "source": [
    "df"
   ]
  },
  {
   "cell_type": "code",
   "execution_count": null,
   "id": "d7bbc5d3",
   "metadata": {},
   "outputs": [],
   "source": [
    "# df.drop(['ActivityDate'],axis=1,inplace=True)"
   ]
  },
  {
   "cell_type": "code",
   "execution_count": null,
   "id": "383608ca",
   "metadata": {},
   "outputs": [],
   "source": [
    "import matplotlib.pyplot as plt\n",
    "%matplotlib inline\n",
    "plt.figure(figsize=(20,10))\n",
    "sns.boxplot(x='date',y='Calories',data=df)"
   ]
  },
  {
   "cell_type": "code",
   "execution_count": null,
   "id": "db6fda56",
   "metadata": {},
   "outputs": [],
   "source": [
    "df.head()"
   ]
  },
  {
   "cell_type": "code",
   "execution_count": null,
   "id": "4c8c4f24",
   "metadata": {},
   "outputs": [],
   "source": [
    "df['week'] = pd.DatetimeIndex(df[\"ActivityDate\"]).week"
   ]
  },
  {
   "cell_type": "code",
   "execution_count": null,
   "id": "614f7a07",
   "metadata": {},
   "outputs": [],
   "source": [
    "df['week']"
   ]
  },
  {
   "cell_type": "code",
   "execution_count": null,
   "id": "5f2114e3",
   "metadata": {},
   "outputs": [],
   "source": [
    "df['date_time'] = pd.to_datetime(df['ActivityDate'])"
   ]
  },
  {
   "cell_type": "code",
   "execution_count": null,
   "id": "53452a9c",
   "metadata": {},
   "outputs": [],
   "source": [
    "pd.to_datetime(df['ActivityDate'])"
   ]
  },
  {
   "cell_type": "code",
   "execution_count": null,
   "id": "27c36262",
   "metadata": {},
   "outputs": [],
   "source": [
    "df['date_time'].dt.weekday"
   ]
  },
  {
   "cell_type": "code",
   "execution_count": null,
   "id": "a6fd2b72",
   "metadata": {},
   "outputs": [],
   "source": [
    "df['date_time'].dt.day_name()"
   ]
  },
  {
   "cell_type": "code",
   "execution_count": null,
   "id": "0ffa4cde",
   "metadata": {},
   "outputs": [],
   "source": [
    "df['day_name']=df['date_time'].dt.day_name()"
   ]
  },
  {
   "cell_type": "code",
   "execution_count": null,
   "id": "666e6153",
   "metadata": {},
   "outputs": [],
   "source": [
    "df"
   ]
  },
  {
   "cell_type": "code",
   "execution_count": null,
   "id": "feb73880",
   "metadata": {},
   "outputs": [],
   "source": [
    "import matplotlib.pyplot as plt\n",
    "%matplotlib inline\n",
    "plt.figure(figsize=(20,10))\n",
    "sns.boxplot(x='day_name',y='Calories',data=df)"
   ]
  },
  {
   "cell_type": "code",
   "execution_count": null,
   "id": "73a72f42",
   "metadata": {},
   "outputs": [],
   "source": [
    "df.head()"
   ]
  },
  {
   "cell_type": "code",
   "execution_count": null,
   "id": "1e101c72",
   "metadata": {},
   "outputs": [],
   "source": [
    "df.columns"
   ]
  },
  {
   "cell_type": "code",
   "execution_count": null,
   "id": "364c3696",
   "metadata": {},
   "outputs": [],
   "source": [
    "sns.scatterplot(x='Calories',y=\"TotalSteps\",data=df)"
   ]
  },
  {
   "cell_type": "code",
   "execution_count": null,
   "id": "966d0f60",
   "metadata": {},
   "outputs": [],
   "source": [
    "plt.figure(figsize=(20,20))\n",
    "sns.scatterplot(x='Calories',y=\"TotalSteps\",data=df)"
   ]
  },
  {
   "cell_type": "code",
   "execution_count": null,
   "id": "b76efe3a",
   "metadata": {},
   "outputs": [],
   "source": [
    "plt.figure(figsize=(20,20))\n",
    "sns.lineplot(x='Calories',y=\"TotalSteps\",data=df)"
   ]
  },
  {
   "cell_type": "code",
   "execution_count": null,
   "id": "0f0e8e4a",
   "metadata": {},
   "outputs": [],
   "source": [
    "plt.figure(figsize=(20,20))\n",
    "sns.lmplot(x='Calories',y=\"TotalSteps\",data=df)"
   ]
  },
  {
   "cell_type": "code",
   "execution_count": null,
   "id": "e66fbe5d",
   "metadata": {},
   "outputs": [],
   "source": [
    "df['TrackerDistance']"
   ]
  },
  {
   "cell_type": "code",
   "execution_count": null,
   "id": "8f5a363a",
   "metadata": {},
   "outputs": [],
   "source": [
    "df.info"
   ]
  },
  {
   "cell_type": "code",
   "execution_count": null,
   "id": "e76043c5",
   "metadata": {},
   "outputs": [],
   "source": []
  },
  {
   "cell_type": "code",
   "execution_count": null,
   "id": "d8ef6daa",
   "metadata": {},
   "outputs": [],
   "source": []
  }
 ],
 "metadata": {
  "kernelspec": {
   "display_name": "Python 3 (ipykernel)",
   "language": "python",
   "name": "python3"
  },
  "language_info": {
   "codemirror_mode": {
    "name": "ipython",
    "version": 3
   },
   "file_extension": ".py",
   "mimetype": "text/x-python",
   "name": "python",
   "nbconvert_exporter": "python",
   "pygments_lexer": "ipython3",
   "version": "3.9.7"
  }
 },
 "nbformat": 4,
 "nbformat_minor": 5
}
