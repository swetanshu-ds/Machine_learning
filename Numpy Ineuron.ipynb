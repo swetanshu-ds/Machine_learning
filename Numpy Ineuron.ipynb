{
 "cells": [
  {
   "cell_type": "code",
   "execution_count": null,
   "id": "8ccebf6e",
   "metadata": {},
   "outputs": [],
   "source": [
    "import numpy as np"
   ]
  },
  {
   "cell_type": "code",
   "execution_count": null,
   "id": "6d0acfb1",
   "metadata": {},
   "outputs": [],
   "source": [
    "import array "
   ]
  },
  {
   "cell_type": "code",
   "execution_count": null,
   "id": "30392431",
   "metadata": {},
   "outputs": [],
   "source": [
    "np.array([1,2,3,4,5])              ##### 1d array"
   ]
  },
  {
   "cell_type": "code",
   "execution_count": null,
   "id": "385ae70d",
   "metadata": {},
   "outputs": [],
   "source": [
    "type(np.array([1,2,3,4,5]))     "
   ]
  },
  {
   "cell_type": "code",
   "execution_count": null,
   "id": "59c6023a",
   "metadata": {},
   "outputs": [],
   "source": [
    "np.array([1,2,3,4,5,'swetanshu',4+8j])      #### converting ervery data ingto string format , this is the natuere kf np.ndarry to upcast the data which is in highest format"
   ]
  },
  {
   "cell_type": "code",
   "execution_count": null,
   "id": "f1abad9d",
   "metadata": {},
   "outputs": [],
   "source": [
    "np.array([1,2,3.0,4.0,5.6])            #### upcasting the data from integer to floatung point number"
   ]
  },
  {
   "cell_type": "code",
   "execution_count": null,
   "id": "bf3b2482",
   "metadata": {},
   "outputs": [],
   "source": [
    "np.array([[1,3],[3,4]])"
   ]
  },
  {
   "cell_type": "code",
   "execution_count": null,
   "id": "c65fb18b",
   "metadata": {},
   "outputs": [],
   "source": [
    "np.array([[1,3],[3,4],[6,7]])"
   ]
  },
  {
   "cell_type": "code",
   "execution_count": null,
   "id": "834579f5",
   "metadata": {},
   "outputs": [],
   "source": [
    "np.array([[1,3],[3,4],[6,7,8]])        #### 2d array"
   ]
  },
  {
   "cell_type": "code",
   "execution_count": null,
   "id": "97b56bf0",
   "metadata": {},
   "outputs": [],
   "source": [
    "np.array([[[1,3],[3,4]],[[1,3],[3,4]]])        #######  3d array"
   ]
  },
  {
   "cell_type": "code",
   "execution_count": null,
   "id": "09c52392",
   "metadata": {},
   "outputs": [],
   "source": [
    "np.array([1,2,3],ndmin = 30)"
   ]
  },
  {
   "cell_type": "code",
   "execution_count": null,
   "id": "1d9fee0a",
   "metadata": {},
   "outputs": [],
   "source": [
    "np.array([1,2,3],ndmin = 3)"
   ]
  },
  {
   "cell_type": "code",
   "execution_count": null,
   "id": "a197e497",
   "metadata": {},
   "outputs": [],
   "source": [
    "np.array([1,2,3],dtype =complex )"
   ]
  },
  {
   "cell_type": "code",
   "execution_count": null,
   "id": "ed85da53",
   "metadata": {},
   "outputs": [],
   "source": [
    "np.array([(1,2) , (4,5)])"
   ]
  },
  {
   "cell_type": "code",
   "execution_count": null,
   "id": "500f5ca1",
   "metadata": {},
   "outputs": [],
   "source": [
    "arr = np.array([(1,2) , (4,5)],dtype = [('a','<i2'),('b','<i8')])"
   ]
  },
  {
   "cell_type": "code",
   "execution_count": null,
   "id": "0f2905b3",
   "metadata": {},
   "outputs": [],
   "source": [
    "arr"
   ]
  },
  {
   "cell_type": "code",
   "execution_count": null,
   "id": "1196d36f",
   "metadata": {},
   "outputs": [],
   "source": [
    "arr[0][0]"
   ]
  },
  {
   "cell_type": "code",
   "execution_count": null,
   "id": "30b6893b",
   "metadata": {},
   "outputs": [],
   "source": [
    "type(arr[0][0])           ### i2 representing int 16"
   ]
  },
  {
   "cell_type": "code",
   "execution_count": null,
   "id": "df2326f0",
   "metadata": {},
   "outputs": [],
   "source": [
    "type(arr[0][1])           ### i8 representing int 64"
   ]
  },
  {
   "cell_type": "code",
   "execution_count": null,
   "id": "26d21710",
   "metadata": {},
   "outputs": [],
   "source": [
    "arr = np.array([(1,2) , (4,5)],dtype = [('a','<i4'),('b','<i8')])"
   ]
  },
  {
   "cell_type": "code",
   "execution_count": null,
   "id": "ba95218b",
   "metadata": {},
   "outputs": [],
   "source": [
    "type(arr[0][0])      "
   ]
  },
  {
   "cell_type": "code",
   "execution_count": null,
   "id": "f69fc4de",
   "metadata": {},
   "outputs": [],
   "source": [
    "type(arr[0][1])"
   ]
  },
  {
   "cell_type": "code",
   "execution_count": null,
   "id": "c5fb5baf",
   "metadata": {},
   "outputs": [],
   "source": [
    "arr = np.array([(1,2) , (4,5)],dtype = [('a','<i16'),('b','<i8')])"
   ]
  },
  {
   "cell_type": "code",
   "execution_count": null,
   "id": "a43c50be",
   "metadata": {},
   "outputs": [],
   "source": [
    "arr  =np.array([[1,3],[3,4]])"
   ]
  },
  {
   "cell_type": "code",
   "execution_count": null,
   "id": "c841e549",
   "metadata": {},
   "outputs": [],
   "source": [
    "arr"
   ]
  },
  {
   "cell_type": "code",
   "execution_count": null,
   "id": "b7b93293",
   "metadata": {},
   "outputs": [],
   "source": [
    "arr[1][0]"
   ]
  },
  {
   "cell_type": "code",
   "execution_count": null,
   "id": "1e7ba567",
   "metadata": {},
   "outputs": [],
   "source": [
    "type(arr[1][0])"
   ]
  },
  {
   "cell_type": "code",
   "execution_count": null,
   "id": "c9fd1c7c",
   "metadata": {},
   "outputs": [],
   "source": [
    "np.mat(arr)"
   ]
  },
  {
   "cell_type": "code",
   "execution_count": null,
   "id": "18c7b01e",
   "metadata": {},
   "outputs": [],
   "source": [
    "np.matrix(arr)"
   ]
  },
  {
   "cell_type": "code",
   "execution_count": null,
   "id": "20046de5",
   "metadata": {},
   "outputs": [],
   "source": [
    "##  mat = matrix     bothe are same"
   ]
  },
  {
   "cell_type": "code",
   "execution_count": null,
   "id": "b9121b77",
   "metadata": {},
   "outputs": [],
   "source": [
    "l  = [1,2,3,4,5,7]"
   ]
  },
  {
   "cell_type": "code",
   "execution_count": null,
   "id": "56921b90",
   "metadata": {},
   "outputs": [],
   "source": [
    "np.array(l)        ### converts list into array"
   ]
  },
  {
   "cell_type": "code",
   "execution_count": null,
   "id": "9dd12ab4",
   "metadata": {},
   "outputs": [],
   "source": [
    "np.asarray(l)      ### converts list into array"
   ]
  },
  {
   "cell_type": "code",
   "execution_count": null,
   "id": "aa468bd3",
   "metadata": {},
   "outputs": [],
   "source": [
    "np.asanyarray(l)    ### converts list into array"
   ]
  },
  {
   "cell_type": "code",
   "execution_count": null,
   "id": "fa3e9369",
   "metadata": {},
   "outputs": [],
   "source": [
    "mat = np.matrix(arr)"
   ]
  },
  {
   "cell_type": "code",
   "execution_count": null,
   "id": "c6a3eb03",
   "metadata": {},
   "outputs": [],
   "source": [
    "np.asanyarray(mat)"
   ]
  },
  {
   "cell_type": "code",
   "execution_count": null,
   "id": "e70f7658",
   "metadata": {},
   "outputs": [],
   "source": [
    "issubclass(np.matrix,np.ndarray)"
   ]
  },
  {
   "cell_type": "code",
   "execution_count": null,
   "id": "a466033f",
   "metadata": {},
   "outputs": [],
   "source": [
    "issubclass(np.ndarray,np.matrix)"
   ]
  },
  {
   "cell_type": "code",
   "execution_count": null,
   "id": "ac542e64",
   "metadata": {},
   "outputs": [],
   "source": [
    "arr"
   ]
  },
  {
   "cell_type": "code",
   "execution_count": null,
   "id": "f518db58",
   "metadata": {},
   "outputs": [],
   "source": [
    "a = arr             ### shallow copy"
   ]
  },
  {
   "cell_type": "code",
   "execution_count": null,
   "id": "b888f51c",
   "metadata": {},
   "outputs": [],
   "source": [
    "b=np.copy(arr)     ### deep copy"
   ]
  },
  {
   "cell_type": "code",
   "execution_count": null,
   "id": "665a721b",
   "metadata": {},
   "outputs": [],
   "source": [
    "arr[0][0] = 67"
   ]
  },
  {
   "cell_type": "code",
   "execution_count": null,
   "id": "2c848dcc",
   "metadata": {},
   "outputs": [],
   "source": [
    "arr"
   ]
  },
  {
   "cell_type": "code",
   "execution_count": null,
   "id": "a9d136d4",
   "metadata": {},
   "outputs": [],
   "source": [
    "a"
   ]
  },
  {
   "cell_type": "code",
   "execution_count": null,
   "id": "25f2cc2d",
   "metadata": {},
   "outputs": [],
   "source": [
    "b"
   ]
  },
  {
   "cell_type": "code",
   "execution_count": null,
   "id": "20360a0b",
   "metadata": {},
   "outputs": [],
   "source": [
    "arr[0:10]"
   ]
  },
  {
   "cell_type": "code",
   "execution_count": null,
   "id": "b97dce37",
   "metadata": {},
   "outputs": [],
   "source": [
    "arr[-1]"
   ]
  },
  {
   "cell_type": "code",
   "execution_count": null,
   "id": "c328d172",
   "metadata": {},
   "outputs": [],
   "source": [
    "for  i in arr:\n",
    "    print(i)"
   ]
  },
  {
   "cell_type": "code",
   "execution_count": null,
   "id": "2d189484",
   "metadata": {},
   "outputs": [],
   "source": [
    "np.fromfunction(lambda i,j:i==j,(4,4))"
   ]
  },
  {
   "cell_type": "code",
   "execution_count": null,
   "id": "45098bce",
   "metadata": {},
   "outputs": [],
   "source": [
    "type(np.fromfunction(lambda i,j:i==j,(4,4)))"
   ]
  },
  {
   "cell_type": "code",
   "execution_count": null,
   "id": "9347e144",
   "metadata": {},
   "outputs": [],
   "source": [
    "np.fromfunction(lambda i,j:i*j,(3,3))"
   ]
  },
  {
   "cell_type": "code",
   "execution_count": null,
   "id": "a1c08684",
   "metadata": {},
   "outputs": [],
   "source": [
    "np.fromfunction(lambda i,j:i/j,(3,3))"
   ]
  },
  {
   "cell_type": "code",
   "execution_count": null,
   "id": "f0600ab4",
   "metadata": {},
   "outputs": [],
   "source": [
    "[i*i for i in range(5)]"
   ]
  },
  {
   "cell_type": "code",
   "execution_count": null,
   "id": "d856fd2f",
   "metadata": {},
   "outputs": [],
   "source": [
    "gen = (i*i for i in range(5))"
   ]
  },
  {
   "cell_type": "code",
   "execution_count": null,
   "id": "634f203d",
   "metadata": {},
   "outputs": [],
   "source": [
    "gen"
   ]
  },
  {
   "cell_type": "code",
   "execution_count": null,
   "id": "f77ec28a",
   "metadata": {},
   "outputs": [],
   "source": [
    "def test(x):\n",
    "    yield x"
   ]
  },
  {
   "cell_type": "code",
   "execution_count": null,
   "id": "1064d055",
   "metadata": {},
   "outputs": [],
   "source": [
    "test(5)"
   ]
  },
  {
   "cell_type": "code",
   "execution_count": null,
   "id": "6fd57c7f",
   "metadata": {},
   "outputs": [],
   "source": [
    "np.fromiter(gen,dtype= int)"
   ]
  },
  {
   "cell_type": "code",
   "execution_count": null,
   "id": "43be5803",
   "metadata": {},
   "outputs": [],
   "source": [
    "np.fromiter(range(5),dtype= int)"
   ]
  },
  {
   "cell_type": "code",
   "execution_count": null,
   "id": "bee41099",
   "metadata": {},
   "outputs": [],
   "source": [
    "np.fromstring('1,2,3,4,5,6',sep = ',')"
   ]
  },
  {
   "cell_type": "code",
   "execution_count": null,
   "id": "90d0ca33",
   "metadata": {},
   "outputs": [],
   "source": [
    "np.fromstring('1,2,3,4,5,6',sep = ',',dtype = int)"
   ]
  },
  {
   "cell_type": "code",
   "execution_count": null,
   "id": "6ab9920b",
   "metadata": {},
   "outputs": [],
   "source": [
    "np.fromstring(\"152652 126812 136281 178682\",sep = \" \",dtype = int)"
   ]
  },
  {
   "cell_type": "code",
   "execution_count": null,
   "id": "aa8e98f0",
   "metadata": {},
   "outputs": [],
   "source": [
    "np.fromstring(\"152652 126812 136281 178682\",sep = \" \",dtype = complex)"
   ]
  },
  {
   "cell_type": "code",
   "execution_count": null,
   "id": "3b13f331",
   "metadata": {},
   "outputs": [],
   "source": [
    "l = [1,2,3,4,5,6,6,7,7,8]"
   ]
  },
  {
   "cell_type": "code",
   "execution_count": null,
   "id": "a3311b06",
   "metadata": {},
   "outputs": [],
   "source": [
    "np.array(l)"
   ]
  },
  {
   "cell_type": "code",
   "execution_count": null,
   "id": "b8664ab4",
   "metadata": {},
   "outputs": [],
   "source": [
    "arr1 = np.array([[1,2,3,4],[2,3,4,5],[4,5,6,7]])"
   ]
  },
  {
   "cell_type": "code",
   "execution_count": null,
   "id": "7583d5b0",
   "metadata": {},
   "outputs": [],
   "source": [
    "type(arr)"
   ]
  },
  {
   "cell_type": "code",
   "execution_count": null,
   "id": "0395e353",
   "metadata": {},
   "outputs": [],
   "source": [
    "arr1.ndim"
   ]
  },
  {
   "cell_type": "code",
   "execution_count": null,
   "id": "9c4f0b0e",
   "metadata": {},
   "outputs": [],
   "source": [
    "arr1"
   ]
  },
  {
   "cell_type": "code",
   "execution_count": null,
   "id": "f02bba03",
   "metadata": {},
   "outputs": [],
   "source": [
    "arr1.ndim"
   ]
  },
  {
   "cell_type": "code",
   "execution_count": null,
   "id": "4692b667",
   "metadata": {},
   "outputs": [],
   "source": [
    "arr1.size"
   ]
  },
  {
   "cell_type": "code",
   "execution_count": null,
   "id": "c6573d47",
   "metadata": {},
   "outputs": [],
   "source": [
    "arr1.shape"
   ]
  },
  {
   "cell_type": "code",
   "execution_count": null,
   "id": "f56eee6f",
   "metadata": {},
   "outputs": [],
   "source": [
    "arr1.dtype"
   ]
  },
  {
   "cell_type": "code",
   "execution_count": null,
   "id": "4eb4eff3",
   "metadata": {},
   "outputs": [],
   "source": [
    "arr =np.array([3,4,5,6,7,8])"
   ]
  },
  {
   "cell_type": "code",
   "execution_count": null,
   "id": "3675178f",
   "metadata": {},
   "outputs": [],
   "source": [
    "arr"
   ]
  },
  {
   "cell_type": "code",
   "execution_count": null,
   "id": "731e07da",
   "metadata": {},
   "outputs": [],
   "source": [
    "arr.size"
   ]
  },
  {
   "cell_type": "code",
   "execution_count": null,
   "id": "8279171a",
   "metadata": {},
   "outputs": [],
   "source": [
    "arr.ndim"
   ]
  },
  {
   "cell_type": "code",
   "execution_count": null,
   "id": "ea64e06b",
   "metadata": {},
   "outputs": [],
   "source": [
    "arr.shape"
   ]
  },
  {
   "cell_type": "code",
   "execution_count": null,
   "id": "7fb57678",
   "metadata": {},
   "outputs": [],
   "source": [
    "arr2 = np.array([[[1,2,3,4],[4,5,6,7]],[[1,2,3,4],[4,5,6,7]]])"
   ]
  },
  {
   "cell_type": "code",
   "execution_count": null,
   "id": "82d507c3",
   "metadata": {},
   "outputs": [],
   "source": [
    "arr2"
   ]
  },
  {
   "cell_type": "code",
   "execution_count": null,
   "id": "bf10aab4",
   "metadata": {},
   "outputs": [],
   "source": [
    "arr2.size"
   ]
  },
  {
   "cell_type": "code",
   "execution_count": null,
   "id": "fc20f776",
   "metadata": {},
   "outputs": [],
   "source": [
    "arr2.ndim"
   ]
  },
  {
   "cell_type": "code",
   "execution_count": null,
   "id": "b87b23a7",
   "metadata": {},
   "outputs": [],
   "source": [
    "arr2.shape"
   ]
  },
  {
   "cell_type": "code",
   "execution_count": null,
   "id": "98e9a596",
   "metadata": {},
   "outputs": [],
   "source": [
    "arr4 = np.array([[[[1,2,3,4],[4,5,6,7]],[[1,2,3,4],[4,5,6,7]],[[1,2,3,4],[4,5,6,7]],[[1,2,3,4],[4,5,6,7]]]])"
   ]
  },
  {
   "cell_type": "code",
   "execution_count": null,
   "id": "f57772e7",
   "metadata": {},
   "outputs": [],
   "source": [
    "arr4"
   ]
  },
  {
   "cell_type": "code",
   "execution_count": null,
   "id": "51d18eaa",
   "metadata": {},
   "outputs": [],
   "source": [
    "arr4.ndim"
   ]
  },
  {
   "cell_type": "code",
   "execution_count": null,
   "id": "1139e03f",
   "metadata": {},
   "outputs": [],
   "source": [
    "arr4.shape"
   ]
  },
  {
   "cell_type": "code",
   "execution_count": null,
   "id": "1b171132",
   "metadata": {},
   "outputs": [],
   "source": [
    "range(5)"
   ]
  },
  {
   "cell_type": "code",
   "execution_count": null,
   "id": "e5b55f2c",
   "metadata": {},
   "outputs": [],
   "source": [
    "list(range(6))"
   ]
  },
  {
   "cell_type": "code",
   "execution_count": null,
   "id": "ab674fdb",
   "metadata": {},
   "outputs": [],
   "source": [
    "list(range(6.6))"
   ]
  },
  {
   "cell_type": "code",
   "execution_count": null,
   "id": "2e9e33db",
   "metadata": {},
   "outputs": [],
   "source": [
    "np.arange(6.6)"
   ]
  },
  {
   "cell_type": "code",
   "execution_count": null,
   "id": "235f5ce5",
   "metadata": {},
   "outputs": [],
   "source": [
    "np.arange(6.6,10,0.4) "
   ]
  },
  {
   "cell_type": "code",
   "execution_count": null,
   "id": "cab94d13",
   "metadata": {},
   "outputs": [],
   "source": [
    "np.arange(6.6,-10,-0.4) "
   ]
  },
  {
   "cell_type": "code",
   "execution_count": null,
   "id": "993ac3d1",
   "metadata": {},
   "outputs": [],
   "source": [
    "np.arange(9,6.6,-0.4) "
   ]
  },
  {
   "cell_type": "code",
   "execution_count": null,
   "id": "0230cbb9",
   "metadata": {},
   "outputs": [],
   "source": [
    "np.arange(1,9)"
   ]
  },
  {
   "cell_type": "code",
   "execution_count": null,
   "id": "ccdafa91",
   "metadata": {},
   "outputs": [],
   "source": [
    "np.linspace(3,8)"
   ]
  },
  {
   "cell_type": "code",
   "execution_count": null,
   "id": "79e8ef0a",
   "metadata": {},
   "outputs": [],
   "source": [
    "np.linspace(3,8,5)"
   ]
  },
  {
   "cell_type": "code",
   "execution_count": null,
   "id": "15a67b50",
   "metadata": {
    "scrolled": true
   },
   "outputs": [],
   "source": [
    "np.linspace(2,10,5)"
   ]
  },
  {
   "cell_type": "code",
   "execution_count": null,
   "id": "a0fc34ef",
   "metadata": {},
   "outputs": [],
   "source": [
    "np.linspace(0,10,5)"
   ]
  },
  {
   "cell_type": "code",
   "execution_count": null,
   "id": "f7d88829",
   "metadata": {},
   "outputs": [],
   "source": [
    "np.zeros(5)"
   ]
  },
  {
   "cell_type": "code",
   "execution_count": null,
   "id": "2bd50efa",
   "metadata": {},
   "outputs": [],
   "source": [
    "np.zeros((2,5))"
   ]
  },
  {
   "cell_type": "code",
   "execution_count": null,
   "id": "1824871f",
   "metadata": {},
   "outputs": [],
   "source": [
    "np.zeros((2,5,4))"
   ]
  },
  {
   "cell_type": "code",
   "execution_count": null,
   "id": "3aea06b3",
   "metadata": {},
   "outputs": [],
   "source": [
    "np.zeros((2,5,4))"
   ]
  },
  {
   "cell_type": "code",
   "execution_count": null,
   "id": "105e10b4",
   "metadata": {},
   "outputs": [],
   "source": [
    "np.ones(4)"
   ]
  },
  {
   "cell_type": "code",
   "execution_count": null,
   "id": "a0b2ce3d",
   "metadata": {},
   "outputs": [],
   "source": [
    "np.ones((2,3))"
   ]
  },
  {
   "cell_type": "code",
   "execution_count": null,
   "id": "fbfcd69e",
   "metadata": {},
   "outputs": [],
   "source": [
    "np.ones((2,3,1))"
   ]
  },
  {
   "cell_type": "code",
   "execution_count": null,
   "id": "55744d54",
   "metadata": {},
   "outputs": [],
   "source": [
    "np.ones((2,3,1)) +6"
   ]
  },
  {
   "cell_type": "code",
   "execution_count": null,
   "id": "534ce2ed",
   "metadata": {},
   "outputs": [],
   "source": [
    "np.empty(5)"
   ]
  },
  {
   "cell_type": "code",
   "execution_count": null,
   "id": "80f455e6",
   "metadata": {},
   "outputs": [],
   "source": [
    "np.empty((3,4))"
   ]
  },
  {
   "cell_type": "code",
   "execution_count": null,
   "id": "f57825b0",
   "metadata": {},
   "outputs": [],
   "source": [
    "np.eye(3)"
   ]
  },
  {
   "cell_type": "code",
   "execution_count": null,
   "id": "31c1d563",
   "metadata": {},
   "outputs": [],
   "source": [
    "np.linspace(2,4,4)"
   ]
  },
  {
   "cell_type": "code",
   "execution_count": null,
   "id": "6387a301",
   "metadata": {},
   "outputs": [],
   "source": [
    "np.linspace(2,4,4,endpoint  =False)"
   ]
  },
  {
   "cell_type": "code",
   "execution_count": null,
   "id": "89fcf416",
   "metadata": {},
   "outputs": [],
   "source": [
    "np.linspace([2,4],4,endpoint  =False,axis = 1)"
   ]
  },
  {
   "cell_type": "code",
   "execution_count": null,
   "id": "05f7dd60",
   "metadata": {},
   "outputs": [],
   "source": [
    "np.logspace(2,3,5)"
   ]
  },
  {
   "cell_type": "code",
   "execution_count": null,
   "id": "52deceba",
   "metadata": {},
   "outputs": [],
   "source": [
    "np.logspace([2,3],5)"
   ]
  },
  {
   "cell_type": "code",
   "execution_count": null,
   "id": "fd68691e",
   "metadata": {},
   "outputs": [],
   "source": [
    "np.logspace([2,3,4],5,axis =1)"
   ]
  },
  {
   "cell_type": "code",
   "execution_count": null,
   "id": "91a454ca",
   "metadata": {},
   "outputs": [],
   "source": [
    "np.logspace([2],[3],axis = 1)"
   ]
  },
  {
   "cell_type": "code",
   "execution_count": null,
   "id": "879bf03a",
   "metadata": {},
   "outputs": [],
   "source": [
    "np.logspace([2],[3],axis = 0)"
   ]
  },
  {
   "cell_type": "code",
   "execution_count": null,
   "id": "9ef4d320",
   "metadata": {},
   "outputs": [],
   "source": [
    "d = np.linspace(4,7,40)"
   ]
  },
  {
   "cell_type": "code",
   "execution_count": null,
   "id": "8d965e1d",
   "metadata": {},
   "outputs": [],
   "source": [
    "d"
   ]
  },
  {
   "cell_type": "code",
   "execution_count": null,
   "id": "e3063e90",
   "metadata": {},
   "outputs": [],
   "source": [
    "d.ndim"
   ]
  },
  {
   "cell_type": "code",
   "execution_count": null,
   "id": "100cb8ac",
   "metadata": {},
   "outputs": [],
   "source": [
    "d.shape"
   ]
  },
  {
   "cell_type": "code",
   "execution_count": null,
   "id": "91556226",
   "metadata": {},
   "outputs": [],
   "source": [
    "d.reshape(40,1)"
   ]
  },
  {
   "cell_type": "code",
   "execution_count": null,
   "id": "94c46b70",
   "metadata": {},
   "outputs": [],
   "source": [
    "d.reshape(2,1,20)"
   ]
  },
  {
   "cell_type": "code",
   "execution_count": null,
   "id": "53fea82b",
   "metadata": {},
   "outputs": [],
   "source": [
    "d.reshape(4,1,10)"
   ]
  },
  {
   "cell_type": "code",
   "execution_count": null,
   "id": "397e8763",
   "metadata": {},
   "outputs": [],
   "source": [
    "np.logspace(2,5,10)"
   ]
  },
  {
   "cell_type": "code",
   "execution_count": null,
   "id": "3eadee0a",
   "metadata": {},
   "outputs": [],
   "source": [
    "np.random.rand(3)              ### normal distribution"
   ]
  },
  {
   "cell_type": "code",
   "execution_count": null,
   "id": "9db505a2",
   "metadata": {},
   "outputs": [],
   "source": [
    "np.random.randn(5)              ### standard normal distribution  ### mu = 0"
   ]
  },
  {
   "cell_type": "code",
   "execution_count": null,
   "id": "0397ceeb",
   "metadata": {},
   "outputs": [],
   "source": [
    "np.random.randn(2,3)        "
   ]
  },
  {
   "cell_type": "code",
   "execution_count": null,
   "id": "f74fccd6",
   "metadata": {},
   "outputs": [],
   "source": [
    "np.random.randn(2,2,3)   "
   ]
  },
  {
   "cell_type": "code",
   "execution_count": null,
   "id": "07d413c0",
   "metadata": {},
   "outputs": [],
   "source": [
    "np.random.randint(5)"
   ]
  },
  {
   "cell_type": "code",
   "execution_count": null,
   "id": "bd7f671c",
   "metadata": {},
   "outputs": [],
   "source": [
    "np.random.randint(5,60)"
   ]
  },
  {
   "cell_type": "code",
   "execution_count": null,
   "id": "9bb31f90",
   "metadata": {},
   "outputs": [],
   "source": [
    "np.random.randint(5,6)"
   ]
  },
  {
   "cell_type": "code",
   "execution_count": null,
   "id": "76fee3eb",
   "metadata": {},
   "outputs": [],
   "source": [
    "np.random.randint(5,10)"
   ]
  },
  {
   "cell_type": "code",
   "execution_count": null,
   "id": "f8c0e893",
   "metadata": {},
   "outputs": [],
   "source": [
    "arr = np.random.randint(3,9,(3,3))"
   ]
  },
  {
   "cell_type": "code",
   "execution_count": null,
   "id": "5f1fb144",
   "metadata": {},
   "outputs": [],
   "source": [
    "arr"
   ]
  },
  {
   "cell_type": "code",
   "execution_count": null,
   "id": "5e748509",
   "metadata": {},
   "outputs": [],
   "source": [
    "arr.reshape(1,9)"
   ]
  },
  {
   "cell_type": "code",
   "execution_count": null,
   "id": "f6c3c74c",
   "metadata": {},
   "outputs": [],
   "source": [
    "arr.reshape(9,1)"
   ]
  },
  {
   "cell_type": "code",
   "execution_count": null,
   "id": "327d09e1",
   "metadata": {},
   "outputs": [],
   "source": [
    "arr.reshape(1,1,9)"
   ]
  },
  {
   "cell_type": "code",
   "execution_count": null,
   "id": "9a5c8fc9",
   "metadata": {},
   "outputs": [],
   "source": [
    "arr.reshape(3,3,1)"
   ]
  },
  {
   "cell_type": "code",
   "execution_count": null,
   "id": "80fc7472",
   "metadata": {},
   "outputs": [],
   "source": [
    "arr.reshape(3,-1)"
   ]
  },
  {
   "cell_type": "code",
   "execution_count": null,
   "id": "8282b61c",
   "metadata": {},
   "outputs": [],
   "source": [
    "arr.reshape(4,-1)"
   ]
  },
  {
   "cell_type": "code",
   "execution_count": null,
   "id": "e3040df9",
   "metadata": {},
   "outputs": [],
   "source": [
    "arr.reshape(3,-1422324)          ### we can give any negative number in place of -1"
   ]
  },
  {
   "cell_type": "code",
   "execution_count": null,
   "id": "23617552",
   "metadata": {},
   "outputs": [],
   "source": [
    "arr.reshape(1,-1312)"
   ]
  },
  {
   "cell_type": "code",
   "execution_count": null,
   "id": "ae75a8ab",
   "metadata": {},
   "outputs": [],
   "source": [
    "arr.reshape(1,1312)"
   ]
  },
  {
   "cell_type": "code",
   "execution_count": null,
   "id": "5629aeb5",
   "metadata": {},
   "outputs": [],
   "source": [
    "arr"
   ]
  },
  {
   "cell_type": "code",
   "execution_count": null,
   "id": "0797cde3",
   "metadata": {},
   "outputs": [],
   "source": [
    "arr.max()"
   ]
  },
  {
   "cell_type": "code",
   "execution_count": null,
   "id": "77ff7382",
   "metadata": {},
   "outputs": [],
   "source": [
    "arr.min()"
   ]
  },
  {
   "cell_type": "code",
   "execution_count": null,
   "id": "c00c4340",
   "metadata": {},
   "outputs": [],
   "source": [
    "arr = np.random.randint(4,100,(5,5))"
   ]
  },
  {
   "cell_type": "code",
   "execution_count": null,
   "id": "ce83a02f",
   "metadata": {},
   "outputs": [],
   "source": [
    "arr"
   ]
  },
  {
   "cell_type": "code",
   "execution_count": null,
   "id": "ada2603b",
   "metadata": {},
   "outputs": [],
   "source": [
    "arr[3:,3:]"
   ]
  },
  {
   "cell_type": "code",
   "execution_count": null,
   "id": "bc5f81a8",
   "metadata": {},
   "outputs": [],
   "source": [
    "arr[0:,[1,3]]"
   ]
  },
  {
   "cell_type": "code",
   "execution_count": null,
   "id": "cc359978",
   "metadata": {},
   "outputs": [],
   "source": [
    "arr"
   ]
  },
  {
   "cell_type": "code",
   "execution_count": null,
   "id": "df2d643d",
   "metadata": {},
   "outputs": [],
   "source": [
    "arr[arr>19]"
   ]
  },
  {
   "cell_type": "code",
   "execution_count": null,
   "id": "3f5a65cd",
   "metadata": {},
   "outputs": [],
   "source": [
    "arr>10"
   ]
  },
  {
   "cell_type": "code",
   "execution_count": null,
   "id": "728a6721",
   "metadata": {},
   "outputs": [],
   "source": [
    "arr"
   ]
  },
  {
   "cell_type": "code",
   "execution_count": null,
   "id": "bdeb6fef",
   "metadata": {},
   "outputs": [],
   "source": [
    "arr*arr"
   ]
  },
  {
   "cell_type": "code",
   "execution_count": null,
   "id": "17759118",
   "metadata": {},
   "outputs": [],
   "source": [
    "arr1 = np.random.randint(2,4,(3,3))"
   ]
  },
  {
   "cell_type": "code",
   "execution_count": null,
   "id": "d2c57832",
   "metadata": {},
   "outputs": [],
   "source": [
    "arr2 = np.random.randint(2,4,(3,3))"
   ]
  },
  {
   "cell_type": "code",
   "execution_count": null,
   "id": "52775f6d",
   "metadata": {},
   "outputs": [],
   "source": [
    "arr1"
   ]
  },
  {
   "cell_type": "code",
   "execution_count": null,
   "id": "1cfcc37d",
   "metadata": {},
   "outputs": [],
   "source": [
    "arr2"
   ]
  },
  {
   "cell_type": "code",
   "execution_count": null,
   "id": "d4b2bf80",
   "metadata": {},
   "outputs": [],
   "source": [
    "arr1*arr2"
   ]
  },
  {
   "cell_type": "code",
   "execution_count": null,
   "id": "493014b1",
   "metadata": {},
   "outputs": [],
   "source": [
    "arr3 = np.random.randint(2,4,(3,3))"
   ]
  },
  {
   "cell_type": "code",
   "execution_count": null,
   "id": "caa40cb2",
   "metadata": {},
   "outputs": [],
   "source": [
    "arr4 = np.random.randint(2,4,(3,2))"
   ]
  },
  {
   "cell_type": "code",
   "execution_count": null,
   "id": "b36502e0",
   "metadata": {},
   "outputs": [],
   "source": [
    "arr3"
   ]
  },
  {
   "cell_type": "code",
   "execution_count": null,
   "id": "e1ccff22",
   "metadata": {},
   "outputs": [],
   "source": [
    "arr4"
   ]
  },
  {
   "cell_type": "code",
   "execution_count": null,
   "id": "cb1f9360",
   "metadata": {},
   "outputs": [],
   "source": [
    "arr3*arr4"
   ]
  },
  {
   "cell_type": "code",
   "execution_count": null,
   "id": "1faba3f0",
   "metadata": {},
   "outputs": [],
   "source": [
    "arr1@arr2               #### matrix multiplication"
   ]
  },
  {
   "cell_type": "code",
   "execution_count": null,
   "id": "62f03dd1",
   "metadata": {},
   "outputs": [],
   "source": [
    "arr/0"
   ]
  },
  {
   "cell_type": "code",
   "execution_count": null,
   "id": "a5238f86",
   "metadata": {},
   "outputs": [],
   "source": [
    "arr**2"
   ]
  },
  {
   "cell_type": "code",
   "execution_count": null,
   "id": "0ada7c70",
   "metadata": {},
   "outputs": [],
   "source": [
    "arr = np.zeros((3,4))"
   ]
  },
  {
   "cell_type": "code",
   "execution_count": null,
   "id": "b721846a",
   "metadata": {},
   "outputs": [],
   "source": [
    "arr"
   ]
  },
  {
   "cell_type": "code",
   "execution_count": null,
   "id": "1b1b0cb8",
   "metadata": {},
   "outputs": [],
   "source": [
    "a = np.array([1,2,3,4])"
   ]
  },
  {
   "cell_type": "code",
   "execution_count": null,
   "id": "42fb196e",
   "metadata": {},
   "outputs": [],
   "source": [
    "a"
   ]
  },
  {
   "cell_type": "code",
   "execution_count": null,
   "id": "6eacecea",
   "metadata": {},
   "outputs": [],
   "source": [
    "a+arr"
   ]
  },
  {
   "cell_type": "code",
   "execution_count": null,
   "id": "6a2759c9",
   "metadata": {},
   "outputs": [],
   "source": [
    "b = np.array([[5,6,7]])"
   ]
  },
  {
   "cell_type": "code",
   "execution_count": null,
   "id": "c533e1b1",
   "metadata": {},
   "outputs": [],
   "source": [
    "b"
   ]
  },
  {
   "cell_type": "code",
   "execution_count": null,
   "id": "966567ad",
   "metadata": {},
   "outputs": [],
   "source": [
    "b.reshape(3,1)     +arr"
   ]
  },
  {
   "cell_type": "code",
   "execution_count": null,
   "id": "2b281846",
   "metadata": {},
   "outputs": [],
   "source": [
    "b"
   ]
  },
  {
   "cell_type": "code",
   "execution_count": null,
   "id": "b20e8546",
   "metadata": {},
   "outputs": [],
   "source": [
    "b.T+arr"
   ]
  },
  {
   "cell_type": "code",
   "execution_count": null,
   "id": "6212e22d",
   "metadata": {},
   "outputs": [],
   "source": [
    "arr"
   ]
  },
  {
   "cell_type": "code",
   "execution_count": null,
   "id": "92568558",
   "metadata": {},
   "outputs": [],
   "source": [
    "arr = np.random.rand(5,4)"
   ]
  },
  {
   "cell_type": "code",
   "execution_count": null,
   "id": "08419af3",
   "metadata": {},
   "outputs": [],
   "source": [
    "arr"
   ]
  },
  {
   "cell_type": "code",
   "execution_count": null,
   "id": "d67efe03",
   "metadata": {},
   "outputs": [],
   "source": [
    "np.sqrt(arr)"
   ]
  },
  {
   "cell_type": "code",
   "execution_count": null,
   "id": "66f51876",
   "metadata": {},
   "outputs": [],
   "source": [
    "np.exp(arr)"
   ]
  },
  {
   "cell_type": "code",
   "execution_count": null,
   "id": "89de5af8",
   "metadata": {},
   "outputs": [],
   "source": [
    "np.log10(arr)"
   ]
  },
  {
   "cell_type": "code",
   "execution_count": null,
   "id": "ca49d054",
   "metadata": {},
   "outputs": [],
   "source": [
    "arr1  = np.random.randint(2,5,(5,5))"
   ]
  },
  {
   "cell_type": "code",
   "execution_count": null,
   "id": "4b8788b8",
   "metadata": {},
   "outputs": [],
   "source": [
    "arr1"
   ]
  },
  {
   "cell_type": "code",
   "execution_count": null,
   "id": "58900a14",
   "metadata": {},
   "outputs": [],
   "source": [
    "np.log10(arr1)"
   ]
  },
  {
   "cell_type": "code",
   "execution_count": null,
   "id": "3c27c2db",
   "metadata": {},
   "outputs": [],
   "source": [
    "np.log2(arr1)"
   ]
  },
  {
   "cell_type": "code",
   "execution_count": null,
   "id": "20a34f32",
   "metadata": {},
   "outputs": [],
   "source": [
    "np.random.seed(13)"
   ]
  },
  {
   "cell_type": "code",
   "execution_count": null,
   "id": "02c107fa",
   "metadata": {},
   "outputs": [],
   "source": [
    "np.random.rand(2,4)"
   ]
  },
  {
   "cell_type": "code",
   "execution_count": null,
   "id": "3efd0676",
   "metadata": {},
   "outputs": [],
   "source": [
    "np.random.seed(13)\n",
    "np.random.rand(2,4)          #### seed is used to prevent the data from changing"
   ]
  },
  {
   "cell_type": "code",
   "execution_count": null,
   "id": "bbb673a2",
   "metadata": {},
   "outputs": [],
   "source": [
    "np.random.seed(123)\n",
    "np.random.rand(2,4)          #### seed is used to prevent the data from changing"
   ]
  },
  {
   "cell_type": "code",
   "execution_count": null,
   "id": "62daa52d",
   "metadata": {},
   "outputs": [],
   "source": []
  }
 ],
 "metadata": {
  "kernelspec": {
   "display_name": "Python 3",
   "language": "python",
   "name": "python3"
  },
  "language_info": {
   "codemirror_mode": {
    "name": "ipython",
    "version": 3
   },
   "file_extension": ".py",
   "mimetype": "text/x-python",
   "name": "python",
   "nbconvert_exporter": "python",
   "pygments_lexer": "ipython3",
   "version": "3.8.8"
  }
 },
 "nbformat": 4,
 "nbformat_minor": 5
}
