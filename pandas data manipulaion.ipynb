{
 "cells": [
  {
   "cell_type": "code",
   "execution_count": null,
   "id": "a2eb10f4",
   "metadata": {},
   "outputs": [],
   "source": [
    "import pandas as pd\n",
    "import numpy as np\n",
    "import matplotlib.pyplot as plt\n",
    "import seaborn as sns\n",
    "%matplotlib inline"
   ]
  },
  {
   "cell_type": "code",
   "execution_count": null,
   "id": "1bef5710",
   "metadata": {},
   "outputs": [],
   "source": [
    "np.random.seed(20)\n",
    "df = pd.DataFrame(np.random.rand(1000,1),index = pd.date_range('2021-07-18',periods= 1000),columns=['data'])"
   ]
  },
  {
   "cell_type": "code",
   "execution_count": null,
   "id": "cea93f4e",
   "metadata": {},
   "outputs": [],
   "source": [
    "df.plot()"
   ]
  },
  {
   "cell_type": "code",
   "execution_count": null,
   "id": "8f75af53",
   "metadata": {},
   "outputs": [],
   "source": [
    "df.data"
   ]
  },
  {
   "cell_type": "code",
   "execution_count": null,
   "id": "b939a80b",
   "metadata": {},
   "outputs": [],
   "source": [
    "df.data.cumsum()"
   ]
  },
  {
   "cell_type": "code",
   "execution_count": null,
   "id": "83fc17ea",
   "metadata": {},
   "outputs": [],
   "source": [
    "df.data.cumsum().plot()"
   ]
  },
  {
   "cell_type": "code",
   "execution_count": null,
   "id": "c9fbae8a",
   "metadata": {},
   "outputs": [],
   "source": [
    "df"
   ]
  },
  {
   "cell_type": "code",
   "execution_count": null,
   "id": "27cee11c",
   "metadata": {},
   "outputs": [],
   "source": [
    "df['data1'] = df.data.cumsum()"
   ]
  },
  {
   "cell_type": "code",
   "execution_count": null,
   "id": "11dc7e21",
   "metadata": {},
   "outputs": [],
   "source": [
    "df['data2'] = df['data'].apply(lambda x:x*3)"
   ]
  },
  {
   "cell_type": "code",
   "execution_count": null,
   "id": "df63f47c",
   "metadata": {},
   "outputs": [],
   "source": [
    "df"
   ]
  },
  {
   "cell_type": "code",
   "execution_count": null,
   "id": "52ae4e76",
   "metadata": {},
   "outputs": [],
   "source": [
    "df.plot()"
   ]
  },
  {
   "cell_type": "code",
   "execution_count": null,
   "id": "bef4bbd8",
   "metadata": {},
   "outputs": [],
   "source": [
    "df.plot(figsize = (40,40))"
   ]
  },
  {
   "cell_type": "code",
   "execution_count": null,
   "id": "f35047a2",
   "metadata": {},
   "outputs": [],
   "source": [
    "df1 = sns.load_dataset('iris')"
   ]
  },
  {
   "cell_type": "code",
   "execution_count": null,
   "id": "4a66a746",
   "metadata": {},
   "outputs": [],
   "source": [
    "df1"
   ]
  },
  {
   "cell_type": "code",
   "execution_count": null,
   "id": "f5faddf3",
   "metadata": {},
   "outputs": [],
   "source": [
    "df1.plot()"
   ]
  },
  {
   "cell_type": "code",
   "execution_count": null,
   "id": "83012262",
   "metadata": {},
   "outputs": [],
   "source": [
    "df1.petal_length == df1.petal_length.max"
   ]
  },
  {
   "cell_type": "code",
   "execution_count": null,
   "id": "f631a958",
   "metadata": {},
   "outputs": [],
   "source": [
    "df1.petal_length.min"
   ]
  },
  {
   "cell_type": "code",
   "execution_count": null,
   "id": "41124284",
   "metadata": {},
   "outputs": [],
   "source": [
    "df1.plot(figsize  =(10,10))"
   ]
  },
  {
   "cell_type": "code",
   "execution_count": null,
   "id": "e8c9e0af",
   "metadata": {},
   "outputs": [],
   "source": [
    "df1.describe()"
   ]
  },
  {
   "cell_type": "code",
   "execution_count": null,
   "id": "7b3b6969",
   "metadata": {},
   "outputs": [],
   "source": [
    "gf = df1.plot(figsize=(10,10),title = 'irish data')"
   ]
  },
  {
   "cell_type": "code",
   "execution_count": null,
   "id": "de3cff88",
   "metadata": {},
   "outputs": [],
   "source": [
    "gf.set_xlabel('this is ,my x axis')"
   ]
  },
  {
   "cell_type": "code",
   "execution_count": null,
   "id": "072605d4",
   "metadata": {},
   "outputs": [],
   "source": [
    "gf = df1.plot(figsize=(10,10),title = 'irish data')\n",
    "gf.set_xlabel('this is my x axis')\n",
    "gf.set_ylabel('this is my y axis')"
   ]
  },
  {
   "cell_type": "code",
   "execution_count": null,
   "id": "eeb23b56",
   "metadata": {},
   "outputs": [],
   "source": [
    "df1"
   ]
  },
  {
   "cell_type": "code",
   "execution_count": null,
   "id": "89a28ba4",
   "metadata": {},
   "outputs": [],
   "source": [
    "df1.iloc[0]"
   ]
  },
  {
   "cell_type": "code",
   "execution_count": null,
   "id": "3f8eaab7",
   "metadata": {},
   "outputs": [],
   "source": [
    "df1.iloc[0][0:4].plot()"
   ]
  },
  {
   "cell_type": "code",
   "execution_count": null,
   "id": "0cfd2f3f",
   "metadata": {},
   "outputs": [],
   "source": [
    "df1.iloc[0][0:4].plot(kind = 'bar')"
   ]
  },
  {
   "cell_type": "code",
   "execution_count": null,
   "id": "e2aec70b",
   "metadata": {},
   "outputs": [],
   "source": [
    "df2 =sns.load_dataset('titanic')"
   ]
  },
  {
   "cell_type": "code",
   "execution_count": null,
   "id": "ac2a1d7f",
   "metadata": {},
   "outputs": [],
   "source": [
    "df2['pclass']"
   ]
  },
  {
   "cell_type": "code",
   "execution_count": null,
   "id": "7e7760ec",
   "metadata": {},
   "outputs": [],
   "source": [
    "df2.head()"
   ]
  },
  {
   "cell_type": "code",
   "execution_count": null,
   "id": "3e026135",
   "metadata": {},
   "outputs": [],
   "source": [
    "df2['pclass'].plot(kind= 'bar')"
   ]
  },
  {
   "cell_type": "code",
   "execution_count": null,
   "id": "e8495e87",
   "metadata": {},
   "outputs": [],
   "source": [
    "df2.pclass.plot()"
   ]
  },
  {
   "cell_type": "code",
   "execution_count": null,
   "id": "72bb21d2",
   "metadata": {},
   "outputs": [],
   "source": [
    "df3 = pd.DataFrame(np.random.rand(10,4),columns= ['a','b','c','d'])"
   ]
  },
  {
   "cell_type": "code",
   "execution_count": null,
   "id": "2cb48610",
   "metadata": {},
   "outputs": [],
   "source": [
    "df3.plot()"
   ]
  },
  {
   "cell_type": "code",
   "execution_count": null,
   "id": "695797e3",
   "metadata": {},
   "outputs": [],
   "source": [
    "df3.plot(kind = 'bar')"
   ]
  },
  {
   "cell_type": "code",
   "execution_count": null,
   "id": "2dcf8b5d",
   "metadata": {},
   "outputs": [],
   "source": [
    "df3.plot.barh()"
   ]
  },
  {
   "cell_type": "code",
   "execution_count": null,
   "id": "a15057ce",
   "metadata": {},
   "outputs": [],
   "source": [
    "df1"
   ]
  },
  {
   "cell_type": "code",
   "execution_count": null,
   "id": "5d86bd8c",
   "metadata": {},
   "outputs": [],
   "source": [
    "df1.plot(kind='hist')"
   ]
  },
  {
   "cell_type": "code",
   "execution_count": null,
   "id": "8dc50ba1",
   "metadata": {},
   "outputs": [],
   "source": [
    "df1.describe()"
   ]
  },
  {
   "cell_type": "code",
   "execution_count": null,
   "id": "e83900a7",
   "metadata": {},
   "outputs": [],
   "source": [
    "df1['sepal_length'].plot.hist()"
   ]
  },
  {
   "cell_type": "code",
   "execution_count": null,
   "id": "8462491f",
   "metadata": {},
   "outputs": [],
   "source": [
    "df1.plot(kind='hist',stacked = True,bins =100)"
   ]
  },
  {
   "cell_type": "code",
   "execution_count": null,
   "id": "f1de5510",
   "metadata": {},
   "outputs": [],
   "source": [
    "df1.plot.hist()"
   ]
  },
  {
   "cell_type": "code",
   "execution_count": null,
   "id": "09259461",
   "metadata": {},
   "outputs": [],
   "source": [
    "df1.plot(kind='hist',stacked = True,bins =1000)"
   ]
  },
  {
   "cell_type": "code",
   "execution_count": null,
   "id": "27376ba4",
   "metadata": {},
   "outputs": [],
   "source": [
    "df1.plot(kind='hist',stacked = True,bins =100,figsize = (10,10))"
   ]
  },
  {
   "cell_type": "code",
   "execution_count": null,
   "id": "cd37a96f",
   "metadata": {},
   "outputs": [],
   "source": [
    "df1.plot(kind='hist',stacked = True,bins =100,figsize = (10,10),title='hist of iris')"
   ]
  },
  {
   "cell_type": "code",
   "execution_count": null,
   "id": "d0d9109d",
   "metadata": {},
   "outputs": [],
   "source": [
    "df1.plot(kind='hist',stacked = True,bins =100,figsize = (10,10),title='hist of iris',orientation='horizontal')"
   ]
  },
  {
   "cell_type": "code",
   "execution_count": null,
   "id": "2181bd27",
   "metadata": {},
   "outputs": [],
   "source": [
    "df1.hist()"
   ]
  },
  {
   "cell_type": "code",
   "execution_count": null,
   "id": "6ba56a00",
   "metadata": {},
   "outputs": [],
   "source": [
    "df1.hist(figsize = (10,10),color = 'r')"
   ]
  },
  {
   "cell_type": "code",
   "execution_count": null,
   "id": "40e6f700",
   "metadata": {},
   "outputs": [],
   "source": [
    "df1.hist(figsize = (10,10),color = '#66ff99') "
   ]
  },
  {
   "cell_type": "code",
   "execution_count": null,
   "id": "c6115de7",
   "metadata": {},
   "outputs": [],
   "source": [
    "df1.hist(figsize = (10,10),color = '#66ff99',alpha=0.9) "
   ]
  },
  {
   "cell_type": "code",
   "execution_count": null,
   "id": "5594867a",
   "metadata": {},
   "outputs": [],
   "source": [
    "df1.hist(figsize = (10,10),color = '#66ff99',alpha=0.1) "
   ]
  },
  {
   "cell_type": "code",
   "execution_count": null,
   "id": "e309ffb4",
   "metadata": {},
   "outputs": [],
   "source": [
    "df1"
   ]
  },
  {
   "cell_type": "code",
   "execution_count": null,
   "id": "38c826e8",
   "metadata": {},
   "outputs": [],
   "source": [
    "df1.plot.scatter(x='sepal_width',y='petal_width')"
   ]
  },
  {
   "cell_type": "code",
   "execution_count": null,
   "id": "0560a635",
   "metadata": {},
   "outputs": [],
   "source": [
    "df1.plot.scatter(x='sepal_length',y='petal_width')"
   ]
  },
  {
   "cell_type": "code",
   "execution_count": null,
   "id": "066809c7",
   "metadata": {},
   "outputs": [],
   "source": [
    "df1.columns"
   ]
  },
  {
   "cell_type": "code",
   "execution_count": null,
   "id": "964ecd8e",
   "metadata": {},
   "outputs": [],
   "source": [
    "df1.plot.scatter(x='sepal_length',y='petal_width',c='petal_length')"
   ]
  },
  {
   "cell_type": "code",
   "execution_count": null,
   "id": "bbcc5067",
   "metadata": {},
   "outputs": [],
   "source": [
    "df1"
   ]
  },
  {
   "cell_type": "code",
   "execution_count": null,
   "id": "bf068810",
   "metadata": {},
   "outputs": [],
   "source": [
    "df1.plot.scatter(x='sepal_length',y='sepal_width',label='sudh',s=180)"
   ]
  },
  {
   "cell_type": "code",
   "execution_count": null,
   "id": "d9e376ed",
   "metadata": {},
   "outputs": [],
   "source": [
    "df1.plot.scatter(x='sepal_length',y='sepal_width',label='sudh')"
   ]
  },
  {
   "cell_type": "code",
   "execution_count": null,
   "id": "daf81d1d",
   "metadata": {},
   "outputs": [],
   "source": [
    "df1.plot.scatter(x='sepal_length',y='sepal_width',label='sudh',s=180,c='petal_width')"
   ]
  },
  {
   "cell_type": "code",
   "execution_count": null,
   "id": "551ea644",
   "metadata": {},
   "outputs": [],
   "source": [
    "df1.plot.hexbin(x='sepal_length',y='sepal_width',label='sudh',gridsize=10)"
   ]
  },
  {
   "cell_type": "code",
   "execution_count": null,
   "id": "9cf96a2c",
   "metadata": {},
   "outputs": [],
   "source": [
    "df"
   ]
  },
  {
   "cell_type": "code",
   "execution_count": null,
   "id": "1d97aca3",
   "metadata": {},
   "outputs": [],
   "source": [
    "d=df.iloc[0]\n",
    "d"
   ]
  },
  {
   "cell_type": "code",
   "execution_count": null,
   "id": "32df1540",
   "metadata": {},
   "outputs": [],
   "source": [
    "d.plot.pie()"
   ]
  },
  {
   "cell_type": "code",
   "execution_count": null,
   "id": "19370caf",
   "metadata": {},
   "outputs": [],
   "source": [
    "d.plot.pie(figsize=(10,10))"
   ]
  },
  {
   "cell_type": "code",
   "execution_count": null,
   "id": "ed111fb4",
   "metadata": {},
   "outputs": [],
   "source": [
    "df1.head(3)"
   ]
  },
  {
   "cell_type": "code",
   "execution_count": null,
   "id": "31ee7df8",
   "metadata": {},
   "outputs": [],
   "source": [
    "iris=df1.head(3).T"
   ]
  },
  {
   "cell_type": "code",
   "execution_count": null,
   "id": "c07478a6",
   "metadata": {},
   "outputs": [],
   "source": [
    "iris.iloc[0:4].plot.pie(subplots=True)"
   ]
  },
  {
   "cell_type": "code",
   "execution_count": null,
   "id": "1e9c929d",
   "metadata": {},
   "outputs": [],
   "source": [
    "iris.iloc[0:4].plot.pie(subplots=True,figsize=(30,30))"
   ]
  },
  {
   "cell_type": "code",
   "execution_count": null,
   "id": "be03da4f",
   "metadata": {},
   "outputs": [],
   "source": [
    "iris.iloc[0:4].plot.pie(subplots=True,figsize=(30,30),fontsize=20,autopct='%.2f')"
   ]
  },
  {
   "cell_type": "code",
   "execution_count": null,
   "id": "5a38767f",
   "metadata": {},
   "outputs": [],
   "source": [
    "df1"
   ]
  },
  {
   "cell_type": "code",
   "execution_count": null,
   "id": "49802d11",
   "metadata": {},
   "outputs": [],
   "source": [
    "pd.plotting.scatter_matrix(df1)"
   ]
  },
  {
   "cell_type": "code",
   "execution_count": null,
   "id": "3e50eb59",
   "metadata": {},
   "outputs": [],
   "source": [
    "pd.plotting.scatter_matrix(df1,figsize=(20,20))"
   ]
  },
  {
   "cell_type": "code",
   "execution_count": null,
   "id": "578d16eb",
   "metadata": {},
   "outputs": [],
   "source": [
    "pd.plotting.scatter_matrix(df1,figsize=(20,20),diagonal='kde')"
   ]
  },
  {
   "cell_type": "code",
   "execution_count": null,
   "id": "5d90f725",
   "metadata": {},
   "outputs": [],
   "source": [
    "df.data.plot(style='r')"
   ]
  },
  {
   "cell_type": "code",
   "execution_count": null,
   "id": "3074ee56",
   "metadata": {},
   "outputs": [],
   "source": [
    "df.data.plot(style='r--',legend=True)"
   ]
  },
  {
   "cell_type": "code",
   "execution_count": null,
   "id": "c0d0b2d2",
   "metadata": {},
   "outputs": [],
   "source": [
    "df.data.plot(style='r--',legend=True,label='swetanshu')"
   ]
  },
  {
   "cell_type": "code",
   "execution_count": null,
   "id": "7253c473",
   "metadata": {},
   "outputs": [],
   "source": [
    "df.data.plot(style='r*',legend=True,label='swetanshu')"
   ]
  },
  {
   "cell_type": "code",
   "execution_count": null,
   "id": "1c74717f",
   "metadata": {},
   "outputs": [],
   "source": [
    "!pip install plotly\n",
    "!pip install cufflinks"
   ]
  },
  {
   "cell_type": "code",
   "execution_count": null,
   "id": "0238685d",
   "metadata": {},
   "outputs": [],
   "source": [
    "from plotly.offline import iplot\n",
    "import plotly as py\n",
    "import plotly.tools as tls\n",
    "import cufflinks as cf"
   ]
  },
  {
   "cell_type": "code",
   "execution_count": null,
   "id": "274b855d",
   "metadata": {},
   "outputs": [],
   "source": [
    "py.__version__"
   ]
  },
  {
   "cell_type": "code",
   "execution_count": null,
   "id": "f442f452",
   "metadata": {},
   "outputs": [],
   "source": [
    "df1"
   ]
  },
  {
   "cell_type": "code",
   "execution_count": null,
   "id": "a7b9b83a",
   "metadata": {},
   "outputs": [],
   "source": [
    "df1.plot()"
   ]
  },
  {
   "cell_type": "code",
   "execution_count": null,
   "id": "02314a63",
   "metadata": {},
   "outputs": [],
   "source": [
    "py.offline.init_notebook_mode(connected=True)\n",
    "cf.go_offline()"
   ]
  },
  {
   "cell_type": "code",
   "execution_count": null,
   "id": "3abb8a89",
   "metadata": {},
   "outputs": [],
   "source": [
    "df1.iplot()"
   ]
  },
  {
   "cell_type": "code",
   "execution_count": null,
   "id": "28569546",
   "metadata": {},
   "outputs": [],
   "source": [
    "df2"
   ]
  },
  {
   "cell_type": "code",
   "execution_count": null,
   "id": "b0586f90",
   "metadata": {},
   "outputs": [],
   "source": [
    "df2.iplot(kind='scatter',x='fare',y='age')"
   ]
  },
  {
   "cell_type": "code",
   "execution_count": null,
   "id": "5e67c290",
   "metadata": {},
   "outputs": [],
   "source": [
    "df2.iplot(kind='bar',x='fare',y='age') "
   ]
  },
  {
   "cell_type": "code",
   "execution_count": null,
   "id": "adb0eae7",
   "metadata": {},
   "outputs": [],
   "source": [
    "df2.iplot(kind='scatter',x='fare',y='age',mode='markers')"
   ]
  },
  {
   "cell_type": "code",
   "execution_count": null,
   "id": "ae772c6a",
   "metadata": {},
   "outputs": [],
   "source": [
    "df2.iplot(kind='scatter',x='fare',y='age',mode='markers',xTitle='fare',yTitle='age')"
   ]
  },
  {
   "cell_type": "code",
   "execution_count": null,
   "id": "165e653e",
   "metadata": {},
   "outputs": [],
   "source": [
    "cf.getTheme()"
   ]
  },
  {
   "cell_type": "code",
   "execution_count": null,
   "id": "12cb9eb0",
   "metadata": {},
   "outputs": [],
   "source": [
    "cf.set_config_file(theme='polar')\n",
    "df2.iplot(kind='scatter',x='fare',y='age',mode='markers',xTitle='fare',yTitle='age')"
   ]
  },
  {
   "cell_type": "code",
   "execution_count": null,
   "id": "fa49e9d9",
   "metadata": {},
   "outputs": [],
   "source": [
    "cf.set_config_file(theme='pearl')\n",
    "df2.iplot(kind='scatter',x='fare',y='age',mode='markers',xTitle='fare',yTitle='age')"
   ]
  },
  {
   "cell_type": "code",
   "execution_count": null,
   "id": "c87de33e",
   "metadata": {},
   "outputs": [],
   "source": [
    "cf.set_config_file(theme='solar')\n",
    "df2.iplot(kind='scatter',x='fare',y='age',mode='markers',xTitle='fare',yTitle='age')"
   ]
  },
  {
   "cell_type": "code",
   "execution_count": null,
   "id": "3e084455",
   "metadata": {},
   "outputs": [],
   "source": []
  },
  {
   "cell_type": "code",
   "execution_count": null,
   "id": "7c469278",
   "metadata": {},
   "outputs": [],
   "source": []
  },
  {
   "cell_type": "code",
   "execution_count": null,
   "id": "98df705e",
   "metadata": {},
   "outputs": [],
   "source": []
  }
 ],
 "metadata": {
  "kernelspec": {
   "display_name": "Python 3 (ipykernel)",
   "language": "python",
   "name": "python3"
  },
  "language_info": {
   "codemirror_mode": {
    "name": "ipython",
    "version": 3
   },
   "file_extension": ".py",
   "mimetype": "text/x-python",
   "name": "python",
   "nbconvert_exporter": "python",
   "pygments_lexer": "ipython3",
   "version": "3.9.7"
  }
 },
 "nbformat": 4,
 "nbformat_minor": 5
}
