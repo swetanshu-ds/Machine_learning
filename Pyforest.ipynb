{
 "cells": [
  {
   "cell_type": "code",
   "execution_count": null,
   "id": "f20ccb63",
   "metadata": {},
   "outputs": [],
   "source": [
    "pip install Pyforest"
   ]
  },
  {
   "cell_type": "code",
   "execution_count": null,
   "id": "925786c8",
   "metadata": {},
   "outputs": [],
   "source": [
    "df = pd.read_csv('medals.csv')"
   ]
  },
  {
   "cell_type": "code",
   "execution_count": null,
   "id": "713e952c",
   "metadata": {},
   "outputs": [],
   "source": [
    "df.head()"
   ]
  },
  {
   "cell_type": "code",
   "execution_count": null,
   "id": "1af7af05",
   "metadata": {},
   "outputs": [],
   "source": [
    "active_imports()"
   ]
  },
  {
   "cell_type": "code",
   "execution_count": null,
   "id": "9fb14113",
   "metadata": {},
   "outputs": [],
   "source": [
    "lst1 = [1,2,3,4,5]\n",
    "lst2 = [3,4,5,6,7]"
   ]
  },
  {
   "cell_type": "code",
   "execution_count": null,
   "id": "bf0d6080",
   "metadata": {},
   "outputs": [],
   "source": [
    "plt.plot(lst1,lst2)\n",
    "plt.xlabel(\"X axis\")\n",
    "plt.ylabel(\"Y axis\")\n",
    "plt.show()"
   ]
  },
  {
   "cell_type": "code",
   "execution_count": null,
   "id": "7da03bcc",
   "metadata": {},
   "outputs": [],
   "source": [
    "active_imports()"
   ]
  },
  {
   "cell_type": "code",
   "execution_count": null,
   "id": "5116bb02",
   "metadata": {},
   "outputs": [],
   "source": [
    "np.array([1,2,3,4,5])"
   ]
  },
  {
   "cell_type": "code",
   "execution_count": null,
   "id": "0b11d466",
   "metadata": {},
   "outputs": [],
   "source": [
    "active_imports()"
   ]
  },
  {
   "cell_type": "code",
   "execution_count": null,
   "id": "3e63b976",
   "metadata": {},
   "outputs": [],
   "source": [
    "df1 = pd.read_csv('mercedesbenz.csv')"
   ]
  },
  {
   "cell_type": "code",
   "execution_count": null,
   "id": "302a7b17",
   "metadata": {},
   "outputs": [],
   "source": [
    "df1.head()"
   ]
  },
  {
   "cell_type": "code",
   "execution_count": null,
   "id": "c15f2ccb",
   "metadata": {},
   "outputs": [],
   "source": [
    "sns.distplot(df1['X375'])"
   ]
  },
  {
   "cell_type": "code",
   "execution_count": null,
   "id": "e3fe0657",
   "metadata": {},
   "outputs": [],
   "source": [
    "active_imports()"
   ]
  },
  {
   "cell_type": "code",
   "execution_count": null,
   "id": "08fa01c4",
   "metadata": {},
   "outputs": [],
   "source": []
  }
 ],
 "metadata": {
  "kernelspec": {
   "display_name": "Python 3 (ipykernel)",
   "language": "python",
   "name": "python3"
  },
  "language_info": {
   "codemirror_mode": {
    "name": "ipython",
    "version": 3
   },
   "file_extension": ".py",
   "mimetype": "text/x-python",
   "name": "python",
   "nbconvert_exporter": "python",
   "pygments_lexer": "ipython3",
   "version": "3.9.7"
  }
 },
 "nbformat": 4,
 "nbformat_minor": 5
}
