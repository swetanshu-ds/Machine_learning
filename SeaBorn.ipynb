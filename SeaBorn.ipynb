{
 "cells": [
  {
   "cell_type": "code",
   "execution_count": null,
   "id": "50414ac2",
   "metadata": {},
   "outputs": [],
   "source": [
    "import seaborn as sns"
   ]
  },
  {
   "cell_type": "code",
   "execution_count": null,
   "id": "699d02d5",
   "metadata": {},
   "outputs": [],
   "source": [
    "df = sns.load_dataset(\"tips\")"
   ]
  },
  {
   "cell_type": "code",
   "execution_count": null,
   "id": "dcfa2ebc",
   "metadata": {},
   "outputs": [],
   "source": [
    "df"
   ]
  },
  {
   "cell_type": "code",
   "execution_count": null,
   "id": "d2986afa",
   "metadata": {},
   "outputs": [],
   "source": [
    "df.head()"
   ]
  },
  {
   "cell_type": "code",
   "execution_count": null,
   "id": "8d545542",
   "metadata": {},
   "outputs": [],
   "source": [
    "df.dtypes"
   ]
  },
  {
   "cell_type": "markdown",
   "id": "e813f6fd",
   "metadata": {},
   "source": [
    "###  Correlation with Heatmap    "
   ]
  },
  {
   "cell_type": "code",
   "execution_count": null,
   "id": "9c29260d",
   "metadata": {},
   "outputs": [],
   "source": [
    "df.corr()"
   ]
  },
  {
   "cell_type": "code",
   "execution_count": null,
   "id": "977efde2",
   "metadata": {},
   "outputs": [],
   "source": [
    "sns.heatmap(df.corr())"
   ]
  },
  {
   "cell_type": "markdown",
   "id": "55af3c52",
   "metadata": {},
   "source": [
    "### Join Plot"
   ]
  },
  {
   "cell_type": "code",
   "execution_count": null,
   "id": "323f5450",
   "metadata": {},
   "outputs": [],
   "source": [
    "sns.jointplot(x = 'tip',y = 'total_bill',data = df,kind = 'hex')"
   ]
  },
  {
   "cell_type": "code",
   "execution_count": null,
   "id": "e27a396e",
   "metadata": {},
   "outputs": [],
   "source": [
    "sns.jointplot(x = 'tip',y = 'total_bill',data = df,kind = 'reg')"
   ]
  },
  {
   "cell_type": "markdown",
   "id": "9803e905",
   "metadata": {},
   "source": [
    "### pair Plot"
   ]
  },
  {
   "cell_type": "code",
   "execution_count": null,
   "id": "1e35175b",
   "metadata": {},
   "outputs": [],
   "source": [
    "####  for more than 2 independent features"
   ]
  },
  {
   "cell_type": "code",
   "execution_count": null,
   "id": "754761f5",
   "metadata": {},
   "outputs": [],
   "source": [
    "sns.pairplot(df)"
   ]
  },
  {
   "cell_type": "code",
   "execution_count": null,
   "id": "02482a1c",
   "metadata": {},
   "outputs": [],
   "source": [
    "sns.pairplot(df,hue = 'day')"
   ]
  },
  {
   "cell_type": "code",
   "execution_count": null,
   "id": "cf81ff76",
   "metadata": {},
   "outputs": [],
   "source": [
    "df['smoker'].value_counts()"
   ]
  },
  {
   "cell_type": "markdown",
   "id": "4aa89ebb",
   "metadata": {},
   "source": [
    "### Dist Plot"
   ]
  },
  {
   "cell_type": "code",
   "execution_count": null,
   "id": "3ac7fd20",
   "metadata": {},
   "outputs": [],
   "source": [
    "sns.distplot(df['tip'])"
   ]
  },
  {
   "cell_type": "code",
   "execution_count": null,
   "id": "c4bd69dd",
   "metadata": {},
   "outputs": [],
   "source": [
    "sns.distplot(df['tip'],kde = False,bins = 10)"
   ]
  },
  {
   "cell_type": "markdown",
   "id": "3331ed2a",
   "metadata": {},
   "source": [
    "##  Categorical Plots"
   ]
  },
  {
   "cell_type": "code",
   "execution_count": null,
   "id": "ccaaf46a",
   "metadata": {},
   "outputs": [],
   "source": [
    "df"
   ]
  },
  {
   "cell_type": "code",
   "execution_count": null,
   "id": "b2aabb9d",
   "metadata": {},
   "outputs": [],
   "source": [
    "sns.countplot('day',data = df)"
   ]
  },
  {
   "cell_type": "code",
   "execution_count": null,
   "id": "ec18bd6a",
   "metadata": {},
   "outputs": [],
   "source": [
    "sns.countplot('smoker',data = df)"
   ]
  },
  {
   "cell_type": "code",
   "execution_count": null,
   "id": "280470c7",
   "metadata": {},
   "outputs": [],
   "source": [
    "sns.countplot(y = 'smoker',data = df)"
   ]
  },
  {
   "cell_type": "code",
   "execution_count": null,
   "id": "6c954a48",
   "metadata": {},
   "outputs": [],
   "source": [
    "##### barplot\n",
    "\n",
    "sns.barplot(x = 'total_bill',y = \"day\",data = df)"
   ]
  },
  {
   "cell_type": "code",
   "execution_count": null,
   "id": "5751086e",
   "metadata": {},
   "outputs": [],
   "source": [
    "sns.barplot(y = 'total_bill',x = \"day\",data = df)"
   ]
  },
  {
   "cell_type": "markdown",
   "id": "0057d2c1",
   "metadata": {},
   "source": [
    "## Box Plot"
   ]
  },
  {
   "cell_type": "code",
   "execution_count": null,
   "id": "897d5ad4",
   "metadata": {},
   "outputs": [],
   "source": [
    "sns.boxplot('smoker','total_bill',data = df)"
   ]
  },
  {
   "cell_type": "code",
   "execution_count": null,
   "id": "1a99d8f4",
   "metadata": {},
   "outputs": [],
   "source": [
    "sns.boxplot(x = 'day',y = \"total_bill\",data = df,palette = 'rainbow')"
   ]
  },
  {
   "cell_type": "code",
   "execution_count": null,
   "id": "acdbbe40",
   "metadata": {},
   "outputs": [],
   "source": [
    "sns.boxplot(data = df,orient = 'v')  #### this will take all the features that are non -categorical"
   ]
  },
  {
   "cell_type": "code",
   "execution_count": null,
   "id": "8dbabea7",
   "metadata": {},
   "outputs": [],
   "source": [
    "sns.boxplot(x = 'total_bill',y = 'day',hue = 'smoker',data = df)"
   ]
  },
  {
   "cell_type": "markdown",
   "id": "e314de65",
   "metadata": {},
   "source": [
    "###  violin plot"
   ]
  },
  {
   "cell_type": "code",
   "execution_count": null,
   "id": "f159c5fc",
   "metadata": {},
   "outputs": [],
   "source": [
    "sns.violinplot(x = 'total_bill',y = 'day',data = df,palette = 'rainbow')"
   ]
  },
  {
   "cell_type": "code",
   "execution_count": null,
   "id": "a5c46955",
   "metadata": {},
   "outputs": [],
   "source": [
    "iris = sns.load_dataset('iris')"
   ]
  },
  {
   "cell_type": "code",
   "execution_count": null,
   "id": "f3b83753",
   "metadata": {},
   "outputs": [],
   "source": [
    "iris"
   ]
  },
  {
   "cell_type": "code",
   "execution_count": null,
   "id": "bc8288a2",
   "metadata": {},
   "outputs": [],
   "source": []
  }
 ],
 "metadata": {
  "kernelspec": {
   "display_name": "Python 3",
   "language": "python",
   "name": "python3"
  },
  "language_info": {
   "codemirror_mode": {
    "name": "ipython",
    "version": 3
   },
   "file_extension": ".py",
   "mimetype": "text/x-python",
   "name": "python",
   "nbconvert_exporter": "python",
   "pygments_lexer": "ipython3",
   "version": "3.8.8"
  }
 },
 "nbformat": 4,
 "nbformat_minor": 5
}
