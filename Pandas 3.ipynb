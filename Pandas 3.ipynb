{
 "cells": [
  {
   "cell_type": "code",
   "execution_count": null,
   "id": "9cd85c58",
   "metadata": {},
   "outputs": [],
   "source": [
    "import pandas as pd"
   ]
  },
  {
   "cell_type": "code",
   "execution_count": null,
   "id": "181b5bea",
   "metadata": {},
   "outputs": [],
   "source": [
    "df = pd.read_csv('titanic_train.csv')"
   ]
  },
  {
   "cell_type": "code",
   "execution_count": null,
   "id": "e2d80cfa",
   "metadata": {},
   "outputs": [],
   "source": [
    "df.head()"
   ]
  },
  {
   "cell_type": "code",
   "execution_count": null,
   "id": "8620d39b",
   "metadata": {},
   "outputs": [],
   "source": [
    "df.shape"
   ]
  },
  {
   "cell_type": "code",
   "execution_count": null,
   "id": "05612b94",
   "metadata": {},
   "outputs": [],
   "source": [
    "df.ndim"
   ]
  },
  {
   "cell_type": "code",
   "execution_count": null,
   "id": "c9f4c3d7",
   "metadata": {},
   "outputs": [],
   "source": [
    "type(df)"
   ]
  },
  {
   "cell_type": "code",
   "execution_count": null,
   "id": "4190aed4",
   "metadata": {},
   "outputs": [],
   "source": [
    "df['Parch'].ndim"
   ]
  },
  {
   "cell_type": "markdown",
   "id": "531aeb35",
   "metadata": {},
   "source": [
    "### Indexing"
   ]
  },
  {
   "cell_type": "code",
   "execution_count": null,
   "id": "179f986a",
   "metadata": {},
   "outputs": [],
   "source": [
    "df['Parch']"
   ]
  },
  {
   "cell_type": "code",
   "execution_count": null,
   "id": "c8bb85ac",
   "metadata": {},
   "outputs": [],
   "source": [
    "df[['Parch','Survived']]"
   ]
  },
  {
   "cell_type": "code",
   "execution_count": null,
   "id": "41152dae",
   "metadata": {},
   "outputs": [],
   "source": [
    "df.Parch"
   ]
  },
  {
   "cell_type": "code",
   "execution_count": null,
   "id": "5c323d66",
   "metadata": {},
   "outputs": [],
   "source": [
    "df.iloc[2,1]"
   ]
  },
  {
   "cell_type": "code",
   "execution_count": null,
   "id": "17c131aa",
   "metadata": {},
   "outputs": [],
   "source": [
    "df.iloc[2:4,0:3]"
   ]
  },
  {
   "cell_type": "code",
   "execution_count": null,
   "id": "0ea5c61b",
   "metadata": {},
   "outputs": [],
   "source": [
    "df.iloc[1:2,2:]"
   ]
  },
  {
   "cell_type": "code",
   "execution_count": null,
   "id": "35b5baa7",
   "metadata": {},
   "outputs": [],
   "source": [
    "df.loc['Name':,'Parch':]"
   ]
  },
  {
   "cell_type": "code",
   "execution_count": null,
   "id": "61203687",
   "metadata": {},
   "outputs": [],
   "source": [
    "df.head()"
   ]
  },
  {
   "cell_type": "code",
   "execution_count": null,
   "id": "9256aaa3",
   "metadata": {},
   "outputs": [],
   "source": [
    "df.loc[df['Age']>78]"
   ]
  },
  {
   "cell_type": "code",
   "execution_count": null,
   "id": "69ac6ac7",
   "metadata": {},
   "outputs": [],
   "source": [
    "df.shape"
   ]
  },
  {
   "cell_type": "code",
   "execution_count": null,
   "id": "7f167204",
   "metadata": {},
   "outputs": [],
   "source": [
    "df.shape[0]"
   ]
  },
  {
   "cell_type": "code",
   "execution_count": null,
   "id": "b90ebc21",
   "metadata": {},
   "outputs": [],
   "source": [
    "len(df)"
   ]
  },
  {
   "cell_type": "code",
   "execution_count": null,
   "id": "7b0f2043",
   "metadata": {},
   "outputs": [],
   "source": [
    "df.describe()"
   ]
  },
  {
   "cell_type": "code",
   "execution_count": null,
   "id": "42916984",
   "metadata": {},
   "outputs": [],
   "source": [
    "df.info()"
   ]
  },
  {
   "cell_type": "code",
   "execution_count": null,
   "id": "21919000",
   "metadata": {},
   "outputs": [],
   "source": [
    "df.Parch.dtype"
   ]
  },
  {
   "cell_type": "code",
   "execution_count": null,
   "id": "762ce0d3",
   "metadata": {},
   "outputs": [],
   "source": [
    "df.Pclass.unique()"
   ]
  },
  {
   "cell_type": "code",
   "execution_count": null,
   "id": "94d6dd78",
   "metadata": {},
   "outputs": [],
   "source": [
    "df.Pclass.unique().shape"
   ]
  },
  {
   "cell_type": "code",
   "execution_count": null,
   "id": "6bc5a1cf",
   "metadata": {},
   "outputs": [],
   "source": [
    "df.rename(columns = {'Parch':'Loc'})"
   ]
  },
  {
   "cell_type": "code",
   "execution_count": null,
   "id": "73fb9ad5",
   "metadata": {},
   "outputs": [],
   "source": [
    "df.min()"
   ]
  },
  {
   "cell_type": "code",
   "execution_count": null,
   "id": "be4bfb4b",
   "metadata": {},
   "outputs": [],
   "source": [
    "df.mean()"
   ]
  },
  {
   "cell_type": "code",
   "execution_count": null,
   "id": "31f47069",
   "metadata": {},
   "outputs": [],
   "source": [
    "df.Parch.max()"
   ]
  },
  {
   "cell_type": "code",
   "execution_count": null,
   "id": "0d9c0386",
   "metadata": {},
   "outputs": [],
   "source": [
    "df.Parch.agg(['min','max','mean']) "
   ]
  },
  {
   "cell_type": "code",
   "execution_count": null,
   "id": "97c47f65",
   "metadata": {},
   "outputs": [],
   "source": [
    "df.skew()"
   ]
  },
  {
   "cell_type": "code",
   "execution_count": null,
   "id": "a4e31343",
   "metadata": {},
   "outputs": [],
   "source": [
    "df.kurtosis()"
   ]
  },
  {
   "cell_type": "markdown",
   "id": "b976fd4e",
   "metadata": {},
   "source": [
    "#### Groupby "
   ]
  },
  {
   "cell_type": "code",
   "execution_count": null,
   "id": "b111047a",
   "metadata": {},
   "outputs": [],
   "source": [
    "df"
   ]
  },
  {
   "cell_type": "code",
   "execution_count": null,
   "id": "7b859ba5",
   "metadata": {},
   "outputs": [],
   "source": [
    "## axis = 1 means we want to drop by columns \n",
    "\n",
    "## axis = 0 means we want to drop by rows"
   ]
  },
  {
   "cell_type": "code",
   "execution_count": null,
   "id": "dcce9b3a",
   "metadata": {},
   "outputs": [],
   "source": [
    "df.head(2)"
   ]
  },
  {
   "cell_type": "code",
   "execution_count": null,
   "id": "6911cc75",
   "metadata": {},
   "outputs": [],
   "source": [
    "df.drop(['PassengerId','Survived'],axis = 1)"
   ]
  },
  {
   "cell_type": "code",
   "execution_count": null,
   "id": "effa72f9",
   "metadata": {},
   "outputs": [],
   "source": [
    "df.head()"
   ]
  },
  {
   "cell_type": "code",
   "execution_count": null,
   "id": "22394c64",
   "metadata": {},
   "outputs": [],
   "source": [
    "df.groupby('Parch')['Survived'].sum()"
   ]
  },
  {
   "cell_type": "code",
   "execution_count": null,
   "id": "3e1e984f",
   "metadata": {},
   "outputs": [],
   "source": [
    "import matplotlib.pyplot as plt"
   ]
  },
  {
   "cell_type": "code",
   "execution_count": null,
   "id": "d15f1cc5",
   "metadata": {},
   "outputs": [],
   "source": [
    "df.groupby('Parch').sum().plot()"
   ]
  },
  {
   "cell_type": "code",
   "execution_count": null,
   "id": "3f04e763",
   "metadata": {},
   "outputs": [],
   "source": [
    "df.groupby('Parch').sum().plot(kind='bar')"
   ]
  },
  {
   "cell_type": "code",
   "execution_count": null,
   "id": "6d07ab9b",
   "metadata": {},
   "outputs": [],
   "source": [
    "df.groupby(['Parch','Survived']).sum()"
   ]
  },
  {
   "cell_type": "code",
   "execution_count": null,
   "id": "1c28a1f6",
   "metadata": {},
   "outputs": [],
   "source": [
    "df.groupby('PassengerId')['Name'].count().plot(kind = 'bar')"
   ]
  },
  {
   "cell_type": "markdown",
   "id": "d94ccf26",
   "metadata": {},
   "source": [
    "### replace"
   ]
  },
  {
   "cell_type": "code",
   "execution_count": null,
   "id": "f7e9dc80",
   "metadata": {},
   "outputs": [],
   "source": [
    "df.replace(3,'Xc')"
   ]
  },
  {
   "cell_type": "markdown",
   "id": "b88a4800",
   "metadata": {},
   "source": [
    "#### Apply"
   ]
  },
  {
   "cell_type": "code",
   "execution_count": null,
   "id": "c4626711",
   "metadata": {},
   "outputs": [],
   "source": [
    "df.Name.apply(len)"
   ]
  },
  {
   "cell_type": "code",
   "execution_count": null,
   "id": "923f20e0",
   "metadata": {},
   "outputs": [],
   "source": [
    "df['len']=df.Name.apply(len)"
   ]
  },
  {
   "cell_type": "code",
   "execution_count": null,
   "id": "57d5528b",
   "metadata": {},
   "outputs": [],
   "source": [
    "df"
   ]
  },
  {
   "cell_type": "code",
   "execution_count": null,
   "id": "92a5fb7f",
   "metadata": {},
   "outputs": [],
   "source": [
    "df.Name.str.len()"
   ]
  },
  {
   "cell_type": "code",
   "execution_count": null,
   "id": "23c9de5d",
   "metadata": {},
   "outputs": [],
   "source": [
    "def func(con):\n",
    "    if con<10:\n",
    "        return 'young'\n",
    "    elif (con>10) & (con<=50):\n",
    "        return 'adult'\n",
    "    else:\n",
    "        return 'old'\n",
    "    \n",
    "df['Ages']=df.Age.apply(func)   "
   ]
  },
  {
   "cell_type": "code",
   "execution_count": null,
   "id": "bfcd6f6f",
   "metadata": {},
   "outputs": [],
   "source": [
    "df"
   ]
  },
  {
   "cell_type": "code",
   "execution_count": null,
   "id": "ee381ad5",
   "metadata": {},
   "outputs": [],
   "source": [
    "df.replace([1,3,4],np.nan)"
   ]
  },
  {
   "cell_type": "code",
   "execution_count": null,
   "id": "b30bde84",
   "metadata": {},
   "outputs": [],
   "source": [
    "df.groupby('Name')['Age'].apply(lambda x : x.fillna(x.mean()))"
   ]
  },
  {
   "cell_type": "code",
   "execution_count": null,
   "id": "44696037",
   "metadata": {},
   "outputs": [],
   "source": []
  },
  {
   "cell_type": "code",
   "execution_count": null,
   "id": "4e46e9b6",
   "metadata": {},
   "outputs": [],
   "source": []
  },
  {
   "cell_type": "code",
   "execution_count": null,
   "id": "a7e9f2b5",
   "metadata": {},
   "outputs": [],
   "source": []
  },
  {
   "cell_type": "code",
   "execution_count": null,
   "id": "e76bf807",
   "metadata": {},
   "outputs": [],
   "source": []
  },
  {
   "cell_type": "code",
   "execution_count": null,
   "id": "b5d4c66e",
   "metadata": {},
   "outputs": [],
   "source": []
  },
  {
   "cell_type": "code",
   "execution_count": null,
   "id": "46b9ab7e",
   "metadata": {},
   "outputs": [],
   "source": []
  },
  {
   "cell_type": "code",
   "execution_count": null,
   "id": "84220524",
   "metadata": {},
   "outputs": [],
   "source": [
    "df.isnull()"
   ]
  },
  {
   "cell_type": "code",
   "execution_count": null,
   "id": "10e8072e",
   "metadata": {},
   "outputs": [],
   "source": [
    "df.isnull()"
   ]
  },
  {
   "cell_type": "code",
   "execution_count": null,
   "id": "36c26849",
   "metadata": {},
   "outputs": [],
   "source": [
    "df.isna().sum()"
   ]
  },
  {
   "cell_type": "code",
   "execution_count": null,
   "id": "db349e78",
   "metadata": {},
   "outputs": [],
   "source": [
    "df.isna()"
   ]
  },
  {
   "cell_type": "code",
   "execution_count": null,
   "id": "d0adf15b",
   "metadata": {},
   "outputs": [],
   "source": [
    "df.fillna(12)"
   ]
  },
  {
   "cell_type": "code",
   "execution_count": null,
   "id": "6c9f99ea",
   "metadata": {},
   "outputs": [],
   "source": [
    "m = (df.isna().sum()/len(df)*100).sort_values(ascending = False)\n",
    "\n",
    "m"
   ]
  },
  {
   "cell_type": "code",
   "execution_count": null,
   "id": "5a301445",
   "metadata": {},
   "outputs": [],
   "source": [
    "df.duplicated().sum()"
   ]
  },
  {
   "cell_type": "code",
   "execution_count": null,
   "id": "ca19b422",
   "metadata": {},
   "outputs": [],
   "source": [
    "df.head()"
   ]
  },
  {
   "cell_type": "code",
   "execution_count": null,
   "id": "29cd5744",
   "metadata": {},
   "outputs": [],
   "source": [
    "df2 = df.loc[0:15,:]"
   ]
  },
  {
   "cell_type": "code",
   "execution_count": null,
   "id": "d09e34e2",
   "metadata": {
    "scrolled": true
   },
   "outputs": [],
   "source": [
    "df2"
   ]
  },
  {
   "cell_type": "code",
   "execution_count": null,
   "id": "73a61ef5",
   "metadata": {},
   "outputs": [],
   "source": [
    "ndf = pd.concat((df,df2))"
   ]
  },
  {
   "cell_type": "code",
   "execution_count": null,
   "id": "e5624188",
   "metadata": {},
   "outputs": [],
   "source": [
    "ndf"
   ]
  },
  {
   "cell_type": "code",
   "execution_count": null,
   "id": "c322669b",
   "metadata": {},
   "outputs": [],
   "source": [
    "ndf[ndf.duplicated()]"
   ]
  },
  {
   "cell_type": "code",
   "execution_count": null,
   "id": "feac0ed5",
   "metadata": {},
   "outputs": [],
   "source": [
    "ndf.drop_duplicates()"
   ]
  },
  {
   "cell_type": "code",
   "execution_count": null,
   "id": "fe1c8f61",
   "metadata": {},
   "outputs": [],
   "source": [
    "df"
   ]
  },
  {
   "cell_type": "markdown",
   "id": "9ba716c0",
   "metadata": {},
   "source": [
    "### Join"
   ]
  },
  {
   "cell_type": "code",
   "execution_count": null,
   "id": "f8541ca8",
   "metadata": {},
   "outputs": [],
   "source": [
    "df3 = pd.read_csv('pokemon_data.csv')"
   ]
  },
  {
   "cell_type": "code",
   "execution_count": null,
   "id": "9c2e1d08",
   "metadata": {},
   "outputs": [],
   "source": [
    "df3"
   ]
  },
  {
   "cell_type": "code",
   "execution_count": null,
   "id": "61bdaf20",
   "metadata": {
    "scrolled": false
   },
   "outputs": [],
   "source": [
    "df4 = pd.merge(df,df3,on=\"Name\",how='outer')"
   ]
  },
  {
   "cell_type": "code",
   "execution_count": null,
   "id": "1ca3153f",
   "metadata": {
    "scrolled": true
   },
   "outputs": [],
   "source": [
    "df4[df4.isnull()]"
   ]
  },
  {
   "cell_type": "code",
   "execution_count": null,
   "id": "e978815e",
   "metadata": {},
   "outputs": [],
   "source": [
    "df4.isnull().sum()"
   ]
  },
  {
   "cell_type": "markdown",
   "id": "206a2d47",
   "metadata": {},
   "source": [
    "### Tidy Data"
   ]
  },
  {
   "cell_type": "code",
   "execution_count": null,
   "id": "569106ab",
   "metadata": {},
   "outputs": [],
   "source": [
    "df5 = pd.read_csv('pew.csv')\n",
    "\n",
    "df5"
   ]
  },
  {
   "cell_type": "code",
   "execution_count": null,
   "id": "0c185337",
   "metadata": {},
   "outputs": [],
   "source": [
    "df5.melt(id_vars='religion',var_name = 'income_range',value_name='count')"
   ]
  },
  {
   "cell_type": "code",
   "execution_count": null,
   "id": "b3a1bd1e",
   "metadata": {},
   "outputs": [],
   "source": [
    "df6 = pd.read_csv('country_timeseries.csv')"
   ]
  },
  {
   "cell_type": "code",
   "execution_count": null,
   "id": "c46e2eae",
   "metadata": {},
   "outputs": [],
   "source": [
    "df6"
   ]
  },
  {
   "cell_type": "code",
   "execution_count": null,
   "id": "a09ee1e5",
   "metadata": {},
   "outputs": [],
   "source": [
    "df7 = df6.melt(id_vars =['Date','Day'],var_name = 'Country',value_name='count')\n",
    "\n",
    "df7"
   ]
  },
  {
   "cell_type": "code",
   "execution_count": null,
   "id": "c6c13a65",
   "metadata": {},
   "outputs": [],
   "source": [
    "df7.groupby('Country')['count'].mean().plot(kind = 'bar',figsize=(11,5))"
   ]
  },
  {
   "cell_type": "markdown",
   "id": "d42ea384",
   "metadata": {},
   "source": [
    "###  String manipulation"
   ]
  },
  {
   "cell_type": "code",
   "execution_count": null,
   "id": "f36e9135",
   "metadata": {},
   "outputs": [],
   "source": [
    "df7.Country.str.split('_').str[0]"
   ]
  },
  {
   "cell_type": "code",
   "execution_count": null,
   "id": "555f1044",
   "metadata": {},
   "outputs": [],
   "source": [
    "df7.Country.str.split('_').str[1]"
   ]
  },
  {
   "cell_type": "code",
   "execution_count": null,
   "id": "541e9380",
   "metadata": {},
   "outputs": [],
   "source": [
    "df.index=pd.to_datetime(df.index,format='%Y-%m')"
   ]
  },
  {
   "cell_type": "code",
   "execution_count": null,
   "id": "9fec4f50",
   "metadata": {},
   "outputs": [],
   "source": [
    "df.index"
   ]
  },
  {
   "cell_type": "code",
   "execution_count": null,
   "id": "a8aa3146",
   "metadata": {},
   "outputs": [],
   "source": []
  }
 ],
 "metadata": {
  "kernelspec": {
   "display_name": "Python 3",
   "language": "python",
   "name": "python3"
  },
  "language_info": {
   "codemirror_mode": {
    "name": "ipython",
    "version": 3
   },
   "file_extension": ".py",
   "mimetype": "text/x-python",
   "name": "python",
   "nbconvert_exporter": "python",
   "pygments_lexer": "ipython3",
   "version": "3.8.8"
  }
 },
 "nbformat": 4,
 "nbformat_minor": 5
}
