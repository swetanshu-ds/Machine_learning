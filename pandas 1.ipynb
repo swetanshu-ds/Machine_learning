{
 "cells": [
  {
   "cell_type": "code",
   "execution_count": null,
   "id": "f1e23f1c",
   "metadata": {},
   "outputs": [],
   "source": [
    "import pandas as pd"
   ]
  },
  {
   "cell_type": "code",
   "execution_count": null,
   "id": "8e99ca81",
   "metadata": {},
   "outputs": [],
   "source": [
    "df = pd.read_csv('pokemon_data.csv')"
   ]
  },
  {
   "cell_type": "code",
   "execution_count": null,
   "id": "5f890f00",
   "metadata": {},
   "outputs": [],
   "source": [
    "df.head() "
   ]
  },
  {
   "cell_type": "code",
   "execution_count": null,
   "id": "812eb3bc",
   "metadata": {},
   "outputs": [],
   "source": [
    "df_xlsx = pd.read_excel(\"pokemon_data.xlsx\")"
   ]
  },
  {
   "cell_type": "code",
   "execution_count": null,
   "id": "b461c7fb",
   "metadata": {},
   "outputs": [],
   "source": [
    "df_xlsx"
   ]
  },
  {
   "cell_type": "code",
   "execution_count": null,
   "id": "551e7652",
   "metadata": {},
   "outputs": [],
   "source": [
    "df_txt = pd.read_csv('pokemon_data.txt',sep = '\\t')    "
   ]
  },
  {
   "cell_type": "code",
   "execution_count": null,
   "id": "ea436db0",
   "metadata": {},
   "outputs": [],
   "source": [
    "df_txt"
   ]
  },
  {
   "cell_type": "markdown",
   "id": "e1ebfa1d",
   "metadata": {},
   "source": [
    "###  Reading data"
   ]
  },
  {
   "cell_type": "code",
   "execution_count": null,
   "id": "0c68e738",
   "metadata": {},
   "outputs": [],
   "source": [
    "df.columns"
   ]
  },
  {
   "cell_type": "code",
   "execution_count": null,
   "id": "71c259e9",
   "metadata": {},
   "outputs": [],
   "source": [
    "df.Name[0:50]"
   ]
  },
  {
   "cell_type": "code",
   "execution_count": null,
   "id": "eb8787ec",
   "metadata": {},
   "outputs": [],
   "source": [
    "df[['Name','Type 1','Type 2']]"
   ]
  },
  {
   "cell_type": "code",
   "execution_count": null,
   "id": "759d509c",
   "metadata": {},
   "outputs": [],
   "source": [
    "df.iloc[1:4]"
   ]
  },
  {
   "cell_type": "code",
   "execution_count": null,
   "id": "08c52820",
   "metadata": {},
   "outputs": [],
   "source": [
    "df.iloc[1]"
   ]
  },
  {
   "cell_type": "code",
   "execution_count": null,
   "id": "c788516e",
   "metadata": {},
   "outputs": [],
   "source": [
    "df.iloc[2,1]"
   ]
  },
  {
   "cell_type": "code",
   "execution_count": null,
   "id": "a5f228c3",
   "metadata": {},
   "outputs": [],
   "source": [
    "df.iterrows"
   ]
  },
  {
   "cell_type": "code",
   "execution_count": null,
   "id": "a794fe72",
   "metadata": {},
   "outputs": [],
   "source": [
    "for index,row in df.iterrows():\n",
    "    print(index,row)"
   ]
  },
  {
   "cell_type": "code",
   "execution_count": null,
   "id": "4c69a884",
   "metadata": {},
   "outputs": [],
   "source": [
    "df"
   ]
  },
  {
   "cell_type": "code",
   "execution_count": null,
   "id": "1a2556c6",
   "metadata": {},
   "outputs": [],
   "source": [
    "df.loc[df['Type 1'] == 'Fire']"
   ]
  },
  {
   "cell_type": "code",
   "execution_count": null,
   "id": "9d689860",
   "metadata": {},
   "outputs": [],
   "source": [
    "df.describe()"
   ]
  },
  {
   "cell_type": "markdown",
   "id": "b06e1e92",
   "metadata": {},
   "source": [
    "###  Sorting "
   ]
  },
  {
   "cell_type": "code",
   "execution_count": null,
   "id": "bbddecf9",
   "metadata": {},
   "outputs": [],
   "source": [
    "df.sort_values('Name')"
   ]
  },
  {
   "cell_type": "code",
   "execution_count": null,
   "id": "52c17e8a",
   "metadata": {},
   "outputs": [],
   "source": [
    "df.sort_values('Name',ascending = False)"
   ]
  },
  {
   "cell_type": "code",
   "execution_count": null,
   "id": "20f0a3f7",
   "metadata": {},
   "outputs": [],
   "source": [
    "df.sort_values(['Type 1','HP'],ascending = False)"
   ]
  },
  {
   "cell_type": "code",
   "execution_count": null,
   "id": "8509eb4c",
   "metadata": {},
   "outputs": [],
   "source": [
    "df.sort_values(['Type 1','HP'],ascending = [0,1])"
   ]
  },
  {
   "cell_type": "markdown",
   "id": "da08ab3a",
   "metadata": {},
   "source": [
    "###  Making changes"
   ]
  },
  {
   "cell_type": "code",
   "execution_count": null,
   "id": "c66eff6c",
   "metadata": {},
   "outputs": [],
   "source": [
    "df.head()"
   ]
  },
  {
   "cell_type": "code",
   "execution_count": null,
   "id": "b8a8a92b",
   "metadata": {},
   "outputs": [],
   "source": [
    "df['Total']=df['HP']+df['Attack']"
   ]
  },
  {
   "cell_type": "code",
   "execution_count": null,
   "id": "9b230e4d",
   "metadata": {},
   "outputs": [],
   "source": [
    "df.head()"
   ]
  },
  {
   "cell_type": "code",
   "execution_count": null,
   "id": "c9c1c959",
   "metadata": {},
   "outputs": [],
   "source": [
    "df = df.drop(columns = 'Total')"
   ]
  },
  {
   "cell_type": "code",
   "execution_count": null,
   "id": "4559a5e6",
   "metadata": {},
   "outputs": [],
   "source": [
    "df.head()"
   ]
  },
  {
   "cell_type": "code",
   "execution_count": null,
   "id": "198ac2fc",
   "metadata": {},
   "outputs": [],
   "source": [
    "df['Total']=df.iloc[:,4:10].sum(axis = 1)\n",
    "\n",
    "df.head(5)"
   ]
  },
  {
   "cell_type": "code",
   "execution_count": null,
   "id": "2effc417",
   "metadata": {
    "scrolled": false
   },
   "outputs": [],
   "source": [
    "cols = list(df.columns)\n",
    "cols"
   ]
  },
  {
   "cell_type": "code",
   "execution_count": null,
   "id": "a682a1d3",
   "metadata": {},
   "outputs": [],
   "source": [
    "cols[4:6]"
   ]
  },
  {
   "cell_type": "code",
   "execution_count": null,
   "id": "eecbfa7f",
   "metadata": {},
   "outputs": [],
   "source": [
    "cols[-1]"
   ]
  },
  {
   "cell_type": "code",
   "execution_count": null,
   "id": "569ff5ac",
   "metadata": {},
   "outputs": [],
   "source": [
    "type(cols)"
   ]
  },
  {
   "cell_type": "code",
   "execution_count": null,
   "id": "de23fea7",
   "metadata": {},
   "outputs": [],
   "source": [
    "df = df[cols[0:4]+[cols[-1]]+cols[4:12]]\n",
    "df.head()"
   ]
  },
  {
   "cell_type": "code",
   "execution_count": null,
   "id": "be0468d8",
   "metadata": {},
   "outputs": [],
   "source": [
    "df.to_csv('Mod.csv')\n",
    "##  df.to_csv('Mod.csv',index = False)  ### it will remove index at beginning"
   ]
  },
  {
   "cell_type": "code",
   "execution_count": null,
   "id": "ab1c3c13",
   "metadata": {},
   "outputs": [],
   "source": [
    "df.to_excel('Md.xlsx',index = False)"
   ]
  },
  {
   "cell_type": "markdown",
   "id": "56f19b67",
   "metadata": {},
   "source": [
    "### Filtering Data"
   ]
  },
  {
   "cell_type": "code",
   "execution_count": null,
   "id": "1a2ee5f9",
   "metadata": {},
   "outputs": [],
   "source": [
    "df.loc[(df['Type 1']=='Grass') & (df['Type 2']=='Poison')]"
   ]
  },
  {
   "cell_type": "code",
   "execution_count": null,
   "id": "b09a3686",
   "metadata": {},
   "outputs": [],
   "source": [
    "df.loc[(df['Type 1']=='Grass') | (df['Type 2']=='Poison')]"
   ]
  },
  {
   "cell_type": "code",
   "execution_count": null,
   "id": "21b83698",
   "metadata": {},
   "outputs": [],
   "source": [
    "df.loc[(df['Type 1']=='Grass') & (df['Type 2']=='Poison') & (df['HP']>90 )]"
   ]
  },
  {
   "cell_type": "code",
   "execution_count": null,
   "id": "537cc3c5",
   "metadata": {},
   "outputs": [],
   "source": [
    "df.loc[df['Name'].str.contains('Mega')]"
   ]
  },
  {
   "cell_type": "code",
   "execution_count": null,
   "id": "0874d703",
   "metadata": {},
   "outputs": [],
   "source": [
    "import re"
   ]
  },
  {
   "cell_type": "code",
   "execution_count": null,
   "id": "05b503b1",
   "metadata": {},
   "outputs": [],
   "source": [
    "df.loc[df['Type 1'].str.contains('Fire|Grass',regex = True)]"
   ]
  },
  {
   "cell_type": "code",
   "execution_count": null,
   "id": "c780a923",
   "metadata": {},
   "outputs": [],
   "source": [
    "df.loc[df['Type 1'].str.contains('fire|grass',flags = re.I,regex = True)]"
   ]
  },
  {
   "cell_type": "markdown",
   "id": "303ae9d6",
   "metadata": {},
   "source": [
    "###  Conditional Changes"
   ]
  },
  {
   "cell_type": "code",
   "execution_count": null,
   "id": "610c0bd9",
   "metadata": {},
   "outputs": [],
   "source": [
    "df.loc[df['Type 1'] == 'Fire','Type 1'] = 'Flamer'\n",
    "df"
   ]
  },
  {
   "cell_type": "code",
   "execution_count": null,
   "id": "7bd08dae",
   "metadata": {},
   "outputs": [],
   "source": [
    "df.loc[df['Total']>500,['Generation','Legendary']]=['Test 1','Test 2']\n",
    "\n",
    "df"
   ]
  },
  {
   "cell_type": "markdown",
   "id": "3c153ab5",
   "metadata": {},
   "source": [
    "###  Aggregate Statistics(Groupby)"
   ]
  },
  {
   "cell_type": "code",
   "execution_count": null,
   "id": "34949a05",
   "metadata": {},
   "outputs": [],
   "source": [
    "df"
   ]
  },
  {
   "cell_type": "code",
   "execution_count": null,
   "id": "83feb78a",
   "metadata": {},
   "outputs": [],
   "source": [
    "df.groupby(['Type 1']).mean().sum()"
   ]
  },
  {
   "cell_type": "code",
   "execution_count": null,
   "id": "5321c94d",
   "metadata": {},
   "outputs": [],
   "source": [
    "df.groupby(['Type 1']).mean().sort_values('HP',ascending=False)"
   ]
  },
  {
   "cell_type": "code",
   "execution_count": null,
   "id": "b4ed3611",
   "metadata": {},
   "outputs": [],
   "source": [
    "df.groupby([\"Type 1\"]).sum()"
   ]
  },
  {
   "cell_type": "code",
   "execution_count": null,
   "id": "e541bd94",
   "metadata": {},
   "outputs": [],
   "source": [
    "df.groupby(['Type 1']).count()"
   ]
  },
  {
   "cell_type": "code",
   "execution_count": null,
   "id": "577b3ce0",
   "metadata": {},
   "outputs": [],
   "source": [
    "df['count']=1\n",
    "\n",
    "df.groupby(['Type 1','Type 2']).count()['count']"
   ]
  },
  {
   "cell_type": "markdown",
   "id": "8b878a37",
   "metadata": {},
   "source": [
    "### Large amount of data sets"
   ]
  },
  {
   "cell_type": "code",
   "execution_count": null,
   "id": "8286b8da",
   "metadata": {},
   "outputs": [],
   "source": [
    "for  df in pd.read_csv('pokemon_data.csv',chunksize = 5):\n",
    "    print(\"CHUNK DF\")\n",
    "    print(df)"
   ]
  },
  {
   "cell_type": "code",
   "execution_count": null,
   "id": "cc48a55b",
   "metadata": {},
   "outputs": [],
   "source": [
    "new_df=pd.DataFrame(columns=df.columns)\n",
    "\n",
    "for df in pd.read_csv('pokemon_data.csv',chunksize = 5):\n",
    "    results = df.groupby(['Type 1']).count()\n",
    "    \n",
    "    new_df = pd.concat([new_df,results])\n",
    "    "
   ]
  },
  {
   "cell_type": "code",
   "execution_count": null,
   "id": "623f83be",
   "metadata": {},
   "outputs": [],
   "source": []
  }
 ],
 "metadata": {
  "kernelspec": {
   "display_name": "Python 3",
   "language": "python",
   "name": "python3"
  },
  "language_info": {
   "codemirror_mode": {
    "name": "ipython",
    "version": 3
   },
   "file_extension": ".py",
   "mimetype": "text/x-python",
   "name": "python",
   "nbconvert_exporter": "python",
   "pygments_lexer": "ipython3",
   "version": "3.8.8"
  }
 },
 "nbformat": 4,
 "nbformat_minor": 5
}
