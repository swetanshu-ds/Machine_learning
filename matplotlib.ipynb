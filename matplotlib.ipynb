{
 "cells": [
  {
   "cell_type": "code",
   "execution_count": null,
   "id": "fea47edc",
   "metadata": {},
   "outputs": [],
   "source": [
    "import matplotlib.pyplot as plt\n",
    "\n",
    "%matplotlib inline   #### writing this line will prevent you from writing plt.show() again and again"
   ]
  },
  {
   "cell_type": "code",
   "execution_count": null,
   "id": "f67c0c21",
   "metadata": {},
   "outputs": [],
   "source": [
    "import numpy as np"
   ]
  },
  {
   "cell_type": "code",
   "execution_count": null,
   "id": "d29afa1d",
   "metadata": {},
   "outputs": [],
   "source": [
    "x = np.arange(0,10)\n",
    "y = np.arange(11,21)"
   ]
  },
  {
   "cell_type": "code",
   "execution_count": null,
   "id": "87c4d38a",
   "metadata": {},
   "outputs": [],
   "source": [
    "a = np.arange(40,50)\n",
    "b = np.arange(50,60)"
   ]
  },
  {
   "cell_type": "code",
   "execution_count": null,
   "id": "38c1b4c2",
   "metadata": {},
   "outputs": [],
   "source": [
    "##  plotting using matplotlib\n",
    "## plt scatter\n",
    "\n",
    "plt.scatter(x,y,c = 'r')\n",
    "\n",
    "plt.xlabel(\"X axis\")\n",
    "plt.ylabel(\"Y axis\")\n",
    "plt.title(\"Graph in 2D\")\n",
    "plt.savefig(\"Test.png\")          #####   this will save the fig of the diagram that is drawn below"
   ]
  },
  {
   "cell_type": "markdown",
   "id": "09219f39",
   "metadata": {},
   "source": [
    "####  plt plot"
   ]
  },
  {
   "cell_type": "code",
   "execution_count": null,
   "id": "b34691b6",
   "metadata": {},
   "outputs": [],
   "source": [
    "y = x*x"
   ]
  },
  {
   "cell_type": "code",
   "execution_count": null,
   "id": "a7ca3524",
   "metadata": {},
   "outputs": [],
   "source": [
    "plt.plot(x,y)"
   ]
  },
  {
   "cell_type": "code",
   "execution_count": null,
   "id": "54b708e0",
   "metadata": {},
   "outputs": [],
   "source": [
    "plt.plot(x,y,'r')"
   ]
  },
  {
   "cell_type": "code",
   "execution_count": null,
   "id": "ad495454",
   "metadata": {},
   "outputs": [],
   "source": [
    "plt.plot(x,y,'r--')"
   ]
  },
  {
   "cell_type": "code",
   "execution_count": null,
   "id": "f846dcf7",
   "metadata": {},
   "outputs": [],
   "source": [
    "plt.plot(x,y,'r*-')"
   ]
  },
  {
   "cell_type": "code",
   "execution_count": null,
   "id": "66932fe8",
   "metadata": {},
   "outputs": [],
   "source": [
    "plt.plot(x,y,'ro')"
   ]
  },
  {
   "cell_type": "code",
   "execution_count": null,
   "id": "c48b64ed",
   "metadata": {},
   "outputs": [],
   "source": [
    "plt.plot(x,y,'ro--')"
   ]
  },
  {
   "cell_type": "code",
   "execution_count": null,
   "id": "8303cca9",
   "metadata": {},
   "outputs": [],
   "source": [
    "plt.plot(x,y,'r*',linestyle = 'dashed',linewidth = 2,markersize =12)\n",
    "plt.xlabel('X axis')\n",
    "plt.ylabel('Y axis')\n",
    "plt.title('2D diagram')"
   ]
  },
  {
   "cell_type": "markdown",
   "id": "7ccfaddc",
   "metadata": {},
   "source": [
    "#### creating subplots"
   ]
  },
  {
   "cell_type": "code",
   "execution_count": null,
   "id": "2b18792a",
   "metadata": {},
   "outputs": [],
   "source": [
    "plt.subplot(2,2,1)\n",
    "plt.plot(x,y,'r')"
   ]
  },
  {
   "cell_type": "code",
   "execution_count": null,
   "id": "bebf8634",
   "metadata": {},
   "outputs": [],
   "source": [
    "plt.subplot(2,2,1)\n",
    "plt.plot(x,y,'r')\n",
    "plt.subplot(2,2,2)\n",
    "plt.plot(x,y,'g')"
   ]
  },
  {
   "cell_type": "code",
   "execution_count": null,
   "id": "9f07aba1",
   "metadata": {},
   "outputs": [],
   "source": [
    "plt.subplot(2,2,1)\n",
    "plt.plot(x,y,'r')\n",
    "plt.subplot(2,2,2)\n",
    "plt.plot(x,y,'g')\n",
    "plt.subplot(2,2,3)\n",
    "plt.plot(x,y,'b')"
   ]
  },
  {
   "cell_type": "code",
   "execution_count": null,
   "id": "99ccdbfe",
   "metadata": {},
   "outputs": [],
   "source": [
    "plt.subplot(2,2,1)\n",
    "plt.plot(x,y,'r--')\n",
    "plt.subplot(2,2,2)\n",
    "plt.plot(x,y,'g*--')\n",
    "plt.subplot(2,2,3)\n",
    "plt.plot(x,y,'bo')"
   ]
  },
  {
   "cell_type": "code",
   "execution_count": null,
   "id": "9af568ee",
   "metadata": {},
   "outputs": [],
   "source": [
    "plt.subplot(2,2,1)\n",
    "plt.plot(x,y,'r--')\n",
    "plt.subplot(2,2,2)\n",
    "plt.plot(x,y,'g*--')\n",
    "plt.subplot(2,2,3)\n",
    "plt.plot(x,y,'bo')\n",
    "plt.subplot(2,2,4)\n",
    "plt.plot(x,y,'b*--')\n"
   ]
  },
  {
   "cell_type": "code",
   "execution_count": null,
   "id": "05aa4d6a",
   "metadata": {},
   "outputs": [],
   "source": [
    "x = np.arange(1,11)\n",
    "y = 3*x+5\n",
    "plt.title(\"Matplotlib demo\")\n",
    "plt.ylabel(\"y axis\")\n",
    "plt.xlabel(\"X axis\")\n",
    "plt.plot(x,y)\n",
    "plt.show()"
   ]
  },
  {
   "cell_type": "code",
   "execution_count": null,
   "id": "d2618eae",
   "metadata": {},
   "outputs": [],
   "source": [
    "np.pi"
   ]
  },
  {
   "cell_type": "code",
   "execution_count": null,
   "id": "a08fb080",
   "metadata": {},
   "outputs": [],
   "source": [
    "x  = np.arange(0,4*np.pi,0.1)\n",
    "y = np.sin(x)\n",
    "plt.title(\"sine wave form\")\n",
    "plt.plot(x,y)\n",
    "plt.show()"
   ]
  },
  {
   "cell_type": "code",
   "execution_count": null,
   "id": "8b5aa3ae",
   "metadata": {},
   "outputs": [],
   "source": [
    "x = np.arange(0,5*np.pi,0.1)\n",
    "y_sin = np.sin(x)\n",
    "y_cos = np.cos(x)\n",
    "plt.subplot(2,1,1)\n",
    "\n",
    "plt.plot(x,y_sin,'r--')\n",
    "plt.title(\"Sine\")\n",
    "\n",
    "plt.subplot (2,1,2)\n",
    "plt.plot(x,y_cos,'bo')\n",
    "plt.title(\"Cosine\")\n",
    "\n",
    "plt.show()"
   ]
  },
  {
   "cell_type": "markdown",
   "id": "40324f4d",
   "metadata": {},
   "source": [
    "#### Bar Plot"
   ]
  },
  {
   "cell_type": "code",
   "execution_count": null,
   "id": "a99fca2b",
   "metadata": {},
   "outputs": [],
   "source": [
    "x = [2,8,10]\n",
    "y = [11,2,45]\n",
    "\n",
    "x2 = [3,6,9]\n",
    "y2 = [5,6,7]\n",
    "\n",
    "plt.bar(x,y)\n",
    "plt.bar(x2,y2,color = 'g')\n",
    "plt.title(\"Bar graph\")\n",
    "plt.ylabel('Y axis')\n",
    "plt.xlabel('X axis')\n",
    "\n",
    "plt.show()"
   ]
  },
  {
   "cell_type": "markdown",
   "id": "d3e77e8a",
   "metadata": {},
   "source": [
    "####  Histogram"
   ]
  },
  {
   "cell_type": "code",
   "execution_count": null,
   "id": "315864fb",
   "metadata": {},
   "outputs": [],
   "source": [
    "a = np.array([1,2,3,4,5,6,7,8,9,0,11,22,33,44,55,66,77,88,99,23,43,54,22,43])\n",
    "plt.hist(a)\n",
    "plt.title(\"Histogram\")\n",
    "plt.show()"
   ]
  },
  {
   "cell_type": "code",
   "execution_count": null,
   "id": "4bf46d07",
   "metadata": {},
   "outputs": [],
   "source": [
    "a = np.array([1,2,3,4,5,6,7,8,9,0,11,22,33,44,55,66,77,88,99,23,43,54,22,43])\n",
    "plt.hist(a,bins= 20)\n",
    "plt.title(\"Histogram\")\n",
    "plt.show()"
   ]
  },
  {
   "cell_type": "markdown",
   "id": "7bf90888",
   "metadata": {},
   "source": [
    "#### Box Plot using Matplotlib"
   ]
  },
  {
   "cell_type": "code",
   "execution_count": null,
   "id": "b14513fd",
   "metadata": {},
   "outputs": [],
   "source": [
    "data = [np.random.normal(0,std,100) for std in range(1,4)]\n",
    "\n",
    "plt.boxplot(data,vert = True,patch_artist = True)"
   ]
  },
  {
   "cell_type": "code",
   "execution_count": null,
   "id": "ea804a1c",
   "metadata": {},
   "outputs": [],
   "source": [
    "data"
   ]
  },
  {
   "cell_type": "code",
   "execution_count": null,
   "id": "dae354c1",
   "metadata": {},
   "outputs": [],
   "source": [
    "data = [np.random.normal(0,std,100) for std in range(1,4)]\n",
    "\n",
    "plt.boxplot(data,vert = True,patch_artist = False)"
   ]
  },
  {
   "cell_type": "code",
   "execution_count": null,
   "id": "3bd7d7c3",
   "metadata": {},
   "outputs": [],
   "source": [
    "data = [np.random.normal(0,std,100) for std in range(1,4)]\n",
    "\n",
    "plt.boxplot(data,vert = False,patch_artist = True)"
   ]
  },
  {
   "cell_type": "markdown",
   "id": "4122afdc",
   "metadata": {},
   "source": [
    "### Pie Plot"
   ]
  },
  {
   "cell_type": "code",
   "execution_count": null,
   "id": "4ad7f712",
   "metadata": {},
   "outputs": [],
   "source": [
    "labels = 'Python','C++','Ruby','Java'\n",
    "sizes = [215,130,245,210]\n",
    "colors = ['gold','yellowgreen','lightcoral','lightskyblue']\n",
    "explode = (0.1,0,0,0)  ### explode 1st slice\n",
    "\n",
    "# plot\n",
    "plt.pie(sizes,explode = explode,labels = labels,colors = colors,\n",
    "       autopct = '%1.1f%%',shadow = True)\n",
    "\n",
    "plt.axis('equal')\n",
    "plt.show()"
   ]
  },
  {
   "cell_type": "code",
   "execution_count": null,
   "id": "78a12737",
   "metadata": {},
   "outputs": [],
   "source": [
    "labels = 'Python','C++','Ruby','Java'\n",
    "sizes = [215,130,245,210]\n",
    "colors = ['gold','yellowgreen','lightcoral','lightskyblue']\n",
    "explode = (0.4,0,0,0)  ### explode 1st slice\n",
    "\n",
    "# plot\n",
    "plt.pie(sizes,explode = explode,labels = labels,colors = colors,\n",
    "       autopct = '%1.1f%%',shadow = True)\n",
    "\n",
    "plt.axis('equal')\n",
    "plt.show()"
   ]
  },
  {
   "cell_type": "code",
   "execution_count": null,
   "id": "9b89a15c",
   "metadata": {},
   "outputs": [],
   "source": [
    "labels = 'Python','C++','Ruby','Java'\n",
    "sizes = [215,130,245,210]\n",
    "colors = ['gold','yellowgreen','lightcoral','lightskyblue']\n",
    "explode = (0,0,0.9,0)  ### explode 1st slice\n",
    "\n",
    "# plot\n",
    "plt.pie(sizes,explode = explode,labels = labels,colors = colors,\n",
    "       autopct = '%1.1f%%',shadow = True)\n",
    "\n",
    "plt.axis('equal')\n",
    "plt.show()"
   ]
  },
  {
   "cell_type": "code",
   "execution_count": null,
   "id": "1cb2b2aa",
   "metadata": {},
   "outputs": [],
   "source": [
    "labels = 'Python','C++','Ruby','Java'\n",
    "sizes = [215,130,245,210]\n",
    "colors = ['gold','yellowgreen','lightcoral','lightskyblue']\n",
    "explode = (0.2,0,0.2,0)  ### explode 1st slice\n",
    "\n",
    "# plot\n",
    "plt.pie(sizes,explode = explode,labels = labels,colors = colors,\n",
    "       autopct = '%1.1f%%',shadow = True)\n",
    "\n",
    "plt.axis('equal')\n",
    "plt.show()"
   ]
  },
  {
   "cell_type": "code",
   "execution_count": null,
   "id": "8dab4765",
   "metadata": {},
   "outputs": [],
   "source": []
  }
 ],
 "metadata": {
  "kernelspec": {
   "display_name": "Python 3 (ipykernel)",
   "language": "python",
   "name": "python3"
  },
  "language_info": {
   "codemirror_mode": {
    "name": "ipython",
    "version": 3
   },
   "file_extension": ".py",
   "mimetype": "text/x-python",
   "name": "python",
   "nbconvert_exporter": "python",
   "pygments_lexer": "ipython3",
   "version": "3.9.7"
  }
 },
 "nbformat": 4,
 "nbformat_minor": 5
}
