{
 "cells": [
  {
   "cell_type": "code",
   "execution_count": null,
   "metadata": {
    "id": "AeqUFrcWhSWM"
   },
   "outputs": [],
   "source": [
    "ROOT = \"/content/drive/MyDrive/Live class\""
   ]
  },
  {
   "cell_type": "code",
   "execution_count": null,
   "metadata": {
    "id": "j1qmAfIviEkn"
   },
   "outputs": [],
   "source": [
    "import os\n",
    "os.chdir(ROOT)"
   ]
  },
  {
   "cell_type": "code",
   "execution_count": null,
   "metadata": {
    "colab": {
     "base_uri": "https://localhost:8080/"
    },
    "id": "dASUZ-_Hi_If",
    "outputId": "f891543d-b28c-4eb0-a36d-279505a244bd"
   },
   "outputs": [],
   "source": [
    "!ls"
   ]
  },
  {
   "cell_type": "code",
   "execution_count": null,
   "metadata": {
    "id": "9vpuAYd7jS6V"
   },
   "outputs": [],
   "source": [
    "assert ROOT == os.getcwd()"
   ]
  },
  {
   "cell_type": "code",
   "execution_count": null,
   "metadata": {
    "colab": {
     "base_uri": "https://localhost:8080/",
     "height": 35
    },
    "id": "_ce1GDStjunM",
    "outputId": "ffe774b3-d753-464f-87cd-d2a43c196044"
   },
   "outputs": [],
   "source": [
    "os.getcwd()"
   ]
  },
  {
   "cell_type": "code",
   "execution_count": null,
   "metadata": {
    "id": "hpsDlEsHj2QF"
   },
   "outputs": [],
   "source": [
    "with open(\"test.txt\", \"w\") as f:\n",
    "  f.writelines(\"Hello everyone\")"
   ]
  },
  {
   "cell_type": "code",
   "execution_count": null,
   "metadata": {
    "id": "ZW39H6IwkXBs"
   },
   "outputs": [],
   "source": [
    "import numpy as np\n",
    "import pandas as pd\n",
    "import matplotlib.pyplot as plt\n",
    "import seaborn as sns"
   ]
  },
  {
   "cell_type": "code",
   "execution_count": null,
   "metadata": {
    "colab": {
     "base_uri": "https://localhost:8080/",
     "height": 206
    },
    "id": "DR4XK7iGksQ4",
    "outputId": "319222d4-2270-452c-d28a-ab8d81078e3d"
   },
   "outputs": [],
   "source": [
    "df = pd.read_csv('/content/drive/MyDrive/DATA/Advertising.csv')\n",
    "df.head()"
   ]
  },
  {
   "cell_type": "code",
   "execution_count": null,
   "metadata": {
    "colab": {
     "base_uri": "https://localhost:8080/",
     "height": 206
    },
    "id": "0zA86i5SlU1O",
    "outputId": "f1e86fc1-4ba7-4b72-f2fa-644ffd94eefb"
   },
   "outputs": [],
   "source": [
    "df['total_spent'] = df['TV'] + df['radio'] + df[\"newspaper\"]\n",
    "df.head()"
   ]
  },
  {
   "cell_type": "code",
   "execution_count": null,
   "metadata": {
    "colab": {
     "base_uri": "https://localhost:8080/",
     "height": 297
    },
    "id": "ne8vzUm_mG4E",
    "outputId": "02816e87-3c36-46a2-b9a4-5daa1455dfc6"
   },
   "outputs": [],
   "source": [
    "sns.scatterplot(data=df, x='total_spent', y='sales')"
   ]
  },
  {
   "cell_type": "code",
   "execution_count": null,
   "metadata": {
    "colab": {
     "base_uri": "https://localhost:8080/",
     "height": 297
    },
    "id": "eSafPL1lmrl2",
    "outputId": "25697fcb-dc93-48de-b1fa-b8f8004fd7ec"
   },
   "outputs": [],
   "source": [
    "sns.regplot(data=df, x='total_spent', y='sales', color='red') #OLS"
   ]
  },
  {
   "cell_type": "code",
   "execution_count": null,
   "metadata": {
    "id": "-t21nd0on9LV"
   },
   "outputs": [],
   "source": [
    "x = df['total_spent']\n",
    "y = df['sales']"
   ]
  },
  {
   "cell_type": "code",
   "execution_count": null,
   "metadata": {
    "id": "jLEm-AdcoO4F"
   },
   "outputs": [],
   "source": [
    "#help(sns.regplot)"
   ]
  },
  {
   "cell_type": "code",
   "execution_count": null,
   "metadata": {
    "id": "ZEsRipwmo4J8"
   },
   "outputs": [],
   "source": [
    "#help(np.polyfit)"
   ]
  },
  {
   "cell_type": "code",
   "execution_count": null,
   "metadata": {
    "colab": {
     "base_uri": "https://localhost:8080/"
    },
    "id": "EdS9jFgmpPdF",
    "outputId": "d51e3ce6-778a-47b9-e13e-a153b8853f59"
   },
   "outputs": [],
   "source": [
    "np.polyfit(x,y, deg=1)"
   ]
  },
  {
   "cell_type": "code",
   "execution_count": null,
   "metadata": {
    "colab": {
     "base_uri": "https://localhost:8080/"
    },
    "id": "l7KpmvsiqGI3",
    "outputId": "23216764-2a7e-49a4-a9d1-a23f00e79ba3"
   },
   "outputs": [],
   "source": [
    "potential_spend = np.linspace(0,500,100) #x\n",
    "potential_spend"
   ]
  },
  {
   "cell_type": "code",
   "execution_count": null,
   "metadata": {
    "id": "AXu3LJCLsfrA"
   },
   "outputs": [],
   "source": [
    "help(np.linspace)"
   ]
  },
  {
   "cell_type": "code",
   "execution_count": null,
   "metadata": {
    "colab": {
     "base_uri": "https://localhost:8080/"
    },
    "id": "RC8lwiclqbFw",
    "outputId": "f9550d17-855f-48c9-f213-8f59abef3802"
   },
   "outputs": [],
   "source": [
    "#y = m*x + b\n",
    "predicted_sales = 0.04868788*potential_spend + 4.24302822\n",
    "predicted_sales"
   ]
  },
  {
   "cell_type": "code",
   "execution_count": null,
   "metadata": {
    "colab": {
     "base_uri": "https://localhost:8080/",
     "height": 297
    },
    "id": "K4Br9iTbrJZA",
    "outputId": "05492843-b6e9-4149-824b-24a7a604c8ee"
   },
   "outputs": [],
   "source": [
    "sns.scatterplot(x='total_spent', y='sales', data=df) #scatter plot\n",
    "plt.plot(potential_spend, predicted_sales, color='green') #line"
   ]
  },
  {
   "cell_type": "code",
   "execution_count": null,
   "metadata": {
    "colab": {
     "base_uri": "https://localhost:8080/"
    },
    "id": "ZQ0nRyHMsbUW",
    "outputId": "e9828fb7-159e-4081-ab40-56a5917c585e"
   },
   "outputs": [],
   "source": [
    "spend = 200\n",
    "predicted_sales = 0.04868788*spend + 4.24302822\n",
    "predicted_sales"
   ]
  },
  {
   "cell_type": "code",
   "execution_count": null,
   "metadata": {
    "colab": {
     "base_uri": "https://localhost:8080/"
    },
    "id": "Y2QCBX2wtjGP",
    "outputId": "bd8edda5-1f9f-41c6-efeb-d42c17ac69d8"
   },
   "outputs": [],
   "source": [
    "#Y = B3x**3 + B2x**2 + B3x + B0\n",
    "np.polyfit(x,y, deg=3)"
   ]
  },
  {
   "cell_type": "code",
   "execution_count": null,
   "metadata": {
    "id": "O4h9PN5VuTfs"
   },
   "outputs": [],
   "source": [
    "pot_spend = np.linspace(0,500,100)"
   ]
  },
  {
   "cell_type": "code",
   "execution_count": null,
   "metadata": {
    "colab": {
     "base_uri": "https://localhost:8080/"
    },
    "id": "oh2wWuAYuFdl",
    "outputId": "e7cbd0ef-6669-430c-8f63-d6db616bd4b9"
   },
   "outputs": [],
   "source": [
    "pred_sales = 3.07615033e-07*pot_spend**3 + -1.89392449e-04*pot_spend**2 + 8.20886302e-02*pot_spend + 2.70495053e+00\n",
    "pred_sales"
   ]
  },
  {
   "cell_type": "code",
   "execution_count": null,
   "metadata": {
    "colab": {
     "base_uri": "https://localhost:8080/",
     "height": 297
    },
    "id": "LjaDeJ3Sugoq",
    "outputId": "7213053d-788a-4115-bec2-80dc48a07f64"
   },
   "outputs": [],
   "source": [
    "sns.scatterplot(x='total_spent', y='sales', data=df) #scatter plot\n",
    "plt.plot(pot_spend, pred_sales, color='green') #line"
   ]
  },
  {
   "cell_type": "code",
   "execution_count": null,
   "metadata": {
    "colab": {
     "base_uri": "https://localhost:8080/",
     "height": 407
    },
    "id": "ZS4IbtN6ux4x",
    "outputId": "c028e757-a2ce-4d4b-a139-4163a6e85a0b"
   },
   "outputs": [],
   "source": [
    "fig,axes = plt.subplots(nrows=1, ncols=3, figsize=(16,6))\n",
    "\n",
    "axes[0].plot(df['TV'], df['sales'], 'o')\n",
    "axes[0].set_ylabel(\"sales\")\n",
    "axes[0].set_title(\"TV Spend\")\n",
    "\n",
    "\n",
    "axes[1].plot(df['radio'], df['sales'], 'o')\n",
    "axes[1].set_ylabel(\"sales\")\n",
    "axes[1].set_title(\"Radio Spend\")\n",
    "\n",
    "axes[2].plot(df['newspaper'], df['sales'], 'o')\n",
    "axes[2].set_ylabel(\"sales\")\n",
    "axes[2].set_title(\"Newspaper Spend\")"
   ]
  },
  {
   "cell_type": "code",
   "execution_count": null,
   "metadata": {
    "colab": {
     "base_uri": "https://localhost:8080/",
     "height": 920
    },
    "id": "SBjd7xc7wVZ3",
    "outputId": "0cd2232f-c155-427a-aabe-c58f409b7ab1"
   },
   "outputs": [],
   "source": [
    "sns.pairplot(df)"
   ]
  },
  {
   "cell_type": "code",
   "execution_count": null,
   "metadata": {
    "colab": {
     "base_uri": "https://localhost:8080/",
     "height": 424
    },
    "id": "KYEcgnZVwldN",
    "outputId": "cd86ad51-e974-4f2c-c117-a3c167b58f5b"
   },
   "outputs": [],
   "source": [
    "x = df.drop(['sales', 'total_spent'], axis=1)\n",
    "x"
   ]
  },
  {
   "cell_type": "code",
   "execution_count": null,
   "metadata": {
    "colab": {
     "base_uri": "https://localhost:8080/"
    },
    "id": "rg7XjpkZAap4",
    "outputId": "e2c2f71e-a6e5-4ee8-e48f-976e8abea75f"
   },
   "outputs": [],
   "source": [
    "y = df['sales']\n",
    "y"
   ]
  },
  {
   "cell_type": "code",
   "execution_count": null,
   "metadata": {
    "id": "bKpylMlyAf9w"
   },
   "outputs": [],
   "source": [
    "from sklearn.model_selection import train_test_split\n",
    "X_train, X_test, y_train, y_test = train_test_split(x, y, test_size=0.33, random_state=101)"
   ]
  },
  {
   "cell_type": "code",
   "execution_count": null,
   "metadata": {
    "colab": {
     "base_uri": "https://localhost:8080/",
     "height": 206
    },
    "id": "47xBkXL3C5kY",
    "outputId": "aad23524-bbee-44fd-d073-13a6d1414c8c"
   },
   "outputs": [],
   "source": [
    "X_train.head()"
   ]
  },
  {
   "cell_type": "code",
   "execution_count": null,
   "metadata": {
    "colab": {
     "base_uri": "https://localhost:8080/",
     "height": 206
    },
    "id": "WowB6UcgC9X4",
    "outputId": "e606d360-38f2-40fd-9529-19facc02c114"
   },
   "outputs": [],
   "source": [
    "X_test.head()"
   ]
  },
  {
   "cell_type": "code",
   "execution_count": null,
   "metadata": {
    "id": "edCi7iYPAxRR"
   },
   "outputs": [],
   "source": [
    "help(train_test_split)"
   ]
  },
  {
   "cell_type": "code",
   "execution_count": null,
   "metadata": {
    "colab": {
     "base_uri": "https://localhost:8080/"
    },
    "id": "9VthTuysBPI7",
    "outputId": "5c452274-604a-42b2-faaa-bcf19917e15f"
   },
   "outputs": [],
   "source": [
    "len(df)"
   ]
  },
  {
   "cell_type": "code",
   "execution_count": null,
   "metadata": {
    "colab": {
     "base_uri": "https://localhost:8080/"
    },
    "id": "y9UW4ml4BTOh",
    "outputId": "ecc74a78-dab1-4b57-fcb4-1724eae0ad88"
   },
   "outputs": [],
   "source": [
    "len(X_train)"
   ]
  },
  {
   "cell_type": "code",
   "execution_count": null,
   "metadata": {
    "colab": {
     "base_uri": "https://localhost:8080/"
    },
    "id": "nlwM4ITXBXto",
    "outputId": "3e62e4aa-4f67-41a7-c8a5-7eb09e55d224"
   },
   "outputs": [],
   "source": [
    "len(X_test)"
   ]
  },
  {
   "cell_type": "code",
   "execution_count": null,
   "metadata": {
    "id": "vDHasKk-Bg_g"
   },
   "outputs": [],
   "source": [
    "from sklearn.linear_model import LinearRegression"
   ]
  },
  {
   "cell_type": "code",
   "execution_count": null,
   "metadata": {
    "id": "3K9tf6IjB-Bp"
   },
   "outputs": [],
   "source": [
    "#help(LinearRegression())"
   ]
  },
  {
   "cell_type": "code",
   "execution_count": null,
   "metadata": {
    "id": "AqmA6WIlB6Zl"
   },
   "outputs": [],
   "source": [
    "model = LinearRegression()"
   ]
  },
  {
   "cell_type": "code",
   "execution_count": null,
   "metadata": {
    "colab": {
     "base_uri": "https://localhost:8080/"
    },
    "id": "IrixZrMTCJ2D",
    "outputId": "3f68bed5-08ea-4fe8-8ac8-88bb31c7728a"
   },
   "outputs": [],
   "source": [
    "model.fit(X_train, y_train)"
   ]
  },
  {
   "cell_type": "code",
   "execution_count": null,
   "metadata": {
    "colab": {
     "base_uri": "https://localhost:8080/"
    },
    "id": "3g8PKMI_CU3p",
    "outputId": "b63cf286-a7a9-4eb5-a2f8-025e946e8ad4"
   },
   "outputs": [],
   "source": [
    "test_pred = model.predict(X_test)\n",
    "test_pred"
   ]
  },
  {
   "cell_type": "code",
   "execution_count": null,
   "metadata": {
    "id": "9jUpF9ytCw0y"
   },
   "outputs": [],
   "source": [
    "from sklearn.metrics import mean_absolute_error, mean_squared_error"
   ]
  },
  {
   "cell_type": "code",
   "execution_count": null,
   "metadata": {
    "colab": {
     "base_uri": "https://localhost:8080/",
     "height": 296
    },
    "id": "fRxGGY6yDr07",
    "outputId": "8ffff1b3-e677-4ec1-d75e-9379746550d0"
   },
   "outputs": [],
   "source": [
    "sns.histplot(data=df, x='sales', bins=20) #distribution of sales"
   ]
  },
  {
   "cell_type": "code",
   "execution_count": null,
   "metadata": {
    "colab": {
     "base_uri": "https://localhost:8080/"
    },
    "id": "TljMpn7-D60Z",
    "outputId": "5ec03a8c-38a4-4f86-a8ac-a68ee8dc3797"
   },
   "outputs": [],
   "source": [
    "mean_absolute_error(y_test, test_pred )"
   ]
  },
  {
   "cell_type": "code",
   "execution_count": null,
   "metadata": {
    "colab": {
     "base_uri": "https://localhost:8080/"
    },
    "id": "JfrQbQ_mEMNa",
    "outputId": "3e1e1b23-d74b-4a58-d4e2-03c1c2779806"
   },
   "outputs": [],
   "source": [
    "mean_squared_error(y_test, test_pred)"
   ]
  },
  {
   "cell_type": "code",
   "execution_count": null,
   "metadata": {
    "colab": {
     "base_uri": "https://localhost:8080/"
    },
    "id": "SiuOAJM4ElT4",
    "outputId": "24285bcd-546a-4046-bd6e-84d2e9ca6532"
   },
   "outputs": [],
   "source": [
    "np.sqrt(mean_squared_error(y_test, test_pred))"
   ]
  },
  {
   "cell_type": "markdown",
   "metadata": {
    "id": "jauhxdYiKbsN"
   },
   "source": [
    "#Now we are checking whether linear regression model is valid for our dataset or not"
   ]
  },
  {
   "cell_type": "code",
   "execution_count": null,
   "metadata": {
    "colab": {
     "base_uri": "https://localhost:8080/"
    },
    "id": "8DIn9jQSKYFv",
    "outputId": "49b27c90-07fb-42e6-9cca-cf3e94921d36"
   },
   "outputs": [],
   "source": [
    "\n",
    "test_residuals = y_test - test_pred\n",
    "test_residuals"
   ]
  },
  {
   "cell_type": "code",
   "execution_count": null,
   "metadata": {
    "colab": {
     "base_uri": "https://localhost:8080/",
     "height": 296
    },
    "id": "8pXBI65gK1Xj",
    "outputId": "aaf67ae5-7a70-4f1b-be35-68db0e52abd1"
   },
   "outputs": [],
   "source": [
    "sns.scatterplot(x=y_test, y= test_residuals) #residual plot\n",
    "plt.axhline(y=0, color='red', ls='--')"
   ]
  },
  {
   "cell_type": "code",
   "execution_count": null,
   "metadata": {
    "colab": {
     "base_uri": "https://localhost:8080/",
     "height": 386
    },
    "id": "LSLCrI4XLk2l",
    "outputId": "7328b810-b77c-4712-a683-b5da8d362a2c"
   },
   "outputs": [],
   "source": [
    "sns.displot(test_residuals, bins=25, kde=True)"
   ]
  },
  {
   "cell_type": "code",
   "execution_count": null,
   "metadata": {
    "colab": {
     "base_uri": "https://localhost:8080/",
     "height": 706
    },
    "id": "aAQ0NxVbkLK9",
    "outputId": "cea25460-5ed5-458f-9178-7e121de45159"
   },
   "outputs": [],
   "source": [
    "import scipy as sp\n",
    "\n",
    "# Create a figure and axis to plot on\n",
    "fig, ax = plt.subplots(figsize=(6,8),dpi=100)\n",
    "# probplot returns the raw values if needed\n",
    "# we just want to see the plot, so we assign these values to _\n",
    "_ = sp.stats.probplot(test_residuals,plot=ax)"
   ]
  },
  {
   "cell_type": "code",
   "execution_count": null,
   "metadata": {
    "colab": {
     "base_uri": "https://localhost:8080/"
    },
    "id": "m-k54Uo_MgA7",
    "outputId": "a769587b-1d92-413b-ca7f-a899b22b5540"
   },
   "outputs": [],
   "source": [
    "model.coef_"
   ]
  },
  {
   "cell_type": "code",
   "execution_count": null,
   "metadata": {
    "id": "FvM-DrTUNHM0"
   },
   "outputs": [],
   "source": [
    "y_hat = model.predict(x)"
   ]
  },
  {
   "cell_type": "code",
   "execution_count": null,
   "metadata": {
    "colab": {
     "base_uri": "https://localhost:8080/",
     "height": 407
    },
    "id": "0bVcTF4nNUBU",
    "outputId": "ac77332a-1293-457e-9f43-141e057cd628"
   },
   "outputs": [],
   "source": [
    "fig,axes = plt.subplots(nrows=1, ncols=3, figsize=(16,6))\n",
    "\n",
    "axes[0].plot(df['TV'], df['sales'], 'o')\n",
    "axes[0].plot(df['TV'], y_hat, 'o', color='red')\n",
    "axes[0].set_ylabel(\"sales\")\n",
    "axes[0].set_title(\"TV Spend\")\n",
    "\n",
    "\n",
    "axes[1].plot(df['radio'], df['sales'], 'o')\n",
    "axes[1].plot(df['radio'], y_hat, 'o', color='red')\n",
    "axes[1].set_ylabel(\"sales\")\n",
    "axes[1].set_title(\"Radio Spend\")\n",
    "\n",
    "axes[2].plot(df['newspaper'], df['sales'], 'o')\n",
    "axes[2].plot(df['newspaper'], y_hat, 'o', color='red')\n",
    "axes[2].set_ylabel(\"sales\")\n",
    "axes[2].set_title(\"Newspaper Spend\")"
   ]
  },
  {
   "cell_type": "code",
   "execution_count": null,
   "metadata": {
    "id": "8ONsWNodNT66"
   },
   "outputs": [],
   "source": []
  }
 ],
 "metadata": {
  "colab": {
   "collapsed_sections": [],
   "name": "linear_regression.ipynb",
   "provenance": []
  },
  "kernelspec": {
   "display_name": "Python 3 (ipykernel)",
   "language": "python",
   "name": "python3"
  },
  "language_info": {
   "codemirror_mode": {
    "name": "ipython",
    "version": 3
   },
   "file_extension": ".py",
   "mimetype": "text/x-python",
   "name": "python",
   "nbconvert_exporter": "python",
   "pygments_lexer": "ipython3",
   "version": "3.9.7"
  }
 },
 "nbformat": 4,
 "nbformat_minor": 1
}
