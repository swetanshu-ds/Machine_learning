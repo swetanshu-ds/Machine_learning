{
 "cells": [
  {
   "cell_type": "code",
   "execution_count": 1,
   "id": "bc9d76f6",
   "metadata": {},
   "outputs": [],
   "source": [
    "import pandas as pd\n",
    "import numpy as np"
   ]
  },
  {
   "cell_type": "code",
   "execution_count": null,
   "id": "49368d86",
   "metadata": {},
   "outputs": [],
   "source": [
    "import matplotlib.pyplot as plt\n",
    "import seaborn as sns\n",
    "%matplotlib inline"
   ]
  },
  {
   "cell_type": "code",
   "execution_count": 14,
   "id": "edcbe732",
   "metadata": {},
   "outputs": [
    {
     "data": {
      "text/plain": [
       "array([0.0532994])"
      ]
     },
     "execution_count": 14,
     "metadata": {},
     "output_type": "execute_result"
    }
   ],
   "source": [
    "np.random.random(1)"
   ]
  },
  {
   "cell_type": "code",
   "execution_count": 13,
   "id": "ef3b9d52",
   "metadata": {},
   "outputs": [],
   "source": [
    "np.random.seed(20)\n",
    "df= pd.DataFrame(np.random.randn(1000,1),index = pd.date_range('2021-07-18',periods = 1000),columns = ['data'])"
   ]
  },
  {
   "cell_type": "code",
   "execution_count": null,
   "id": "44c0292c",
   "metadata": {},
   "outputs": [],
   "source": [
    "df"
   ]
  },
  {
   "cell_type": "code",
   "execution_count": null,
   "id": "f49a458c",
   "metadata": {},
   "outputs": [],
   "source": [
    "df.plot()"
   ]
  },
  {
   "cell_type": "code",
   "execution_count": null,
   "id": "ff2d2b90",
   "metadata": {},
   "outputs": [],
   "source": [
    "df.data.cumsum().plot()"
   ]
  },
  {
   "cell_type": "code",
   "execution_count": null,
   "id": "8c8c2471",
   "metadata": {},
   "outputs": [],
   "source": [
    "df.data.cumsum()"
   ]
  },
  {
   "cell_type": "code",
   "execution_count": null,
   "id": "e287aefa",
   "metadata": {},
   "outputs": [],
   "source": [
    "df['data1']=df.data.cumsum()"
   ]
  },
  {
   "cell_type": "code",
   "execution_count": null,
   "id": "479b2f7d",
   "metadata": {},
   "outputs": [],
   "source": [
    "df['data2'] = df['data'].apply(lambda x:x*3)"
   ]
  },
  {
   "cell_type": "code",
   "execution_count": null,
   "id": "39015236",
   "metadata": {},
   "outputs": [],
   "source": [
    "df"
   ]
  },
  {
   "cell_type": "code",
   "execution_count": null,
   "id": "45d7c708",
   "metadata": {},
   "outputs": [],
   "source": [
    "df.cumsum()"
   ]
  },
  {
   "cell_type": "code",
   "execution_count": null,
   "id": "a75ac23f",
   "metadata": {},
   "outputs": [],
   "source": [
    "df"
   ]
  },
  {
   "cell_type": "code",
   "execution_count": null,
   "id": "600f3d93",
   "metadata": {},
   "outputs": [],
   "source": [
    "df.plot()"
   ]
  },
  {
   "cell_type": "code",
   "execution_count": null,
   "id": "133aae9a",
   "metadata": {},
   "outputs": [],
   "source": [
    "df.plot(figsize = (10,10))"
   ]
  },
  {
   "cell_type": "code",
   "execution_count": null,
   "id": "7b457021",
   "metadata": {},
   "outputs": [],
   "source": [
    "df1 = sns.load_dataset('iris')"
   ]
  },
  {
   "cell_type": "code",
   "execution_count": null,
   "id": "c69ce07d",
   "metadata": {},
   "outputs": [],
   "source": [
    "df1"
   ]
  },
  {
   "cell_type": "code",
   "execution_count": null,
   "id": "7da8fb1d",
   "metadata": {},
   "outputs": [],
   "source": [
    "df1.plot()"
   ]
  },
  {
   "cell_type": "code",
   "execution_count": null,
   "id": "5a7e1fc4",
   "metadata": {},
   "outputs": [],
   "source": [
    "gf = df1.plot(figsize = (10,10),title = 'irish data')\n",
    "gf.set_xlabel(\"This is my x axis\")\n",
    "gf.set_ylabel(\"This is my y axis\")"
   ]
  },
  {
   "cell_type": "code",
   "execution_count": null,
   "id": "f1491a21",
   "metadata": {},
   "outputs": [],
   "source": [
    "df1"
   ]
  },
  {
   "cell_type": "code",
   "execution_count": null,
   "id": "8ffddb03",
   "metadata": {},
   "outputs": [],
   "source": [
    "df1.iloc[0][0:4]"
   ]
  },
  {
   "cell_type": "code",
   "execution_count": null,
   "id": "c744439a",
   "metadata": {},
   "outputs": [],
   "source": [
    "df1.iloc[0][0:4].plot(kind = 'bar')"
   ]
  },
  {
   "cell_type": "code",
   "execution_count": null,
   "id": "ba809978",
   "metadata": {},
   "outputs": [],
   "source": [
    "type(df1.iloc[0])"
   ]
  },
  {
   "cell_type": "code",
   "execution_count": null,
   "id": "8f14ae16",
   "metadata": {},
   "outputs": [],
   "source": [
    "df2 = sns.load_dataset('titanic')"
   ]
  },
  {
   "cell_type": "code",
   "execution_count": null,
   "id": "6b25045e",
   "metadata": {},
   "outputs": [],
   "source": [
    "df2"
   ]
  },
  {
   "cell_type": "code",
   "execution_count": null,
   "id": "e917b545",
   "metadata": {},
   "outputs": [],
   "source": [
    "df2['pclass']"
   ]
  },
  {
   "cell_type": "code",
   "execution_count": null,
   "id": "fccd8416",
   "metadata": {},
   "outputs": [],
   "source": [
    "df2['pclass'].plot(kind = 'bar')"
   ]
  },
  {
   "cell_type": "code",
   "execution_count": null,
   "id": "51ab9e81",
   "metadata": {},
   "outputs": [],
   "source": [
    "df3 = pd.DataFrame(np.random.rand(10,4),columns=['a','b','c','d'])"
   ]
  },
  {
   "cell_type": "code",
   "execution_count": null,
   "id": "655804bd",
   "metadata": {},
   "outputs": [],
   "source": [
    "df3.plot.bar()"
   ]
  },
  {
   "cell_type": "code",
   "execution_count": null,
   "id": "143ab9b4",
   "metadata": {},
   "outputs": [],
   "source": [
    "df3.plot.barh()"
   ]
  },
  {
   "cell_type": "code",
   "execution_count": null,
   "id": "0700caa6",
   "metadata": {},
   "outputs": [],
   "source": [
    "df1"
   ]
  },
  {
   "cell_type": "code",
   "execution_count": null,
   "id": "94b14988",
   "metadata": {},
   "outputs": [],
   "source": [
    "df1.plot.hist()"
   ]
  },
  {
   "cell_type": "code",
   "execution_count": null,
   "id": "1ffa27d5",
   "metadata": {},
   "outputs": [],
   "source": [
    "df1['sepal_width']"
   ]
  },
  {
   "cell_type": "code",
   "execution_count": null,
   "id": "70d0add5",
   "metadata": {},
   "outputs": [],
   "source": [
    "df1.describe()"
   ]
  },
  {
   "cell_type": "code",
   "execution_count": null,
   "id": "07cc950f",
   "metadata": {},
   "outputs": [],
   "source": [
    "df1['sepal_length'].plot.hist()"
   ]
  },
  {
   "cell_type": "code",
   "execution_count": null,
   "id": "322643e0",
   "metadata": {},
   "outputs": [],
   "source": [
    "df1.plot(kind = 'hist',stacked = True,bins=100)"
   ]
  },
  {
   "cell_type": "code",
   "execution_count": null,
   "id": "008ce90a",
   "metadata": {},
   "outputs": [],
   "source": [
    "df1.plot(kind = 'hist',stacked = True,bins=100,figsize = (10,10))"
   ]
  },
  {
   "cell_type": "code",
   "execution_count": null,
   "id": "c037c015",
   "metadata": {},
   "outputs": [],
   "source": [
    "df1.plot(kind = 'hist',stacked = True,bins=100,figsize = (10,10),title = 'histogram of iris')"
   ]
  },
  {
   "cell_type": "code",
   "execution_count": null,
   "id": "0ec5438f",
   "metadata": {},
   "outputs": [],
   "source": [
    "df1.plot(kind = 'hist',stacked = True,bins=100,figsize = (10,10),title = 'histogram of iris',orientation = 'horizontal')"
   ]
  },
  {
   "cell_type": "code",
   "execution_count": null,
   "id": "b66768f4",
   "metadata": {},
   "outputs": [],
   "source": [
    "df1.hist(figsize = (10,10),color = 'r')"
   ]
  },
  {
   "cell_type": "code",
   "execution_count": null,
   "id": "36157b02",
   "metadata": {},
   "outputs": [],
   "source": [
    "df1.hist(figsize = (10,10),color = 'r',alpha = 0.1)"
   ]
  },
  {
   "cell_type": "code",
   "execution_count": null,
   "id": "68738dc2",
   "metadata": {},
   "outputs": [],
   "source": [
    "df1.plot.scatter(x='sepal_width',y = 'petal_width')"
   ]
  },
  {
   "cell_type": "code",
   "execution_count": null,
   "id": "bfa4941d",
   "metadata": {},
   "outputs": [],
   "source": [
    "df1.columns"
   ]
  },
  {
   "cell_type": "code",
   "execution_count": null,
   "id": "838d8d5a",
   "metadata": {},
   "outputs": [],
   "source": [
    "#### graph will represent x and y and the color of the graph will be given by c \n",
    "\n",
    "df1.plot.scatter(x='sepal_width',y = 'petal_width',c='petal_width')"
   ]
  },
  {
   "cell_type": "code",
   "execution_count": null,
   "id": "17f270c9",
   "metadata": {},
   "outputs": [],
   "source": [
    "df1.plot.scatter(x='sepal_length',y='sepal_width')"
   ]
  },
  {
   "cell_type": "code",
   "execution_count": null,
   "id": "7b5ee748",
   "metadata": {},
   "outputs": [],
   "source": [
    "df1.plot.scatter(x='sepal_length',y='sepal_width',label = 'swetanshu')"
   ]
  },
  {
   "cell_type": "code",
   "execution_count": null,
   "id": "7468e915",
   "metadata": {},
   "outputs": [],
   "source": [
    "df1.plot.scatter(x='sepal_length',y='sepal_width',label = 'swetanshu',s=100)"
   ]
  },
  {
   "cell_type": "code",
   "execution_count": null,
   "id": "8a16e64e",
   "metadata": {
    "scrolled": true
   },
   "outputs": [],
   "source": [
    "df1.plot.scatter(x='sepal_length',y='sepal_width',label = 'swetanshu',s=100,c='petal_width')"
   ]
  },
  {
   "cell_type": "code",
   "execution_count": null,
   "id": "4bd4693b",
   "metadata": {},
   "outputs": [],
   "source": [
    "df1.plot.hexbin(x='sepal_length',y='sepal_width',label = 'swetanshu',gridsize=10)"
   ]
  },
  {
   "cell_type": "code",
   "execution_count": null,
   "id": "df436ae9",
   "metadata": {},
   "outputs": [],
   "source": [
    "df"
   ]
  },
  {
   "cell_type": "code",
   "execution_count": null,
   "id": "6c4f05eb",
   "metadata": {},
   "outputs": [],
   "source": [
    "d = df.iloc[0]"
   ]
  },
  {
   "cell_type": "code",
   "execution_count": null,
   "id": "74f9e6ed",
   "metadata": {},
   "outputs": [],
   "source": [
    "d.plot.pie()"
   ]
  },
  {
   "cell_type": "code",
   "execution_count": null,
   "id": "48404885",
   "metadata": {},
   "outputs": [],
   "source": [
    "d.plot.pie(figsize = (10,10))"
   ]
  },
  {
   "cell_type": "code",
   "execution_count": null,
   "id": "c2364e9b",
   "metadata": {},
   "outputs": [],
   "source": [
    "df1.head(3).T"
   ]
  },
  {
   "cell_type": "code",
   "execution_count": null,
   "id": "0fdee61e",
   "metadata": {},
   "outputs": [],
   "source": [
    "iris = df1.head(3).T"
   ]
  },
  {
   "cell_type": "code",
   "execution_count": null,
   "id": "47328003",
   "metadata": {},
   "outputs": [],
   "source": [
    "iris.iloc[0:4].plot.pie(subplots = True,figsize=(20,20))"
   ]
  },
  {
   "cell_type": "code",
   "execution_count": null,
   "id": "ce3ace69",
   "metadata": {},
   "outputs": [],
   "source": [
    "iris.iloc[0:4]"
   ]
  },
  {
   "cell_type": "code",
   "execution_count": null,
   "id": "7a7461b6",
   "metadata": {},
   "outputs": [],
   "source": [
    "iris.iloc[0:4].plot.pie(subplots = True,figsize=(20,20),fontsize = 10)"
   ]
  },
  {
   "cell_type": "code",
   "execution_count": null,
   "id": "b58a721b",
   "metadata": {},
   "outputs": [],
   "source": [
    "iris.iloc[0:4].plot.pie(subplots = True,figsize=(20,20),fontsize = 10,autopct= '%.2f')\n",
    "\n",
    "\n",
    "###  autopct   will give data upto 2 decimal places on pie chart"
   ]
  },
  {
   "cell_type": "code",
   "execution_count": null,
   "id": "471a40a5",
   "metadata": {},
   "outputs": [],
   "source": [
    "df1"
   ]
  },
  {
   "cell_type": "code",
   "execution_count": null,
   "id": "dbd13a72",
   "metadata": {},
   "outputs": [],
   "source": [
    "pd.plotting.scatter_matrix(df1)"
   ]
  },
  {
   "cell_type": "code",
   "execution_count": null,
   "id": "8fa47ab4",
   "metadata": {},
   "outputs": [],
   "source": [
    "pd.plotting.scatter_matrix(df1,figsize = (10,10))"
   ]
  },
  {
   "cell_type": "code",
   "execution_count": null,
   "id": "266ad074",
   "metadata": {},
   "outputs": [],
   "source": [
    "pd.plotting.scatter_matrix(df1,figsize = (10,10),diagonal = 'kde')"
   ]
  },
  {
   "cell_type": "code",
   "execution_count": null,
   "id": "de071419",
   "metadata": {},
   "outputs": [],
   "source": [
    "df['data'].plot(style = 'r--')"
   ]
  },
  {
   "cell_type": "code",
   "execution_count": null,
   "id": "81cf5c55",
   "metadata": {},
   "outputs": [],
   "source": [
    "df['data'].plot(style = 'r--',legend = True)"
   ]
  },
  {
   "cell_type": "code",
   "execution_count": null,
   "id": "0526e017",
   "metadata": {},
   "outputs": [],
   "source": [
    "df['data'].plot(style = 'r--',legend = True,label  ='swetanshu')"
   ]
  },
  {
   "cell_type": "code",
   "execution_count": null,
   "id": "38d38c01",
   "metadata": {},
   "outputs": [],
   "source": [
    "df['data'].plot(style = 'r+',legend = True,label  ='swetanshu')"
   ]
  },
  {
   "cell_type": "code",
   "execution_count": null,
   "id": "9e8dfd50",
   "metadata": {},
   "outputs": [],
   "source": [
    "df['data'].plot(style = 'r*',legend = True,label  ='swetanshu')"
   ]
  },
  {
   "cell_type": "code",
   "execution_count": null,
   "id": "fae2008d",
   "metadata": {},
   "outputs": [],
   "source": [
    "!pip install plotly"
   ]
  },
  {
   "cell_type": "code",
   "execution_count": null,
   "id": "6de22683",
   "metadata": {},
   "outputs": [],
   "source": [
    "###  plotly is used to make extraordianary graphs whereas cufflinks is plotly configurational file"
   ]
  },
  {
   "cell_type": "code",
   "execution_count": null,
   "id": "5f86ca18",
   "metadata": {},
   "outputs": [],
   "source": [
    "!pip install cufflinks"
   ]
  },
  {
   "cell_type": "code",
   "execution_count": null,
   "id": "77ead673",
   "metadata": {},
   "outputs": [],
   "source": [
    "from plotly.offline import iplot\n",
    "import plotly as py\n",
    "import plotly.tools as tls\n",
    "import cufflinks as cf"
   ]
  },
  {
   "cell_type": "code",
   "execution_count": null,
   "id": "0c0ca9b2",
   "metadata": {},
   "outputs": [],
   "source": [
    "py.__version__"
   ]
  },
  {
   "cell_type": "code",
   "execution_count": null,
   "id": "87304772",
   "metadata": {},
   "outputs": [],
   "source": []
  },
  {
   "cell_type": "code",
   "execution_count": null,
   "id": "d6d0764c",
   "metadata": {},
   "outputs": [],
   "source": []
  },
  {
   "cell_type": "code",
   "execution_count": null,
   "id": "eafa3853",
   "metadata": {},
   "outputs": [],
   "source": []
  },
  {
   "cell_type": "code",
   "execution_count": null,
   "id": "52829330",
   "metadata": {},
   "outputs": [],
   "source": []
  },
  {
   "cell_type": "code",
   "execution_count": null,
   "id": "3e59634d",
   "metadata": {},
   "outputs": [],
   "source": [
    "df1.plot()"
   ]
  },
  {
   "cell_type": "code",
   "execution_count": null,
   "id": "0a6be31d",
   "metadata": {},
   "outputs": [],
   "source": [
    "df1.iplot()            ######  will show an error "
   ]
  },
  {
   "cell_type": "code",
   "execution_count": null,
   "id": "3b4d8fc5",
   "metadata": {},
   "outputs": [],
   "source": [
    "###  so for removing error use\n",
    "py.offline.init_notebook_mode(connected=True)\n",
    "cf.go_offline()"
   ]
  },
  {
   "cell_type": "code",
   "execution_count": null,
   "id": "e0b857bc",
   "metadata": {},
   "outputs": [],
   "source": [
    "### now run again df1.iplot()\n",
    "\n",
    "df1.iplot()"
   ]
  },
  {
   "cell_type": "code",
   "execution_count": null,
   "id": "b6be448c",
   "metadata": {},
   "outputs": [],
   "source": [
    "df2"
   ]
  },
  {
   "cell_type": "code",
   "execution_count": null,
   "id": "78f7984a",
   "metadata": {},
   "outputs": [],
   "source": [
    "df2.iplot(kind ='scatter',x = 'fare',y = 'age',colors = 'blue')"
   ]
  },
  {
   "cell_type": "code",
   "execution_count": null,
   "id": "7479f7a8",
   "metadata": {},
   "outputs": [],
   "source": [
    "df2.iplot(kind ='scatter',x = 'fare',y = 'age')"
   ]
  },
  {
   "cell_type": "code",
   "execution_count": null,
   "id": "f33d1bfe",
   "metadata": {},
   "outputs": [],
   "source": [
    "df2.iplot(kind ='bar',x = 'fare',y = 'age',)"
   ]
  },
  {
   "cell_type": "code",
   "execution_count": null,
   "id": "4534b592",
   "metadata": {},
   "outputs": [],
   "source": [
    "df2.iplot(kind ='scatter',mode = 'markers',x = 'fare',y = 'age',)"
   ]
  },
  {
   "cell_type": "code",
   "execution_count": null,
   "id": "1725d834",
   "metadata": {},
   "outputs": [],
   "source": [
    "df2.iplot(kind ='scatter',mode = 'markers',x = 'fare',y = 'age',xTitle='fare',yTitle = 'age')"
   ]
  },
  {
   "cell_type": "code",
   "execution_count": null,
   "id": "6e99cdc9",
   "metadata": {},
   "outputs": [],
   "source": [
    "#####  to get themes using cufflinks"
   ]
  },
  {
   "cell_type": "code",
   "execution_count": null,
   "id": "3b647c10",
   "metadata": {},
   "outputs": [],
   "source": [
    "cf.getTheme()"
   ]
  },
  {
   "cell_type": "code",
   "execution_count": null,
   "id": "ab044e4d",
   "metadata": {},
   "outputs": [],
   "source": [
    "#### how to set theme"
   ]
  },
  {
   "cell_type": "code",
   "execution_count": null,
   "id": "061713c7",
   "metadata": {},
   "outputs": [],
   "source": [
    "cf.set_config_file(theme = 'polar')\n",
    "df2.iplot(kind ='scatter',mode = 'markers',x = 'fare',y = 'age',xTitle='fare',yTitle = 'age')"
   ]
  },
  {
   "cell_type": "code",
   "execution_count": null,
   "id": "39d67766",
   "metadata": {},
   "outputs": [],
   "source": [
    "cf.set_config_file(theme = 'pearl')\n",
    "df2.iplot(kind ='scatter',mode = 'markers',x = 'fare',y = 'age',xTitle='fare',yTitle = 'age')"
   ]
  },
  {
   "cell_type": "code",
   "execution_count": null,
   "id": "79605c8f",
   "metadata": {},
   "outputs": [],
   "source": [
    "cf.set_config_file(theme = 'white')\n",
    "df2.iplot(kind ='scatter',mode = 'markers',x = 'fare',y = 'age',xTitle='fare',yTitle = 'age')"
   ]
  },
  {
   "cell_type": "code",
   "execution_count": null,
   "id": "11787c01",
   "metadata": {},
   "outputs": [],
   "source": [
    "cf.set_config_file(theme = 'solar')\n",
    "df2.iplot(kind ='scatter',mode = 'markers',x = 'fare',y = 'age',xTitle='fare',yTitle = 'age')"
   ]
  },
  {
   "cell_type": "code",
   "execution_count": null,
   "id": "a039935f",
   "metadata": {},
   "outputs": [],
   "source": []
  },
  {
   "cell_type": "code",
   "execution_count": null,
   "id": "7cdf4f0f",
   "metadata": {},
   "outputs": [],
   "source": []
  },
  {
   "cell_type": "code",
   "execution_count": null,
   "id": "1f8e017a",
   "metadata": {},
   "outputs": [],
   "source": []
  },
  {
   "cell_type": "code",
   "execution_count": null,
   "id": "7b90fcd9",
   "metadata": {},
   "outputs": [],
   "source": []
  },
  {
   "cell_type": "code",
   "execution_count": null,
   "id": "113b3764",
   "metadata": {},
   "outputs": [],
   "source": []
  },
  {
   "cell_type": "code",
   "execution_count": null,
   "id": "7410a44d",
   "metadata": {},
   "outputs": [],
   "source": []
  },
  {
   "cell_type": "code",
   "execution_count": null,
   "id": "7939f46a",
   "metadata": {},
   "outputs": [],
   "source": []
  },
  {
   "cell_type": "code",
   "execution_count": null,
   "id": "b7b15ac2",
   "metadata": {},
   "outputs": [],
   "source": []
  },
  {
   "cell_type": "code",
   "execution_count": null,
   "id": "b71278d7",
   "metadata": {},
   "outputs": [],
   "source": []
  },
  {
   "cell_type": "code",
   "execution_count": null,
   "id": "40bbefd0",
   "metadata": {},
   "outputs": [],
   "source": []
  },
  {
   "cell_type": "code",
   "execution_count": null,
   "id": "5ada085e",
   "metadata": {},
   "outputs": [],
   "source": []
  },
  {
   "cell_type": "code",
   "execution_count": null,
   "id": "0e408feb",
   "metadata": {},
   "outputs": [],
   "source": []
  },
  {
   "cell_type": "code",
   "execution_count": null,
   "id": "8d1087d5",
   "metadata": {},
   "outputs": [],
   "source": []
  },
  {
   "cell_type": "code",
   "execution_count": null,
   "id": "612e6ba5",
   "metadata": {},
   "outputs": [],
   "source": []
  },
  {
   "cell_type": "code",
   "execution_count": null,
   "id": "00c3a9ed",
   "metadata": {},
   "outputs": [],
   "source": []
  },
  {
   "cell_type": "code",
   "execution_count": null,
   "id": "0e4ac59f",
   "metadata": {},
   "outputs": [],
   "source": []
  }
 ],
 "metadata": {
  "kernelspec": {
   "display_name": "Python 3 (ipykernel)",
   "language": "python",
   "name": "python3"
  },
  "language_info": {
   "codemirror_mode": {
    "name": "ipython",
    "version": 3
   },
   "file_extension": ".py",
   "mimetype": "text/x-python",
   "name": "python",
   "nbconvert_exporter": "python",
   "pygments_lexer": "ipython3",
   "version": "3.9.7"
  }
 },
 "nbformat": 4,
 "nbformat_minor": 5
}
