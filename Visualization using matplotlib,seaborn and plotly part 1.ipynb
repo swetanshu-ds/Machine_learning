{
 "cells": [
  {
   "cell_type": "code",
   "execution_count": null,
   "id": "ada85829",
   "metadata": {},
   "outputs": [],
   "source": [
    "import pandas as pd"
   ]
  },
  {
   "cell_type": "code",
   "execution_count": null,
   "id": "a31a9d91",
   "metadata": {},
   "outputs": [],
   "source": [
    "import numpy as np\n",
    "import matplotlib.pyplot as plt\n",
    "import seaborn  as sns\n",
    "from plotly.offline import iplot\n",
    "import plotly as py\n",
    "import plotly.tools as tls\n",
    "import cufflinks as cf\n",
    "%matplotlib inline "
   ]
  },
  {
   "cell_type": "code",
   "execution_count": null,
   "id": "74ad99f1",
   "metadata": {},
   "outputs": [],
   "source": [
    "####  if we have to use plotly in local system than we have to use plotly offline  as py.offline.init_notebook_mode(connected = True)\n",
    "\n",
    "py.offline.init_notebook_mode(connected = True)\n",
    "cf.go_offline()"
   ]
  },
  {
   "cell_type": "code",
   "execution_count": null,
   "id": "9479ac11",
   "metadata": {},
   "outputs": [],
   "source": [
    "df = pd.DataFrame(np.random.rand(300,3),columns = ['a',\"b\",\"c\"])"
   ]
  },
  {
   "cell_type": "code",
   "execution_count": null,
   "id": "d5978820",
   "metadata": {},
   "outputs": [],
   "source": [
    "df"
   ]
  },
  {
   "cell_type": "code",
   "execution_count": null,
   "id": "87b2cd3d",
   "metadata": {},
   "outputs": [],
   "source": [
    "df.iplot(x = 'a',y='b')"
   ]
  },
  {
   "cell_type": "code",
   "execution_count": null,
   "id": "40a264fa",
   "metadata": {},
   "outputs": [],
   "source": [
    "df.iplot(x = 'a',y='b',mode = 'markers')"
   ]
  },
  {
   "cell_type": "code",
   "execution_count": null,
   "id": "5f9cfd81",
   "metadata": {},
   "outputs": [],
   "source": [
    "titanic = sns.load_dataset('titanic')"
   ]
  },
  {
   "cell_type": "code",
   "execution_count": null,
   "id": "176df1ce",
   "metadata": {},
   "outputs": [],
   "source": [
    "titanic"
   ]
  },
  {
   "cell_type": "code",
   "execution_count": null,
   "id": "3b553b64",
   "metadata": {},
   "outputs": [],
   "source": [
    "titanic.iplot(x = 'sex',y='survived',kind = 'bar')"
   ]
  },
  {
   "cell_type": "code",
   "execution_count": null,
   "id": "443a087f",
   "metadata": {},
   "outputs": [],
   "source": [
    "titanic.iplot(x='fare',y='age',mode='markers',color = 'blue')"
   ]
  },
  {
   "cell_type": "code",
   "execution_count": null,
   "id": "2bfdc0e7",
   "metadata": {},
   "outputs": [],
   "source": [
    "titanic.iplot(x='fare',y='age',mode='markers',color = 'blue',xTitle = 'fare',yTitle = 'age')"
   ]
  },
  {
   "cell_type": "code",
   "execution_count": null,
   "id": "4c457b28",
   "metadata": {},
   "outputs": [],
   "source": [
    "cf.set_config_file(theme = 'solar')                                        #######    cf.set_config_file(theme = 'solar')   \n",
    "                                                                           #######    is used to change the background color as \n",
    "                                                                           #######     solar that is black blackground and orange\n",
    "                                                                           #######      markers\n",
    "\n",
    "\n",
    "titanic.iplot(x='fare',y='age',mode='markers',color = 'blue',xTitle = 'fare',yTitle = 'age')"
   ]
  },
  {
   "cell_type": "code",
   "execution_count": null,
   "id": "496c1979",
   "metadata": {},
   "outputs": [],
   "source": [
    "df"
   ]
  },
  {
   "cell_type": "code",
   "execution_count": null,
   "id": "00dbfd2e",
   "metadata": {},
   "outputs": [],
   "source": [
    "df.iplot(kind = 'box')\n",
    "\n",
    "\n",
    "####   max = Q3  +  1.5*(I.Q.R.)\n",
    "####   min = Q1  -  1.5*(I.Q.R.)\n",
    "####   I.Q.R.  =  Q3  - Q1"
   ]
  },
  {
   "cell_type": "code",
   "execution_count": null,
   "id": "89b1f8f9",
   "metadata": {},
   "outputs": [],
   "source": [
    "df1 = pd.DataFrame([1,2,1,2,4,5,8,10,11,2,1,3,4,5,2,110,111])"
   ]
  },
  {
   "cell_type": "code",
   "execution_count": null,
   "id": "711026a0",
   "metadata": {},
   "outputs": [],
   "source": [
    "df1.iplot(kind = 'box')                           ##### if line is too high than there is a outlier \n",
    "################                                  ###   outlier denoted by rhombus shape structure or 2D diamond shape structure\n",
    "sns.boxplot(data = df1)"
   ]
  },
  {
   "cell_type": "code",
   "execution_count": null,
   "id": "94f60401",
   "metadata": {},
   "outputs": [],
   "source": [
    "import scipy.stats as stats\n",
    "a = [1,2,1,2,4,5,8,10,11,2,1,3,4,5,2,110,111]\n",
    "stats.iqr(a)"
   ]
  },
  {
   "cell_type": "code",
   "execution_count": null,
   "id": "e58c9ccf",
   "metadata": {},
   "outputs": [],
   "source": [
    "plt.boxplot(a)\n",
    "plt.show()"
   ]
  },
  {
   "cell_type": "code",
   "execution_count": null,
   "id": "e1729b1c",
   "metadata": {},
   "outputs": [],
   "source": [
    "df2 = pd.DataFrame(a)\n",
    "df.iplot()"
   ]
  },
  {
   "cell_type": "markdown",
   "id": "27acbc9f",
   "metadata": {},
   "source": [
    "# 3D plot"
   ]
  },
  {
   "cell_type": "code",
   "execution_count": null,
   "id": "512d252a",
   "metadata": {},
   "outputs": [],
   "source": [
    "df"
   ]
  },
  {
   "cell_type": "code",
   "execution_count": null,
   "id": "1064f291",
   "metadata": {},
   "outputs": [],
   "source": [
    "df.iplot(x='a',y='b',z='c',kind='scatter3d')"
   ]
  },
  {
   "cell_type": "code",
   "execution_count": null,
   "id": "247dc526",
   "metadata": {},
   "outputs": [],
   "source": [
    "df.iloc[12]"
   ]
  },
  {
   "cell_type": "code",
   "execution_count": null,
   "id": "7cd24502",
   "metadata": {},
   "outputs": [],
   "source": [
    "df.a"
   ]
  },
  {
   "cell_type": "code",
   "execution_count": null,
   "id": "a5054443",
   "metadata": {},
   "outputs": [],
   "source": [
    "df['a1'] = df.a + 10 "
   ]
  },
  {
   "cell_type": "code",
   "execution_count": null,
   "id": "e8d9dafa",
   "metadata": {},
   "outputs": [],
   "source": [
    "df['b1'] = df.a + 30"
   ]
  },
  {
   "cell_type": "code",
   "execution_count": null,
   "id": "0c052885",
   "metadata": {},
   "outputs": [],
   "source": [
    "df"
   ]
  },
  {
   "cell_type": "code",
   "execution_count": null,
   "id": "4b242ab2",
   "metadata": {},
   "outputs": [],
   "source": [
    "df.iplot(x='a',y='a1',z='b1',kind='scatter3d')"
   ]
  },
  {
   "cell_type": "code",
   "execution_count": null,
   "id": "b653eed1",
   "metadata": {},
   "outputs": [],
   "source": [
    "df3.iplot(x='fare',y='age',z='pclass',kind='scatter3d')"
   ]
  },
  {
   "cell_type": "code",
   "execution_count": null,
   "id": "a92302ec",
   "metadata": {},
   "outputs": [],
   "source": [
    "df3 = sns.load_dataset(\"titanic\")"
   ]
  },
  {
   "cell_type": "code",
   "execution_count": null,
   "id": "fae36edb",
   "metadata": {},
   "outputs": [],
   "source": [
    "df3"
   ]
  },
  {
   "cell_type": "code",
   "execution_count": null,
   "id": "6379dd22",
   "metadata": {},
   "outputs": [],
   "source": [
    "df3.iplot(x='fare',y='age',z='pclass',kind='bubble3d',size = 'pclass')"
   ]
  },
  {
   "cell_type": "code",
   "execution_count": null,
   "id": "c5870d90",
   "metadata": {},
   "outputs": [],
   "source": [
    "df3.iplot(x='fare',y='age',z='pclass',kind='bubble3d',size = 'fare')"
   ]
  },
  {
   "cell_type": "code",
   "execution_count": null,
   "id": "f6a4964b",
   "metadata": {},
   "outputs": [],
   "source": [
    "import plotly.express as px"
   ]
  },
  {
   "cell_type": "code",
   "execution_count": null,
   "id": "55ac0f4b",
   "metadata": {},
   "outputs": [],
   "source": [
    "df = px.data.iris()\n",
    "fig = px.scatter_matrix(df,dimensions = ['sepal_width','sepal_length','petal_width','petal_length'],color = \"species\")\n",
    "fig.show()"
   ]
  },
  {
   "cell_type": "code",
   "execution_count": null,
   "id": "3e03f983",
   "metadata": {},
   "outputs": [],
   "source": [
    "fig =px.parallel_coordinates(df,color='species_id',labels = {\"species_id\":\"Species\",\n",
    "                                                            \"sepal_width\":\"Sepal Width\",\"sepal_length\":\"Sepal Length\",\n",
    "                                                            \"petal_width\":\"Petal Width\",\"petal_length\":\"Petal Length\",},\n",
    "                                                            color_continuous_scale=px.colors.diverging.Tealrose,color_continuous_midpoint=2)\n",
    "fig.show()"
   ]
  },
  {
   "cell_type": "code",
   "execution_count": null,
   "id": "bfef30ce",
   "metadata": {},
   "outputs": [],
   "source": [
    "###   Multidimensional parellel coordinates\n",
    "import plotly.express as px\n",
    "df = px.data.iris()\n",
    "fig = px.parallel_categories(df,color='petal_width',color_continuous_scale=px.colors.sequential.Inferno)\n",
    "fig.show()"
   ]
  },
  {
   "cell_type": "code",
   "execution_count": null,
   "id": "170ea5c4",
   "metadata": {},
   "outputs": [],
   "source": [
    "###   Multidimensional parellel coordinates\n",
    "import plotly.express as px\n",
    "df = px.data.iris()\n",
    "fig = px.parallel_categories(df,color='size',color_continuous_scale=px.colors.sequential.Inferno)\n",
    "fig.show()"
   ]
  },
  {
   "cell_type": "code",
   "execution_count": null,
   "id": "540430c2",
   "metadata": {},
   "outputs": [],
   "source": [
    "px.data.gapminder()"
   ]
  },
  {
   "cell_type": "code",
   "execution_count": null,
   "id": "e0823bd3",
   "metadata": {},
   "outputs": [],
   "source": [
    "####  Animations\n",
    "import plotly.express as px\n",
    "df = px.data.gapminder()\n",
    "fig = px.scatter(df.query(\"year==2007\"),x=\"gdpPercap\",y=\"lifeExp\",size = \"pop\",color = \"continent\",hover_name=\"country\",log_x=True,\n",
    "                size_max=60)\n",
    "fig.show()"
   ]
  },
  {
   "cell_type": "code",
   "execution_count": null,
   "id": "13177368",
   "metadata": {},
   "outputs": [],
   "source": [
    "####  Animations\n",
    "import plotly.express as px\n",
    "df = px.data.gapminder()\n",
    "fig = px.scatter(df,x=\"gdpPercap\",y=\"lifeExp\",animation_frame=\"year\",animation_group=\"country\",size=\"pop\",\n",
    "                color = \"continent\",hover_name=\"country\",log_x=True,\n",
    "                size_max=45,facet_col=\"continent\",range_x=[100,100000],range_y=[25,90])\n",
    "fig.show()"
   ]
  },
  {
   "cell_type": "code",
   "execution_count": null,
   "id": "778a0a48",
   "metadata": {},
   "outputs": [],
   "source": [
    "####  Animations                                                #############  bubble size is determined by size in here so change size from pop to iso_num changed the bubble size also\n",
    "import plotly.express as px\n",
    "df = px.data.gapminder()\n",
    "fig = px.scatter(df,x=\"gdpPercap\",y=\"lifeExp\",animation_frame=\"year\",animation_group=\"country\",size=\"iso_num\",\n",
    "                color = \"continent\",hover_name=\"country\",log_x=True,\n",
    "                size_max=45,facet_col=\"continent\",range_x=[100,100000],range_y=[25,90])\n",
    "fig.show()"
   ]
  },
  {
   "cell_type": "code",
   "execution_count": null,
   "id": "bfb2cf5b",
   "metadata": {},
   "outputs": [],
   "source": [
    "####  Line chart\n",
    "\n",
    "\n",
    "import plotly.express as px\n",
    "df = px.data.gapminder()\n",
    "fig = px.line(df,x=\"year\",y=\"lifeExp\",color = \"continent\",line_group=\"country\",hover_name=\"country\",line_shape=\"spline\",render_mode=\"svg\")\n",
    "fig.show()"
   ]
  },
  {
   "cell_type": "code",
   "execution_count": null,
   "id": "8a57735d",
   "metadata": {},
   "outputs": [],
   "source": [
    "####    Area Charts\n",
    "\n",
    "import plotly.express as px\n",
    "df = px.data.gapminder()\n",
    "fig = px.area(df,x=\"year\",y=\"pop\",color = \"continent\",line_group=\"country\")\n",
    "fig.show()"
   ]
  },
  {
   "cell_type": "code",
   "execution_count": null,
   "id": "a6f01d27",
   "metadata": {},
   "outputs": [],
   "source": [
    "#### Pie Charts\n",
    "\n",
    "\n",
    "import plotly.express as px\n",
    "df = px.data.gapminder().query(\"year==2007\").query(\"continent=='Europe'\")\n",
    "df.loc[df['pop']<2.e6,'country'] = 'Other countries'      #### Represent only large countries\n",
    "fig = px.pie(df,values='pop',names='country',title='Population of European continent')\n",
    "fig.show()"
   ]
  },
  {
   "cell_type": "code",
   "execution_count": null,
   "id": "13122418",
   "metadata": {},
   "outputs": [],
   "source": [
    "df = px.data.gapminder()"
   ]
  },
  {
   "cell_type": "code",
   "execution_count": null,
   "id": "43f08971",
   "metadata": {},
   "outputs": [],
   "source": [
    "df.query(\"year==2007\")"
   ]
  },
  {
   "cell_type": "code",
   "execution_count": null,
   "id": "530635e3",
   "metadata": {},
   "outputs": [],
   "source": [
    "df.query(\"year==2007\").query(\"continent == 'Europe'\")"
   ]
  },
  {
   "cell_type": "code",
   "execution_count": null,
   "id": "b2de3049",
   "metadata": {},
   "outputs": [],
   "source": [
    "####  Sunburst Chart\n",
    "import plotly.express as px\n",
    "df = px.data.gapminder().query(\"year==2007\")\n",
    "fig = px.sunburst(df,path=['continent','country'],values='pop',\n",
    "                 color = 'lifeExp',hover_data=['iso_alpha'])\n",
    "fig.show()"
   ]
  },
  {
   "cell_type": "code",
   "execution_count": null,
   "id": "0aadfbda",
   "metadata": {},
   "outputs": [],
   "source": [
    "##### Treemaps\n",
    "\n",
    "import plotly.express as px\n",
    "df = px.data.gapminder().query(\"year==2007\")\n",
    "fig = px.treemap(df,path=[px.Constant('world'),'continent','country'],values='pop',\n",
    "                color='lifeExp',hover_data=['iso_alpha'])\n",
    "fig.show()"
   ]
  },
  {
   "cell_type": "code",
   "execution_count": null,
   "id": "9dd29940",
   "metadata": {},
   "outputs": [],
   "source": [
    "##### Treemaps\n",
    "\n",
    "import plotly.express as px\n",
    "df = px.data.gapminder().query(\"year==2007\")\n",
    "fig = px.treemap(df,path=[px.Constant('Swetanshu'),'continent','country'],values='pop',\n",
    "                color='lifeExp',hover_data=['iso_alpha'])\n",
    "fig.show()"
   ]
  },
  {
   "cell_type": "markdown",
   "id": "a19b35ff",
   "metadata": {},
   "source": [
    "#####  DISTRIBUTIONS"
   ]
  },
  {
   "cell_type": "code",
   "execution_count": null,
   "id": "ada73538",
   "metadata": {},
   "outputs": [],
   "source": [
    "###  histograms\n",
    "\n",
    "\n",
    "\n",
    "\n",
    "import plotly.express as px\n",
    "df = px.data.tips()\n",
    "fig = px.histogram(df,x=\"total_bill\",y = \"tip\",color=\"sex\",marginal=\"rug\",hover_data=df.columns)\n",
    "fig.show()"
   ]
  },
  {
   "cell_type": "code",
   "execution_count": null,
   "id": "f221e0a2",
   "metadata": {},
   "outputs": [],
   "source": [
    "#### Box plots\n",
    "\n",
    "import plotly.express as px\n",
    "df = px.data.tips()\n",
    "fig = px.box(df,x='day',y='total_bill',color='smoker',notched=True)\n",
    "fig.show()"
   ]
  },
  {
   "cell_type": "code",
   "execution_count": null,
   "id": "86c38a59",
   "metadata": {},
   "outputs": [],
   "source": [
    "px.data.tips()"
   ]
  },
  {
   "cell_type": "code",
   "execution_count": null,
   "id": "cb842ae6",
   "metadata": {},
   "outputs": [],
   "source": [
    "#### Box plots\n",
    "\n",
    "import plotly.express as px\n",
    "df = px.data.tips()\n",
    "fig = px.box(df,x='day',y='total_bill',color='smoker')\n",
    "fig.show()"
   ]
  },
  {
   "cell_type": "code",
   "execution_count": null,
   "id": "ea3cab6f",
   "metadata": {},
   "outputs": [],
   "source": [
    "#### Box plots\n",
    "\n",
    "import plotly.express as px\n",
    "df = px.data.tips()\n",
    "fig = px.box(df,x='day',y='tip',color='smoker',notched=True)\n",
    "fig.show()"
   ]
  },
  {
   "cell_type": "code",
   "execution_count": null,
   "id": "cb0df604",
   "metadata": {},
   "outputs": [],
   "source": [
    "###  Violin Plots\n",
    "\n",
    "\n",
    "import plotly.express as px\n",
    "df = px.data.tips()\n",
    "fig = px.violin(df,y='tip',x='smoker',color=\"sex\",box=True,points=\"all\",hover_data=df.columns)\n",
    "fig.show()"
   ]
  },
  {
   "cell_type": "code",
   "execution_count": null,
   "id": "c4fa4b7b",
   "metadata": {},
   "outputs": [],
   "source": [
    "###  Strip Plots\n",
    "\n",
    "\n",
    "import plotly.express as px\n",
    "df = px.data.tips()\n",
    "fig = px.strip(df,x='total_bill',y='time',orientation=\"h\",color=\"smoker\")\n",
    "fig.show()"
   ]
  },
  {
   "cell_type": "code",
   "execution_count": null,
   "id": "13258281",
   "metadata": {},
   "outputs": [],
   "source": [
    "###  Strip Plots\n",
    "\n",
    "\n",
    "import plotly.express as px\n",
    "df = px.data.tips()\n",
    "fig = px.strip(df,x='total_bill',y='time',color=\"smoker\")\n",
    "fig.show()"
   ]
  },
  {
   "cell_type": "code",
   "execution_count": null,
   "id": "492dff26",
   "metadata": {},
   "outputs": [],
   "source": [
    "#####  Density Contour Plot\n",
    "\n",
    "\n",
    "import plotly.express as px\n",
    "df = px.data.iris()\n",
    "fig = px.density_contour(df,x=\"sepal_width\",y=\"sepal_length\")\n",
    "fig.show()"
   ]
  },
  {
   "cell_type": "code",
   "execution_count": null,
   "id": "e2425f6b",
   "metadata": {},
   "outputs": [],
   "source": [
    "#####  Density Contour Plot  with distribution\n",
    "  \n",
    "\n",
    "import plotly.express as px\n",
    "df = px.data.iris()\n",
    "fig = px.density_contour(df,x=\"sepal_width\",y=\"sepal_length\",color='species',marginal_x=\"rug\",marginal_y=\"histogram\")\n",
    "fig.show()"
   ]
  },
  {
   "cell_type": "code",
   "execution_count": null,
   "id": "19d6af9f",
   "metadata": {},
   "outputs": [],
   "source": [
    "#####  HEatmaps and images\n",
    "\n",
    "\n",
    "\n",
    "import plotly.express as px\n",
    "\n",
    "fig= px.imshow([[1,40,30],\n",
    "              [20,1,60],\n",
    "               [30,90,1]])\n",
    "fig.show()"
   ]
  },
  {
   "cell_type": "code",
   "execution_count": null,
   "id": "21087183",
   "metadata": {},
   "outputs": [],
   "source": [
    "###   RGB Image  show\n",
    "\n",
    "import plotly.express as px\n",
    "import numpy as np\n",
    "img_rgb = np.array([[[255,0,0],[0,255,0],[0,0,255]],\n",
    "                   [[0,255,0],[0,0,255],[255,0,0]] \n",
    "                   ],dtype=np.uint8)\n",
    "fig = px.imshow(img_rgb)\n",
    "fig.show()"
   ]
  },
  {
   "cell_type": "code",
   "execution_count": null,
   "id": "3622fcb0",
   "metadata": {},
   "outputs": [],
   "source": [
    "####   3d scatter plots\n",
    "import plotly.express as px\n",
    "\n",
    "df =px.data.election()\n",
    "fig = px.scatter_3d(df,x='Joly',y='Coderre',z=\"Bergeron\",color=\"winner\",size=\"total\",hover_name=\"district\",\n",
    "                   symbol=\"result\",color_discrete_map={\"Joly\":\"blue\",\"Bergeron\":\"green\",\"Coderre\":\"red\"})\n",
    "\n",
    "fig.show()"
   ]
  },
  {
   "cell_type": "code",
   "execution_count": null,
   "id": "c4ea2627",
   "metadata": {},
   "outputs": [],
   "source": [
    "px.data.election()"
   ]
  },
  {
   "cell_type": "code",
   "execution_count": null,
   "id": "ab795d3f",
   "metadata": {},
   "outputs": [],
   "source": [
    "####   Scatter Mapbox\n",
    "\n",
    "\n",
    "import plotly.express as px\n",
    "df = px.data.carshare()\n",
    "\n",
    "fig = px.scatter_mapbox(df,lat=\"centroid_lat\",lon=\"centroid_lon\",color=\"peak_hour\",size=\"car_hours\",\n",
    "                       color_continuous_scale=px.colors.cyclical.IceFire,size_max=15,zoom=10,\n",
    "                        mapbox_style=\"carto-positron\")\n",
    "fig.show()"
   ]
  },
  {
   "cell_type": "code",
   "execution_count": null,
   "id": "98b7943e",
   "metadata": {},
   "outputs": [],
   "source": [
    "px.data.carshare()"
   ]
  },
  {
   "cell_type": "code",
   "execution_count": null,
   "id": "4c804173",
   "metadata": {},
   "outputs": [],
   "source": [
    "#### Tile map GeoJSON choropleths\n",
    "\n",
    "import plotly.express as px\n",
    "df = px.data.election()\n",
    "geojson = px.data.election_geojson()\n",
    "fig = px.choropleth_mapbox(df,geojson=geojson,color='Bergeron',\n",
    "                          locations = 'district',featureidkey=\"properties.district\",\n",
    "                          center={\"lat\":45.5517,\"lon\":-73.7073},\n",
    "                          mapbox_style=\"carto-positron\",zoom=9)\n",
    "fig.show()"
   ]
  },
  {
   "cell_type": "code",
   "execution_count": null,
   "id": "b71596d8",
   "metadata": {},
   "outputs": [],
   "source": [
    "px.data.election_geojson()"
   ]
  },
  {
   "cell_type": "code",
   "execution_count": null,
   "id": "d9c74135",
   "metadata": {},
   "outputs": [],
   "source": [
    "px.data.election()"
   ]
  },
  {
   "cell_type": "code",
   "execution_count": null,
   "id": "0e109729",
   "metadata": {},
   "outputs": [],
   "source": [
    "###  Outline symbol maps\n",
    "\n",
    "import plotly.express as px\n",
    "\n",
    "df = px.data.gapminder()\n",
    "fig=px.scatter_geo(df,locations=\"iso_alpha\",color=\"continent\",hover_name=\"country\",size=\"pop\",\n",
    "                   animation_frame=\"year\",projection=\"natural earth\")\n",
    "fig.show()"
   ]
  },
  {
   "cell_type": "code",
   "execution_count": null,
   "id": "f4ebaacf",
   "metadata": {},
   "outputs": [],
   "source": [
    "import plotly.express as px\n",
    "\n",
    "df = px.data.gapminder()\n",
    "fig=px.choropleth(df,locations=\"iso_alpha\",color=\"lifeExp\",hover_name=\"country\",\n",
    "                   animation_frame=\"year\",range_color=[20,80],projection=\"natural earth\")\n",
    "fig.show()"
   ]
  },
  {
   "cell_type": "code",
   "execution_count": null,
   "id": "33fffb15",
   "metadata": {},
   "outputs": [],
   "source": [
    "import plotly.express as px\n",
    "\n",
    "df = px.data.gapminder()\n",
    "fig=px.choropleth(df,locations=\"iso_alpha\",color=\"lifeExp\",hover_name=\"country\",\n",
    "                   animation_frame=\"year\",range_color=[20,80])\n",
    "fig.show()"
   ]
  },
  {
   "cell_type": "code",
   "execution_count": null,
   "id": "65f67a52",
   "metadata": {},
   "outputs": [],
   "source": [
    "####   Polar plots\n",
    "\n",
    "import plotly.express as px\n",
    "\n",
    "df = px.data.wind()\n",
    "\n",
    "fig = px.scatter_polar(df,r = \"frequency\",theta=\"direction\",color=\"strength\",symbol=\"strength\",\n",
    "                       color_discrete_sequence=px.colors.sequential.Plasma_r)\n",
    "fig.show()"
   ]
  },
  {
   "cell_type": "code",
   "execution_count": null,
   "id": "17f110c4",
   "metadata": {},
   "outputs": [],
   "source": [
    "px.data.wind()"
   ]
  },
  {
   "cell_type": "code",
   "execution_count": null,
   "id": "c7bc7a56",
   "metadata": {},
   "outputs": [],
   "source": [
    "####  Radar Charts\n",
    "\n",
    "import plotly.express as px\n",
    "\n",
    "df = px.data.wind()\n",
    "fig = px.line_polar(df,r = \"frequency\",theta=\"direction\",color=\"strength\",line_close=True,\n",
    "                    color_discrete_sequence=px.colors.sequential.Plasma_r)\n",
    "fig.show()"
   ]
  },
  {
   "cell_type": "code",
   "execution_count": null,
   "id": "5808b6ff",
   "metadata": {},
   "outputs": [],
   "source": [
    "#####  Polar bar charts\n",
    "\n",
    "import plotly.express as px\n",
    "\n",
    "df = px.data.wind()\n",
    "fig = px.bar_polar(df,r = \"frequency\",theta=\"direction\",color=\"strength\",template=\"plotly_dark\",\n",
    "                    color_discrete_sequence=px.colors.sequential.Plasma_r)\n",
    "fig.show()"
   ]
  },
  {
   "cell_type": "code",
   "execution_count": null,
   "id": "b79e5c01",
   "metadata": {},
   "outputs": [],
   "source": [
    "####   Ternary Coordinates\n",
    "\n",
    "import plotly.express as px\n",
    "\n",
    "df = px.data.election()\n",
    "fig = px.scatter_ternary(df,a = \"Joly\",b = \"Coderre\",c=\"Bergeron\",color=\"winner\",size=\"total\",hover_name=\"district\",\n",
    "                         size_max=15,color_discrete_map={\"Joly\":\"blue\",\"Bergeron\":\"green\",\"Coderre\":\"red\"})\n",
    "\n",
    "fig.show()"
   ]
  },
  {
   "cell_type": "code",
   "execution_count": null,
   "id": "e7280c1e",
   "metadata": {},
   "outputs": [],
   "source": []
  },
  {
   "cell_type": "code",
   "execution_count": null,
   "id": "82ce1a8f",
   "metadata": {},
   "outputs": [],
   "source": []
  }
 ],
 "metadata": {
  "kernelspec": {
   "display_name": "Python 3 (ipykernel)",
   "language": "python",
   "name": "python3"
  },
  "language_info": {
   "codemirror_mode": {
    "name": "ipython",
    "version": 3
   },
   "file_extension": ".py",
   "mimetype": "text/x-python",
   "name": "python",
   "nbconvert_exporter": "python",
   "pygments_lexer": "ipython3",
   "version": "3.9.7"
  }
 },
 "nbformat": 4,
 "nbformat_minor": 5
}
